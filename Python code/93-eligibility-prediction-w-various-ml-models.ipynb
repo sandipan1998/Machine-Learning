{
 "cells": [
  {
   "cell_type": "markdown",
   "metadata": {
    "id": "fJE9JR7JSj8O"
   },
   "source": [
    "# 1. Introduction 👋\n",
    "\n",
    "<center><img src=\"https://images.unsplash.com/photo-1553729459-efe14ef6055d?ixid=MnwxMjA3fDB8MHxwaG90by1wYWdlfHx8fGVufDB8fHx8&ixlib=rb-1.2.1&auto=format&fit=crop&w=2070&q=80\" alt=\"Loan Picture\" width=\"600\" height=\"600\"></center><br>\n",
    "\n",
    "## Data Set Problems 🤔\n",
    "\n",
    "👉 The company seeks **to automate (in real time) the loan qualifying procedure** based on information given by customers while filling out an online application form. It is expected that the development of ML models that can help the company predict loan approval in **accelerating decision-making process** for determining whether an applicant is eligible for a loan or not.\n",
    "\n",
    "---\n",
    "\n",
    "## Objectives of Notebook 📌\n",
    "👉 **This notebook aims to:**\n",
    "*   Analyze customer data provided in data set (EDA)\n",
    "*   Build various ML models that can predict loan approval\n",
    "\n",
    "👨‍💻 **The machine learning models used in this project are:** \n",
    "1. Logistic Regression\n",
    "2. K-Nearest Neighbour (KNN)\n",
    "3. Support Vector Machine (SVM)\n",
    "4. Naive Bayes\n",
    "5. Decision Tree\n",
    "6. Random Forest\n",
    "7. Gradient Boost\n",
    "\n",
    "---\n",
    "\n",
    "## Data Set Description 🧾\n",
    "👉 There are **13 variables** in this data set:\n",
    "*   **8 categorical** variables,\n",
    "*   **4 continuous** variables, and\n",
    "*   **1** variable to accommodate the loan ID.\n",
    "\n",
    "<br>\n",
    "\n",
    "👉 The following is the **structure of the data set**.\n",
    "\n",
    "\n",
    "<table style=\"width:100%\">\n",
    "<thead>\n",
    "<tr>\n",
    "<th style=\"text-align:center; font-weight: bold; font-size:14px\">Variable Name</th>\n",
    "<th style=\"text-align:center; font-weight: bold; font-size:14px\">Description</th>\n",
    "<th style=\"text-align:center; font-weight: bold; font-size:14px\">Sample Data</th>\n",
    "</tr>\n",
    "</thead>\n",
    "<tbody>\n",
    "<tr>\n",
    "<td><b>Loan_ID</b></td>\n",
    "<td>Loan reference number <br> (unique ID)</td>\n",
    "<td>LP001002; LP001003; ...</td>\n",
    "</tr>\n",
    "<tr>\n",
    "<td><b>Gender</b></td>\n",
    "<td>Applicant gender <br> (Male or Female)</td>\n",
    "<td>Male; Female</td>\n",
    "</tr>\n",
    "<tr>\n",
    "<td><b>Married</b></td>\n",
    "<td>Applicant marital status <br> (Married or not married)</td>\n",
    "<td>Married; Not Married</td>\n",
    "</tr>\n",
    "<tr>\n",
    "<td><b>Dependents</b></td>\n",
    "<td>Number of family members</td>\n",
    "<td>0; 1; 2; 3+</td>\n",
    "</tr>\n",
    "<tr>\n",
    "<td><b>Education</b></td>\n",
    "<td>Applicant education/qualification <br> (graduate or not graduate)</td>\n",
    "<td>Graduate; Under Graduate</td>\n",
    "</tr>\n",
    "<tr>\n",
    "<td><b>Self_Employed</b></td>\n",
    "<td>Applicant employment status <br> (yes for self-employed, no for employed/others)</td>\n",
    "<td>Yes; No</td>\n",
    "</tr>\n",
    "<tr>\n",
    "<td><b>ApplicantIncome</b></td>\n",
    "<td>Applicant's monthly salary/income</td>\n",
    "<td>5849; 4583; ...</td>\n",
    "</tr>\n",
    "<tr>\n",
    "<td><b>CoapplicantIncome</b></td>\n",
    "<td>Additional applicant's monthly salary/income</td>\n",
    "<td>1508; 2358; ...</td>\n",
    "</tr>\n",
    "<tr>\n",
    "<td><b>LoanAmount</b></td>\n",
    "<td>Loan amount</td>\n",
    "<td>128; 66; ...</td>\n",
    "</tr>\n",
    "<tr>\n",
    "<td><b>Loan_Amount_Term</b></td>\n",
    "<td>The loan's repayment period (in days)</td>\n",
    "<td>360; 120; ...</td>\n",
    "</tr>\n",
    "<tr>\n",
    "<td><b>Credit_History</b></td>\n",
    "<td>Records of previous credit history <br> (0: bad credit history, 1: good credit history)</td>\n",
    "<td>0; 1</td>\n",
    "</tr>\n",
    "<tr>\n",
    "<td><b>Property_Area</b></td>\n",
    "<td>The location of property <br> (Rural/Semiurban/Urban)</td>\n",
    "<td>Rural; Semiurban; Urban</td>\n",
    "</tr>\n",
    "<tr>\n",
    "<td><b>Loan_Status</b></td>\n",
    "<td>Status of loan <br> (Y: accepted, N: not accepted)</td>\n",
    "<td>Y; N</td>\n",
    "</tr>\n",
    "</tbody>\n",
    "</table>\n",
    "\n",
    "---\n",
    "\n",
    "**Like this notebook? You can support me by giving upvote** 😆👍🔼 <br>\n",
    "👉 *More about myself: [linktr.ee/caesarmario_](http://linktr.ee/caesarmario_)*"
   ]
  },
  {
   "cell_type": "markdown",
   "metadata": {
    "id": "r238zFy8f-xl"
   },
   "source": [
    "# 2. Importing Libraries 📚\n",
    "👉 Importing libraries that will be used in this notebook."
   ]
  },
  {
   "cell_type": "code",
   "execution_count": 1,
   "metadata": {
    "execution": {
     "iopub.execute_input": "2022-04-26T01:57:45.086733Z",
     "iopub.status.busy": "2022-04-26T01:57:45.086018Z",
     "iopub.status.idle": "2022-04-26T01:57:46.704519Z",
     "shell.execute_reply": "2022-04-26T01:57:46.703559Z",
     "shell.execute_reply.started": "2022-04-26T01:57:45.086598Z"
    },
    "id": "0tAGJPoeKrfI"
   },
   "outputs": [],
   "source": [
    "import numpy as np\n",
    "import pandas as pd\n",
    "import matplotlib.pyplot as plt\n",
    "import missingno as mso\n",
    "import seaborn as sns\n",
    "import warnings\n",
    "import os\n",
    "import scipy\n",
    "\n",
    "from scipy import stats\n",
    "from scipy.stats import pearsonr\n",
    "from scipy.stats import ttest_ind\n",
    "from sklearn.metrics import classification_report\n",
    "from sklearn.metrics import confusion_matrix\n",
    "from sklearn.preprocessing import MinMaxScaler\n",
    "from sklearn.model_selection import train_test_split\n",
    "from imblearn.over_sampling import SMOTE\n",
    "\n",
    "from sklearn.linear_model import LogisticRegression\n",
    "from sklearn.neighbors import KNeighborsClassifier\n",
    "from sklearn.svm import SVC\n",
    "from sklearn.naive_bayes import CategoricalNB\n",
    "from sklearn.naive_bayes import GaussianNB\n",
    "from sklearn.tree import DecisionTreeClassifier\n",
    "from sklearn.ensemble import RandomForestClassifier\n",
    "from sklearn.ensemble import GradientBoostingClassifier\n",
    "from xgboost import XGBClassifier\n",
    "from sklearn.model_selection import GridSearchCV, RandomizedSearchCV"
   ]
  },
  {
   "cell_type": "markdown",
   "metadata": {
    "id": "_3IOljdqgEd0"
   },
   "source": [
    "# 3. Reading Data Set 👓\n",
    "👉 After importing libraries, we will also import the dataset that will be used."
   ]
  },
  {
   "cell_type": "code",
   "execution_count": 2,
   "metadata": {
    "execution": {
     "iopub.execute_input": "2022-04-26T01:57:46.706432Z",
     "iopub.status.busy": "2022-04-26T01:57:46.706213Z",
     "iopub.status.idle": "2022-04-26T01:57:46.755647Z",
     "shell.execute_reply": "2022-04-26T01:57:46.754775Z",
     "shell.execute_reply.started": "2022-04-26T01:57:46.706406Z"
    },
    "executionInfo": {
     "elapsed": 12,
     "status": "ok",
     "timestamp": 1636215157136,
     "user": {
      "displayName": "Mario Caesar",
      "photoUrl": "https://lh3.googleusercontent.com/a-/AOh14GheyOtCjw9bQyrYjdnb46Fp9pWuEIUHVSHLqwMBBw=s64",
      "userId": "15479329890797732984"
     },
     "user_tz": -420
    },
    "id": "-9VxuECvXJIR",
    "outputId": "e10713bf-2767-4654-d655-1aae2b4c78d3"
   },
   "outputs": [],
   "source": [
    "df = pd.read_csv(\"../input/loan-predication/train_u6lujuX_CVtuZ9i (1).csv\")\n",
    "df.head()"
   ]
  },
  {
   "cell_type": "code",
   "execution_count": 3,
   "metadata": {
    "execution": {
     "iopub.execute_input": "2022-04-26T01:57:46.757332Z",
     "iopub.status.busy": "2022-04-26T01:57:46.756999Z",
     "iopub.status.idle": "2022-04-26T01:57:46.762605Z",
     "shell.execute_reply": "2022-04-26T01:57:46.762108Z",
     "shell.execute_reply.started": "2022-04-26T01:57:46.757290Z"
    },
    "executionInfo": {
     "elapsed": 11,
     "status": "ok",
     "timestamp": 1636215157136,
     "user": {
      "displayName": "Mario Caesar",
      "photoUrl": "https://lh3.googleusercontent.com/a-/AOh14GheyOtCjw9bQyrYjdnb46Fp9pWuEIUHVSHLqwMBBw=s64",
      "userId": "15479329890797732984"
     },
     "user_tz": -420
    },
    "id": "QLUH-tNjh1b8",
    "outputId": "fdbfb745-c172-4349-b544-c23caeffb7b9"
   },
   "outputs": [],
   "source": [
    "print(df.shape)"
   ]
  },
  {
   "cell_type": "markdown",
   "metadata": {
    "id": "icrmwUvviQAX"
   },
   "source": [
    "👉 As can be seen, the **13 columns** are readable. It also can be seen that there are **614 observations** in the data set."
   ]
  },
  {
   "cell_type": "markdown",
   "metadata": {
    "id": "q-gxXHlThKhK"
   },
   "source": [
    "# 4. Data Exploration 🔍\n",
    "👉 This section will perform data exploration of \"raw\" data set that has been imported."
   ]
  },
  {
   "cell_type": "markdown",
   "metadata": {
    "id": "e6VEKBKohdAs"
   },
   "source": [
    "## 4.1 Categorical Variable 📊\n",
    "👉 The first type of variable that I will explore is categorical variable."
   ]
  },
  {
   "cell_type": "markdown",
   "metadata": {
    "id": "R1DsvbVQi2iw"
   },
   "source": [
    "### 4.1.1 Loan ID"
   ]
  },
  {
   "cell_type": "code",
   "execution_count": 4,
   "metadata": {
    "execution": {
     "iopub.execute_input": "2022-04-26T01:57:46.764789Z",
     "iopub.status.busy": "2022-04-26T01:57:46.764167Z",
     "iopub.status.idle": "2022-04-26T01:57:46.785870Z",
     "shell.execute_reply": "2022-04-26T01:57:46.784975Z",
     "shell.execute_reply.started": "2022-04-26T01:57:46.764755Z"
    },
    "executionInfo": {
     "elapsed": 7,
     "status": "ok",
     "timestamp": 1636215157136,
     "user": {
      "displayName": "Mario Caesar",
      "photoUrl": "https://lh3.googleusercontent.com/a-/AOh14GheyOtCjw9bQyrYjdnb46Fp9pWuEIUHVSHLqwMBBw=s64",
      "userId": "15479329890797732984"
     },
     "user_tz": -420
    },
    "id": "NIqCAFjRi5Bo",
    "outputId": "7933cb5a-af01-42a6-8826-85fc89d8df39"
   },
   "outputs": [],
   "source": [
    "df.Loan_ID.value_counts(dropna=False)"
   ]
  },
  {
   "cell_type": "markdown",
   "metadata": {
    "id": "12npx9e_i7xB"
   },
   "source": [
    "👉 It can be seen that there are 614 unique ID in the dataset."
   ]
  },
  {
   "cell_type": "markdown",
   "metadata": {
    "id": "P0PIgD0sizNr"
   },
   "source": [
    "### 4.1.2 Gender"
   ]
  },
  {
   "cell_type": "code",
   "execution_count": 5,
   "metadata": {
    "execution": {
     "iopub.execute_input": "2022-04-26T01:57:46.787849Z",
     "iopub.status.busy": "2022-04-26T01:57:46.787089Z",
     "iopub.status.idle": "2022-04-26T01:57:46.798877Z",
     "shell.execute_reply": "2022-04-26T01:57:46.798117Z",
     "shell.execute_reply.started": "2022-04-26T01:57:46.787816Z"
    },
    "executionInfo": {
     "elapsed": 6,
     "status": "ok",
     "timestamp": 1636215157137,
     "user": {
      "displayName": "Mario Caesar",
      "photoUrl": "https://lh3.googleusercontent.com/a-/AOh14GheyOtCjw9bQyrYjdnb46Fp9pWuEIUHVSHLqwMBBw=s64",
      "userId": "15479329890797732984"
     },
     "user_tz": -420
    },
    "id": "-FCfZqBthMS9",
    "outputId": "7f8353a3-7ce7-42f0-8d35-1510ed7cf8e0"
   },
   "outputs": [],
   "source": [
    "df.Gender.value_counts(dropna=False)"
   ]
  },
  {
   "cell_type": "code",
   "execution_count": 6,
   "metadata": {
    "execution": {
     "iopub.execute_input": "2022-04-26T01:57:46.800384Z",
     "iopub.status.busy": "2022-04-26T01:57:46.799897Z",
     "iopub.status.idle": "2022-04-26T01:57:46.991051Z",
     "shell.execute_reply": "2022-04-26T01:57:46.989999Z",
     "shell.execute_reply.started": "2022-04-26T01:57:46.800350Z"
    },
    "executionInfo": {
     "elapsed": 512,
     "status": "ok",
     "timestamp": 1636215157644,
     "user": {
      "displayName": "Mario Caesar",
      "photoUrl": "https://lh3.googleusercontent.com/a-/AOh14GheyOtCjw9bQyrYjdnb46Fp9pWuEIUHVSHLqwMBBw=s64",
      "userId": "15479329890797732984"
     },
     "user_tz": -420
    },
    "id": "J4m9mVNniwED",
    "outputId": "d43ca689-e92c-499d-9324-e82ec41cd7b3"
   },
   "outputs": [],
   "source": [
    "sns.countplot(x=\"Gender\", data=df, palette=\"hls\")\n",
    "plt.show()"
   ]
  },
  {
   "cell_type": "code",
   "execution_count": 7,
   "metadata": {
    "execution": {
     "iopub.execute_input": "2022-04-26T01:57:46.993512Z",
     "iopub.status.busy": "2022-04-26T01:57:46.992982Z",
     "iopub.status.idle": "2022-04-26T01:57:47.007472Z",
     "shell.execute_reply": "2022-04-26T01:57:47.006398Z",
     "shell.execute_reply.started": "2022-04-26T01:57:46.993470Z"
    },
    "executionInfo": {
     "elapsed": 7,
     "status": "ok",
     "timestamp": 1636215157645,
     "user": {
      "displayName": "Mario Caesar",
      "photoUrl": "https://lh3.googleusercontent.com/a-/AOh14GheyOtCjw9bQyrYjdnb46Fp9pWuEIUHVSHLqwMBBw=s64",
      "userId": "15479329890797732984"
     },
     "user_tz": -420
    },
    "id": "P7dngibeoNnH",
    "outputId": "2a3f125f-70a0-4271-fc2b-2c38edd6eb9c"
   },
   "outputs": [],
   "source": [
    "countMale = len(df[df.Gender == 'Male'])\n",
    "countFemale = len(df[df.Gender == 'Female'])\n",
    "countNull = len(df[df.Gender.isnull()])\n",
    "\n",
    "print(\"Percentage of Male applicant: {:.2f}%\".format((countMale / (len(df.Gender))*100)))\n",
    "print(\"Percentage of Female applicant: {:.2f}%\".format((countFemale / (len(df.Gender))*100)))\n",
    "print(\"Missing values percentage: {:.2f}%\".format((countNull / (len(df.Gender))*100)))"
   ]
  },
  {
   "cell_type": "markdown",
   "metadata": {
    "id": "x-DNl5fMjDAu"
   },
   "source": [
    "👉 From the results above, the number of male applicants is higher compared to female applicants. It also can be seen there are missing values in this column."
   ]
  },
  {
   "cell_type": "markdown",
   "metadata": {
    "id": "b_Mkfxy6k2kS"
   },
   "source": [
    "### 4.1.3 Married"
   ]
  },
  {
   "cell_type": "code",
   "execution_count": 8,
   "metadata": {
    "execution": {
     "iopub.execute_input": "2022-04-26T01:57:47.009444Z",
     "iopub.status.busy": "2022-04-26T01:57:47.009201Z",
     "iopub.status.idle": "2022-04-26T01:57:47.022008Z",
     "shell.execute_reply": "2022-04-26T01:57:47.020686Z",
     "shell.execute_reply.started": "2022-04-26T01:57:47.009418Z"
    },
    "executionInfo": {
     "elapsed": 6,
     "status": "ok",
     "timestamp": 1636215157645,
     "user": {
      "displayName": "Mario Caesar",
      "photoUrl": "https://lh3.googleusercontent.com/a-/AOh14GheyOtCjw9bQyrYjdnb46Fp9pWuEIUHVSHLqwMBBw=s64",
      "userId": "15479329890797732984"
     },
     "user_tz": -420
    },
    "id": "GxBR8uJpk95l",
    "outputId": "609cccfb-9dc1-4c3c-9a80-7201b5aeebb4"
   },
   "outputs": [],
   "source": [
    "df.Married.value_counts(dropna=False)"
   ]
  },
  {
   "cell_type": "code",
   "execution_count": 9,
   "metadata": {
    "execution": {
     "iopub.execute_input": "2022-04-26T01:57:47.024344Z",
     "iopub.status.busy": "2022-04-26T01:57:47.023704Z",
     "iopub.status.idle": "2022-04-26T01:57:47.148044Z",
     "shell.execute_reply": "2022-04-26T01:57:47.147389Z",
     "shell.execute_reply.started": "2022-04-26T01:57:47.024303Z"
    },
    "executionInfo": {
     "elapsed": 7,
     "status": "ok",
     "timestamp": 1636215157646,
     "user": {
      "displayName": "Mario Caesar",
      "photoUrl": "https://lh3.googleusercontent.com/a-/AOh14GheyOtCjw9bQyrYjdnb46Fp9pWuEIUHVSHLqwMBBw=s64",
      "userId": "15479329890797732984"
     },
     "user_tz": -420
    },
    "id": "7PSgGPJ-lNAI",
    "outputId": "62ed5fb3-fc6f-4a08-b300-929ab5ebdcd7"
   },
   "outputs": [],
   "source": [
    "sns.countplot(x=\"Married\", data=df, palette=\"Paired\")\n",
    "plt.show()"
   ]
  },
  {
   "cell_type": "markdown",
   "metadata": {
    "id": "103tu8DvlV0V"
   },
   "source": [
    "👉 The number of applicants that has been married is higher compared to applicants that hasn't married. It also can be seen there are small number of missing values in this column."
   ]
  },
  {
   "cell_type": "code",
   "execution_count": 10,
   "metadata": {
    "execution": {
     "iopub.execute_input": "2022-04-26T01:57:47.152013Z",
     "iopub.status.busy": "2022-04-26T01:57:47.151337Z",
     "iopub.status.idle": "2022-04-26T01:57:47.166209Z",
     "shell.execute_reply": "2022-04-26T01:57:47.164984Z",
     "shell.execute_reply.started": "2022-04-26T01:57:47.151966Z"
    },
    "executionInfo": {
     "elapsed": 692,
     "status": "ok",
     "timestamp": 1636215158332,
     "user": {
      "displayName": "Mario Caesar",
      "photoUrl": "https://lh3.googleusercontent.com/a-/AOh14GheyOtCjw9bQyrYjdnb46Fp9pWuEIUHVSHLqwMBBw=s64",
      "userId": "15479329890797732984"
     },
     "user_tz": -420
    },
    "id": "Iy-ECFncpHOg",
    "outputId": "7693d123-3919-4081-a9c5-0aced95b3c09"
   },
   "outputs": [],
   "source": [
    "countMarried = len(df[df.Married == 'Yes'])\n",
    "countNotMarried = len(df[df.Married == 'No'])\n",
    "countNull = len(df[df.Married.isnull()])\n",
    "\n",
    "print(\"Percentage of married: {:.2f}%\".format((countMarried / (len(df.Married))*100)))\n",
    "print(\"Percentage of Not married applicant: {:.2f}%\".format((countNotMarried / (len(df.Married))*100)))\n",
    "print(\"Missing values percentage: {:.2f}%\".format((countNull / (len(df.Married))*100)))"
   ]
  },
  {
   "cell_type": "markdown",
   "metadata": {
    "id": "Ytz_I82Vl3Wu"
   },
   "source": [
    "### 4.1.4 Education"
   ]
  },
  {
   "cell_type": "code",
   "execution_count": 11,
   "metadata": {
    "execution": {
     "iopub.execute_input": "2022-04-26T01:57:47.168728Z",
     "iopub.status.busy": "2022-04-26T01:57:47.168050Z",
     "iopub.status.idle": "2022-04-26T01:57:47.180362Z",
     "shell.execute_reply": "2022-04-26T01:57:47.179376Z",
     "shell.execute_reply.started": "2022-04-26T01:57:47.168686Z"
    },
    "executionInfo": {
     "elapsed": 9,
     "status": "ok",
     "timestamp": 1636215158332,
     "user": {
      "displayName": "Mario Caesar",
      "photoUrl": "https://lh3.googleusercontent.com/a-/AOh14GheyOtCjw9bQyrYjdnb46Fp9pWuEIUHVSHLqwMBBw=s64",
      "userId": "15479329890797732984"
     },
     "user_tz": -420
    },
    "id": "Qqa3XmC5l3Wv",
    "outputId": "6b3abc7b-5620-4fb0-8390-017368413212"
   },
   "outputs": [],
   "source": [
    "df.Education.value_counts(dropna=False)"
   ]
  },
  {
   "cell_type": "code",
   "execution_count": 12,
   "metadata": {
    "execution": {
     "iopub.execute_input": "2022-04-26T01:57:47.182985Z",
     "iopub.status.busy": "2022-04-26T01:57:47.182196Z",
     "iopub.status.idle": "2022-04-26T01:57:47.341794Z",
     "shell.execute_reply": "2022-04-26T01:57:47.341162Z",
     "shell.execute_reply.started": "2022-04-26T01:57:47.182949Z"
    },
    "executionInfo": {
     "elapsed": 9,
     "status": "ok",
     "timestamp": 1636215158333,
     "user": {
      "displayName": "Mario Caesar",
      "photoUrl": "https://lh3.googleusercontent.com/a-/AOh14GheyOtCjw9bQyrYjdnb46Fp9pWuEIUHVSHLqwMBBw=s64",
      "userId": "15479329890797732984"
     },
     "user_tz": -420
    },
    "id": "rOSIyek7l3Wv",
    "outputId": "a8ecaac3-6c54-4858-cbfe-adb246c67a83"
   },
   "outputs": [],
   "source": [
    "sns.countplot(x=\"Education\", data=df, palette=\"rocket\")\n",
    "plt.show()"
   ]
  },
  {
   "cell_type": "code",
   "execution_count": 13,
   "metadata": {
    "execution": {
     "iopub.execute_input": "2022-04-26T01:57:47.343695Z",
     "iopub.status.busy": "2022-04-26T01:57:47.343193Z",
     "iopub.status.idle": "2022-04-26T01:57:47.354973Z",
     "shell.execute_reply": "2022-04-26T01:57:47.353806Z",
     "shell.execute_reply.started": "2022-04-26T01:57:47.343653Z"
    },
    "executionInfo": {
     "elapsed": 9,
     "status": "ok",
     "timestamp": 1636215158333,
     "user": {
      "displayName": "Mario Caesar",
      "photoUrl": "https://lh3.googleusercontent.com/a-/AOh14GheyOtCjw9bQyrYjdnb46Fp9pWuEIUHVSHLqwMBBw=s64",
      "userId": "15479329890797732984"
     },
     "user_tz": -420
    },
    "id": "KswArAwgphLx",
    "outputId": "b17794ee-1de2-40da-8dc0-dd2da091be86"
   },
   "outputs": [],
   "source": [
    "countGraduate = len(df[df.Education == 'Graduate'])\n",
    "countNotGraduate = len(df[df.Education == 'Not Graduate'])\n",
    "countNull = len(df[df.Education.isnull()])\n",
    "\n",
    "print(\"Percentage of graduate applicant: {:.2f}%\".format((countGraduate / (len(df.Education))*100)))\n",
    "print(\"Percentage of Not graduate applicant: {:.2f}%\".format((countNotGraduate / (len(df.Education))*100)))\n",
    "print(\"Missing values percentage: {:.2f}%\".format((countNull / (len(df.Education))*100)))"
   ]
  },
  {
   "cell_type": "markdown",
   "metadata": {
    "id": "wa2PIxQ_l3Ww"
   },
   "source": [
    "👉 The number of applicants that has been graduated is higher compared to applicants that hasn't graduated."
   ]
  },
  {
   "cell_type": "markdown",
   "metadata": {
    "id": "35SS19AbmYMQ"
   },
   "source": [
    "### 4.1.5 Self Employed"
   ]
  },
  {
   "cell_type": "code",
   "execution_count": 14,
   "metadata": {
    "execution": {
     "iopub.execute_input": "2022-04-26T01:57:47.356799Z",
     "iopub.status.busy": "2022-04-26T01:57:47.356514Z",
     "iopub.status.idle": "2022-04-26T01:57:47.369783Z",
     "shell.execute_reply": "2022-04-26T01:57:47.369146Z",
     "shell.execute_reply.started": "2022-04-26T01:57:47.356772Z"
    },
    "executionInfo": {
     "elapsed": 9,
     "status": "ok",
     "timestamp": 1636215158334,
     "user": {
      "displayName": "Mario Caesar",
      "photoUrl": "https://lh3.googleusercontent.com/a-/AOh14GheyOtCjw9bQyrYjdnb46Fp9pWuEIUHVSHLqwMBBw=s64",
      "userId": "15479329890797732984"
     },
     "user_tz": -420
    },
    "id": "_SkU0fcVmYMY",
    "outputId": "2eed44a8-0e10-4f3b-da41-542e4e19646a"
   },
   "outputs": [],
   "source": [
    "df.Self_Employed.value_counts(dropna=False)"
   ]
  },
  {
   "cell_type": "code",
   "execution_count": 15,
   "metadata": {
    "execution": {
     "iopub.execute_input": "2022-04-26T01:57:47.371125Z",
     "iopub.status.busy": "2022-04-26T01:57:47.370693Z",
     "iopub.status.idle": "2022-04-26T01:57:47.537050Z",
     "shell.execute_reply": "2022-04-26T01:57:47.536164Z",
     "shell.execute_reply.started": "2022-04-26T01:57:47.371085Z"
    },
    "executionInfo": {
     "elapsed": 9,
     "status": "ok",
     "timestamp": 1636215158334,
     "user": {
      "displayName": "Mario Caesar",
      "photoUrl": "https://lh3.googleusercontent.com/a-/AOh14GheyOtCjw9bQyrYjdnb46Fp9pWuEIUHVSHLqwMBBw=s64",
      "userId": "15479329890797732984"
     },
     "user_tz": -420
    },
    "id": "BMr-wTlFmYMZ",
    "outputId": "4f382de4-2c7a-4c74-ef1b-cd3657762aff"
   },
   "outputs": [],
   "source": [
    "sns.countplot(x=\"Self_Employed\", data=df, palette=\"crest\")\n",
    "plt.show()"
   ]
  },
  {
   "cell_type": "code",
   "execution_count": 16,
   "metadata": {
    "execution": {
     "iopub.execute_input": "2022-04-26T01:57:47.538603Z",
     "iopub.status.busy": "2022-04-26T01:57:47.538368Z",
     "iopub.status.idle": "2022-04-26T01:57:47.548275Z",
     "shell.execute_reply": "2022-04-26T01:57:47.547145Z",
     "shell.execute_reply.started": "2022-04-26T01:57:47.538574Z"
    },
    "executionInfo": {
     "elapsed": 8,
     "status": "ok",
     "timestamp": 1636215158334,
     "user": {
      "displayName": "Mario Caesar",
      "photoUrl": "https://lh3.googleusercontent.com/a-/AOh14GheyOtCjw9bQyrYjdnb46Fp9pWuEIUHVSHLqwMBBw=s64",
      "userId": "15479329890797732984"
     },
     "user_tz": -420
    },
    "id": "EaJS6E0Xp1AT",
    "outputId": "39f3ec08-aced-44ca-abbd-3bd50b818622"
   },
   "outputs": [],
   "source": [
    "countNo = len(df[df.Self_Employed == 'No'])\n",
    "countYes = len(df[df.Self_Employed == 'Yes'])\n",
    "countNull = len(df[df.Self_Employed.isnull()])\n",
    "\n",
    "print(\"Percentage of Not self employed: {:.2f}%\".format((countNo / (len(df.Self_Employed))*100)))\n",
    "print(\"Percentage of self employed: {:.2f}%\".format((countYes / (len(df.Self_Employed))*100)))\n",
    "print(\"Missing values percentage: {:.2f}%\".format((countNull / (len(df.Self_Employed))*100)))"
   ]
  },
  {
   "cell_type": "markdown",
   "metadata": {
    "id": "riciPtC9mYMZ"
   },
   "source": [
    "👉 The number of applicants that are not self employed is higher compared to applicants that are self employed. It also can be seen, there are missing values in this column."
   ]
  },
  {
   "cell_type": "markdown",
   "metadata": {
    "id": "sn4zWF8-njF5"
   },
   "source": [
    "### 4.1.6 Credit History"
   ]
  },
  {
   "cell_type": "code",
   "execution_count": 17,
   "metadata": {
    "execution": {
     "iopub.execute_input": "2022-04-26T01:57:47.549799Z",
     "iopub.status.busy": "2022-04-26T01:57:47.549496Z",
     "iopub.status.idle": "2022-04-26T01:57:47.565576Z",
     "shell.execute_reply": "2022-04-26T01:57:47.564666Z",
     "shell.execute_reply.started": "2022-04-26T01:57:47.549759Z"
    },
    "executionInfo": {
     "elapsed": 9,
     "status": "ok",
     "timestamp": 1636215158335,
     "user": {
      "displayName": "Mario Caesar",
      "photoUrl": "https://lh3.googleusercontent.com/a-/AOh14GheyOtCjw9bQyrYjdnb46Fp9pWuEIUHVSHLqwMBBw=s64",
      "userId": "15479329890797732984"
     },
     "user_tz": -420
    },
    "id": "KtdDjo95njGA",
    "outputId": "1881d0af-d045-4e03-cde1-6c0aeeb93448"
   },
   "outputs": [],
   "source": [
    "df.Credit_History.value_counts(dropna=False)"
   ]
  },
  {
   "cell_type": "code",
   "execution_count": 18,
   "metadata": {
    "execution": {
     "iopub.execute_input": "2022-04-26T01:57:47.567257Z",
     "iopub.status.busy": "2022-04-26T01:57:47.566947Z",
     "iopub.status.idle": "2022-04-26T01:57:47.721537Z",
     "shell.execute_reply": "2022-04-26T01:57:47.720633Z",
     "shell.execute_reply.started": "2022-04-26T01:57:47.567217Z"
    },
    "executionInfo": {
     "elapsed": 606,
     "status": "ok",
     "timestamp": 1636215158932,
     "user": {
      "displayName": "Mario Caesar",
      "photoUrl": "https://lh3.googleusercontent.com/a-/AOh14GheyOtCjw9bQyrYjdnb46Fp9pWuEIUHVSHLqwMBBw=s64",
      "userId": "15479329890797732984"
     },
     "user_tz": -420
    },
    "id": "VmNGGD6onjGB",
    "outputId": "241c0aca-0c53-4611-9047-9ad67a8ab75d"
   },
   "outputs": [],
   "source": [
    "sns.countplot(x=\"Credit_History\", data=df, palette=\"viridis\")\n",
    "plt.show()"
   ]
  },
  {
   "cell_type": "code",
   "execution_count": 19,
   "metadata": {
    "execution": {
     "iopub.execute_input": "2022-04-26T01:57:47.723626Z",
     "iopub.status.busy": "2022-04-26T01:57:47.723013Z",
     "iopub.status.idle": "2022-04-26T01:57:47.732063Z",
     "shell.execute_reply": "2022-04-26T01:57:47.731223Z",
     "shell.execute_reply.started": "2022-04-26T01:57:47.723597Z"
    },
    "executionInfo": {
     "elapsed": 11,
     "status": "ok",
     "timestamp": 1636215158933,
     "user": {
      "displayName": "Mario Caesar",
      "photoUrl": "https://lh3.googleusercontent.com/a-/AOh14GheyOtCjw9bQyrYjdnb46Fp9pWuEIUHVSHLqwMBBw=s64",
      "userId": "15479329890797732984"
     },
     "user_tz": -420
    },
    "id": "WdkcsU8vqK8Y",
    "outputId": "6b17cefa-27be-4815-d81c-5896cbfe1a74"
   },
   "outputs": [],
   "source": [
    "count1 = len(df[df.Credit_History == 1])\n",
    "count0 = len(df[df.Credit_History == 0])\n",
    "countNull = len(df[df.Credit_History.isnull()])\n",
    "\n",
    "print(\"Percentage of Good credit history: {:.2f}%\".format((count1 / (len(df.Credit_History))*100)))\n",
    "print(\"Percentage of Bad credit history: {:.2f}%\".format((count0 / (len(df.Credit_History))*100)))\n",
    "print(\"Missing values percentage: {:.2f}%\".format((countNull / (len(df.Credit_History))*100)))"
   ]
  },
  {
   "cell_type": "markdown",
   "metadata": {
    "id": "SqS_n8I7njGB"
   },
   "source": [
    "👉 The number of applicants that have good credit history is higher compared to applicants that have bad credit history. It also can be seen, there are missing values in this column."
   ]
  },
  {
   "cell_type": "markdown",
   "metadata": {
    "id": "vITK924Anjnn"
   },
   "source": [
    "### 4.1.7 Property Area"
   ]
  },
  {
   "cell_type": "code",
   "execution_count": 20,
   "metadata": {
    "execution": {
     "iopub.execute_input": "2022-04-26T01:57:47.733524Z",
     "iopub.status.busy": "2022-04-26T01:57:47.733171Z",
     "iopub.status.idle": "2022-04-26T01:57:47.747098Z",
     "shell.execute_reply": "2022-04-26T01:57:47.746253Z",
     "shell.execute_reply.started": "2022-04-26T01:57:47.733486Z"
    },
    "executionInfo": {
     "elapsed": 10,
     "status": "ok",
     "timestamp": 1636215158933,
     "user": {
      "displayName": "Mario Caesar",
      "photoUrl": "https://lh3.googleusercontent.com/a-/AOh14GheyOtCjw9bQyrYjdnb46Fp9pWuEIUHVSHLqwMBBw=s64",
      "userId": "15479329890797732984"
     },
     "user_tz": -420
    },
    "id": "i4o2LfJ2njnn",
    "outputId": "afce89f9-2ab6-439d-e2c8-43ca0e85cffc"
   },
   "outputs": [],
   "source": [
    "df.Property_Area.value_counts(dropna=False)"
   ]
  },
  {
   "cell_type": "code",
   "execution_count": 21,
   "metadata": {
    "execution": {
     "iopub.execute_input": "2022-04-26T01:57:47.749095Z",
     "iopub.status.busy": "2022-04-26T01:57:47.748277Z",
     "iopub.status.idle": "2022-04-26T01:57:47.915494Z",
     "shell.execute_reply": "2022-04-26T01:57:47.914781Z",
     "shell.execute_reply.started": "2022-04-26T01:57:47.749038Z"
    },
    "executionInfo": {
     "elapsed": 9,
     "status": "ok",
     "timestamp": 1636215158933,
     "user": {
      "displayName": "Mario Caesar",
      "photoUrl": "https://lh3.googleusercontent.com/a-/AOh14GheyOtCjw9bQyrYjdnb46Fp9pWuEIUHVSHLqwMBBw=s64",
      "userId": "15479329890797732984"
     },
     "user_tz": -420
    },
    "id": "29S5dnm6njnn",
    "outputId": "89ab805a-9bd5-4952-e383-21000da492fa"
   },
   "outputs": [],
   "source": [
    "sns.countplot(x=\"Property_Area\", data=df, palette=\"cubehelix\")\n",
    "plt.show()"
   ]
  },
  {
   "cell_type": "code",
   "execution_count": 22,
   "metadata": {
    "execution": {
     "iopub.execute_input": "2022-04-26T01:57:47.916804Z",
     "iopub.status.busy": "2022-04-26T01:57:47.916587Z",
     "iopub.status.idle": "2022-04-26T01:57:47.930478Z",
     "shell.execute_reply": "2022-04-26T01:57:47.929287Z",
     "shell.execute_reply.started": "2022-04-26T01:57:47.916778Z"
    },
    "executionInfo": {
     "elapsed": 9,
     "status": "ok",
     "timestamp": 1636215158934,
     "user": {
      "displayName": "Mario Caesar",
      "photoUrl": "https://lh3.googleusercontent.com/a-/AOh14GheyOtCjw9bQyrYjdnb46Fp9pWuEIUHVSHLqwMBBw=s64",
      "userId": "15479329890797732984"
     },
     "user_tz": -420
    },
    "id": "XoksMSh9raU_",
    "outputId": "6344c5c7-c018-4d68-d5d2-f35de65edf29"
   },
   "outputs": [],
   "source": [
    "countUrban = len(df[df.Property_Area == 'Urban'])\n",
    "countRural = len(df[df.Property_Area == 'Rural'])\n",
    "countSemiurban = len(df[df.Property_Area == 'Semiurban'])\n",
    "countNull = len(df[df.Property_Area.isnull()])\n",
    "\n",
    "print(\"Percentage of Urban: {:.2f}%\".format((countUrban / (len(df.Property_Area))*100)))\n",
    "print(\"Percentage of Rural: {:.2f}%\".format((countRural / (len(df.Property_Area))*100)))\n",
    "print(\"Percentage of Semiurban: {:.2f}%\".format((countSemiurban / (len(df.Property_Area))*100)))\n",
    "print(\"Missing values percentage: {:.2f}%\".format((countNull / (len(df.Property_Area))*100)))"
   ]
  },
  {
   "cell_type": "markdown",
   "metadata": {
    "id": "Uh6r7sCbnjnn"
   },
   "source": [
    "👉 This column has a balanced distribution between Urban, Rural, and Semiurban property area. It also can be seen there is no missing value."
   ]
  },
  {
   "cell_type": "markdown",
   "metadata": {
    "id": "sq3-SZScnkCQ"
   },
   "source": [
    "### 4.1.8 Loan Status"
   ]
  },
  {
   "cell_type": "code",
   "execution_count": 23,
   "metadata": {
    "execution": {
     "iopub.execute_input": "2022-04-26T01:57:47.932646Z",
     "iopub.status.busy": "2022-04-26T01:57:47.932169Z",
     "iopub.status.idle": "2022-04-26T01:57:47.941807Z",
     "shell.execute_reply": "2022-04-26T01:57:47.941150Z",
     "shell.execute_reply.started": "2022-04-26T01:57:47.932606Z"
    },
    "executionInfo": {
     "elapsed": 9,
     "status": "ok",
     "timestamp": 1636215158934,
     "user": {
      "displayName": "Mario Caesar",
      "photoUrl": "https://lh3.googleusercontent.com/a-/AOh14GheyOtCjw9bQyrYjdnb46Fp9pWuEIUHVSHLqwMBBw=s64",
      "userId": "15479329890797732984"
     },
     "user_tz": -420
    },
    "id": "wiumstnCnkCQ",
    "outputId": "87f387d9-fce8-4b8a-9c1b-105e97e5e9ce"
   },
   "outputs": [],
   "source": [
    "df.Loan_Status.value_counts(dropna=False)"
   ]
  },
  {
   "cell_type": "code",
   "execution_count": 24,
   "metadata": {
    "execution": {
     "iopub.execute_input": "2022-04-26T01:57:47.943428Z",
     "iopub.status.busy": "2022-04-26T01:57:47.943034Z",
     "iopub.status.idle": "2022-04-26T01:57:48.110769Z",
     "shell.execute_reply": "2022-04-26T01:57:48.109886Z",
     "shell.execute_reply.started": "2022-04-26T01:57:47.943389Z"
    },
    "executionInfo": {
     "elapsed": 9,
     "status": "ok",
     "timestamp": 1636215158935,
     "user": {
      "displayName": "Mario Caesar",
      "photoUrl": "https://lh3.googleusercontent.com/a-/AOh14GheyOtCjw9bQyrYjdnb46Fp9pWuEIUHVSHLqwMBBw=s64",
      "userId": "15479329890797732984"
     },
     "user_tz": -420
    },
    "id": "uu0vT0SvnkCR",
    "outputId": "3d3ed03e-b55a-4984-b1db-1a3ff22693d0"
   },
   "outputs": [],
   "source": [
    "sns.countplot(x=\"Loan_Status\", data=df, palette=\"YlOrBr\")\n",
    "plt.show()"
   ]
  },
  {
   "cell_type": "code",
   "execution_count": 25,
   "metadata": {
    "execution": {
     "iopub.execute_input": "2022-04-26T01:57:48.112274Z",
     "iopub.status.busy": "2022-04-26T01:57:48.112034Z",
     "iopub.status.idle": "2022-04-26T01:57:48.122771Z",
     "shell.execute_reply": "2022-04-26T01:57:48.121663Z",
     "shell.execute_reply.started": "2022-04-26T01:57:48.112244Z"
    },
    "executionInfo": {
     "elapsed": 9,
     "status": "ok",
     "timestamp": 1636215158935,
     "user": {
      "displayName": "Mario Caesar",
      "photoUrl": "https://lh3.googleusercontent.com/a-/AOh14GheyOtCjw9bQyrYjdnb46Fp9pWuEIUHVSHLqwMBBw=s64",
      "userId": "15479329890797732984"
     },
     "user_tz": -420
    },
    "id": "nicivzzRsqZe",
    "outputId": "3e6ffec2-03cd-428b-8c3b-463377ea4c84"
   },
   "outputs": [],
   "source": [
    "countY = len(df[df.Loan_Status == 'Y'])\n",
    "countN = len(df[df.Loan_Status == 'N'])\n",
    "countNull = len(df[df.Loan_Status.isnull()])\n",
    "\n",
    "print(\"Percentage of Approved: {:.2f}%\".format((countY / (len(df.Loan_Status))*100)))\n",
    "print(\"Percentage of Rejected: {:.2f}%\".format((countN / (len(df.Loan_Status))*100)))\n",
    "print(\"Missing values percentage: {:.2f}%\".format((countNull / (len(df.Loan_Status))*100)))"
   ]
  },
  {
   "cell_type": "markdown",
   "metadata": {
    "id": "Nj8btIZpnkCR"
   },
   "source": [
    "👉 The number of approved loans is higher compared to rejected loans . It also can be seen, there is no missing values in this column."
   ]
  },
  {
   "cell_type": "markdown",
   "metadata": {
    "id": "uOKvRa2gO_j9"
   },
   "source": [
    "### 4.1.9 Loan Amount Term"
   ]
  },
  {
   "cell_type": "code",
   "execution_count": 26,
   "metadata": {
    "execution": {
     "iopub.execute_input": "2022-04-26T01:57:48.124588Z",
     "iopub.status.busy": "2022-04-26T01:57:48.124282Z",
     "iopub.status.idle": "2022-04-26T01:57:48.137322Z",
     "shell.execute_reply": "2022-04-26T01:57:48.136158Z",
     "shell.execute_reply.started": "2022-04-26T01:57:48.124547Z"
    },
    "executionInfo": {
     "elapsed": 8,
     "status": "ok",
     "timestamp": 1636215158935,
     "user": {
      "displayName": "Mario Caesar",
      "photoUrl": "https://lh3.googleusercontent.com/a-/AOh14GheyOtCjw9bQyrYjdnb46Fp9pWuEIUHVSHLqwMBBw=s64",
      "userId": "15479329890797732984"
     },
     "user_tz": -420
    },
    "id": "suUA8cOXO_kB",
    "outputId": "12318782-a8c4-456f-d772-4fb39a748e61"
   },
   "outputs": [],
   "source": [
    "df.Loan_Amount_Term.value_counts(dropna=False)"
   ]
  },
  {
   "cell_type": "code",
   "execution_count": 27,
   "metadata": {
    "execution": {
     "iopub.execute_input": "2022-04-26T01:57:48.138865Z",
     "iopub.status.busy": "2022-04-26T01:57:48.138538Z",
     "iopub.status.idle": "2022-04-26T01:57:48.343342Z",
     "shell.execute_reply": "2022-04-26T01:57:48.342506Z",
     "shell.execute_reply.started": "2022-04-26T01:57:48.138833Z"
    },
    "executionInfo": {
     "elapsed": 744,
     "status": "ok",
     "timestamp": 1636215159671,
     "user": {
      "displayName": "Mario Caesar",
      "photoUrl": "https://lh3.googleusercontent.com/a-/AOh14GheyOtCjw9bQyrYjdnb46Fp9pWuEIUHVSHLqwMBBw=s64",
      "userId": "15479329890797732984"
     },
     "user_tz": -420
    },
    "id": "19IBVpnZO_kC",
    "outputId": "3c50a271-b3fe-4c25-c73c-e189bef48966"
   },
   "outputs": [],
   "source": [
    "sns.countplot(x=\"Loan_Amount_Term\", data=df, palette=\"rocket\")\n",
    "plt.show()"
   ]
  },
  {
   "cell_type": "code",
   "execution_count": 28,
   "metadata": {
    "execution": {
     "iopub.execute_input": "2022-04-26T01:57:48.347832Z",
     "iopub.status.busy": "2022-04-26T01:57:48.347591Z",
     "iopub.status.idle": "2022-04-26T01:57:48.369606Z",
     "shell.execute_reply": "2022-04-26T01:57:48.368738Z",
     "shell.execute_reply.started": "2022-04-26T01:57:48.347803Z"
    },
    "executionInfo": {
     "elapsed": 7,
     "status": "ok",
     "timestamp": 1636215159672,
     "user": {
      "displayName": "Mario Caesar",
      "photoUrl": "https://lh3.googleusercontent.com/a-/AOh14GheyOtCjw9bQyrYjdnb46Fp9pWuEIUHVSHLqwMBBw=s64",
      "userId": "15479329890797732984"
     },
     "user_tz": -420
    },
    "id": "4I7KGiUiO_kC",
    "outputId": "831b5372-2b68-40ae-8c9f-bade309f9b71"
   },
   "outputs": [],
   "source": [
    "count12 = len(df[df.Loan_Amount_Term == 12.0])\n",
    "count36 = len(df[df.Loan_Amount_Term == 36.0])\n",
    "count60 = len(df[df.Loan_Amount_Term == 60.0])\n",
    "count84 = len(df[df.Loan_Amount_Term == 84.0])\n",
    "count120 = len(df[df.Loan_Amount_Term == 120.0])\n",
    "count180 = len(df[df.Loan_Amount_Term == 180.0])\n",
    "count240 = len(df[df.Loan_Amount_Term == 240.0])\n",
    "count300 = len(df[df.Loan_Amount_Term == 300.0])\n",
    "count360 = len(df[df.Loan_Amount_Term == 360.0])\n",
    "count480 = len(df[df.Loan_Amount_Term == 480.0])\n",
    "countNull = len(df[df.Loan_Amount_Term.isnull()])\n",
    "\n",
    "print(\"Percentage of 12: {:.2f}%\".format((count12 / (len(df.Loan_Amount_Term))*100)))\n",
    "print(\"Percentage of 36: {:.2f}%\".format((count36 / (len(df.Loan_Amount_Term))*100)))\n",
    "print(\"Percentage of 60: {:.2f}%\".format((count60 / (len(df.Loan_Amount_Term))*100)))\n",
    "print(\"Percentage of 84: {:.2f}%\".format((count84 / (len(df.Loan_Amount_Term))*100)))\n",
    "print(\"Percentage of 120: {:.2f}%\".format((count120 / (len(df.Loan_Amount_Term))*100)))\n",
    "print(\"Percentage of 180: {:.2f}%\".format((count180 / (len(df.Loan_Amount_Term))*100)))\n",
    "print(\"Percentage of 240: {:.2f}%\".format((count240 / (len(df.Loan_Amount_Term))*100)))\n",
    "print(\"Percentage of 300: {:.2f}%\".format((count300 / (len(df.Loan_Amount_Term))*100)))\n",
    "print(\"Percentage of 360: {:.2f}%\".format((count360 / (len(df.Loan_Amount_Term))*100)))\n",
    "print(\"Percentage of 480: {:.2f}%\".format((count480 / (len(df.Loan_Amount_Term))*100)))\n",
    "print(\"Missing values percentage: {:.2f}%\".format((countNull / (len(df.Loan_Amount_Term))*100)))"
   ]
  },
  {
   "cell_type": "markdown",
   "metadata": {
    "id": "SrCT3UlKO_kC"
   },
   "source": [
    "👉 As can be seen from the results, **the 360 days loan duration is the most popular** compared to others."
   ]
  },
  {
   "cell_type": "markdown",
   "metadata": {
    "id": "uE8t92lRtCXr"
   },
   "source": [
    "## 4.2 Numerical Variable 🔢\n",
    "👉 The second variable that I will explore is categorical variable."
   ]
  },
  {
   "cell_type": "markdown",
   "metadata": {
    "id": "OilcVn02ZLGC"
   },
   "source": [
    "### 4.2.1 Describe Numerical Variable 🔎\n",
    "👉 This section will show mean, count, std, min, max and others using describe function.\n"
   ]
  },
  {
   "cell_type": "code",
   "execution_count": 29,
   "metadata": {
    "execution": {
     "iopub.execute_input": "2022-04-26T01:57:48.371285Z",
     "iopub.status.busy": "2022-04-26T01:57:48.371033Z",
     "iopub.status.idle": "2022-04-26T01:57:48.399565Z",
     "shell.execute_reply": "2022-04-26T01:57:48.398964Z",
     "shell.execute_reply.started": "2022-04-26T01:57:48.371258Z"
    },
    "executionInfo": {
     "elapsed": 7,
     "status": "ok",
     "timestamp": 1636215159673,
     "user": {
      "displayName": "Mario Caesar",
      "photoUrl": "https://lh3.googleusercontent.com/a-/AOh14GheyOtCjw9bQyrYjdnb46Fp9pWuEIUHVSHLqwMBBw=s64",
      "userId": "15479329890797732984"
     },
     "user_tz": -420
    },
    "id": "JYmOMnqitb6s",
    "outputId": "98a0a42e-77d1-4a12-a92e-58cf5a317392"
   },
   "outputs": [],
   "source": [
    "df[['ApplicantIncome','CoapplicantIncome','LoanAmount']].describe()"
   ]
  },
  {
   "cell_type": "markdown",
   "metadata": {
    "id": "xVh_xjKZNFtZ"
   },
   "source": [
    "### 4.2.2 Distribution of Numerical Variable 📈\n",
    "👉 In this section, I will show the distribution of numerical variable using histogram and violin plot."
   ]
  },
  {
   "cell_type": "markdown",
   "metadata": {
    "id": "26oBuCCFRHdt"
   },
   "source": [
    "#### 4.2.2.1 Histogram Distribution 📉"
   ]
  },
  {
   "cell_type": "code",
   "execution_count": 30,
   "metadata": {
    "execution": {
     "iopub.execute_input": "2022-04-26T01:57:48.401363Z",
     "iopub.status.busy": "2022-04-26T01:57:48.400677Z",
     "iopub.status.idle": "2022-04-26T01:57:49.647735Z",
     "shell.execute_reply": "2022-04-26T01:57:49.646833Z",
     "shell.execute_reply.started": "2022-04-26T01:57:48.401330Z"
    },
    "executionInfo": {
     "elapsed": 2639,
     "status": "ok",
     "timestamp": 1636215162306,
     "user": {
      "displayName": "Mario Caesar",
      "photoUrl": "https://lh3.googleusercontent.com/a-/AOh14GheyOtCjw9bQyrYjdnb46Fp9pWuEIUHVSHLqwMBBw=s64",
      "userId": "15479329890797732984"
     },
     "user_tz": -420
    },
    "id": "nNQVNECjOV_R",
    "outputId": "ba7251ca-eb6a-4b94-bd03-8fbfd8d89a67"
   },
   "outputs": [],
   "source": [
    "sns.set(style=\"darkgrid\")\n",
    "fig, axs = plt.subplots(2, 2, figsize=(10, 8))\n",
    "\n",
    "sns.histplot(data=df, x=\"ApplicantIncome\", kde=True, ax=axs[0, 0], color='green')\n",
    "sns.histplot(data=df, x=\"CoapplicantIncome\", kde=True, ax=axs[0, 1], color='skyblue')\n",
    "sns.histplot(data=df, x=\"LoanAmount\", kde=True, ax=axs[1, 0], color='orange');"
   ]
  },
  {
   "cell_type": "markdown",
   "metadata": {
    "id": "Wm-uWGyORLEh"
   },
   "source": [
    "#### 4.2.2.2 Violin Plot 🎻"
   ]
  },
  {
   "cell_type": "code",
   "execution_count": 31,
   "metadata": {
    "execution": {
     "iopub.execute_input": "2022-04-26T01:57:49.649558Z",
     "iopub.status.busy": "2022-04-26T01:57:49.649246Z",
     "iopub.status.idle": "2022-04-26T01:57:50.348002Z",
     "shell.execute_reply": "2022-04-26T01:57:50.347216Z",
     "shell.execute_reply.started": "2022-04-26T01:57:49.649519Z"
    },
    "executionInfo": {
     "elapsed": 1225,
     "status": "ok",
     "timestamp": 1636215163524,
     "user": {
      "displayName": "Mario Caesar",
      "photoUrl": "https://lh3.googleusercontent.com/a-/AOh14GheyOtCjw9bQyrYjdnb46Fp9pWuEIUHVSHLqwMBBw=s64",
      "userId": "15479329890797732984"
     },
     "user_tz": -420
    },
    "id": "bqcMEGfUQDTM",
    "outputId": "38c360e8-3eb2-4b27-d939-7f3aa256c951"
   },
   "outputs": [],
   "source": [
    "sns.set(style=\"darkgrid\")\n",
    "fig, axs1 = plt.subplots(2, 2, figsize=(10, 10))\n",
    "\n",
    "sns.violinplot(data=df, y=\"ApplicantIncome\", ax=axs1[0, 0], color='green')\n",
    "sns.violinplot(data=df, y=\"CoapplicantIncome\", ax=axs1[0, 1], color='skyblue')\n",
    "sns.violinplot(data=df, y=\"LoanAmount\", ax=axs1[1, 0], color='orange');"
   ]
  },
  {
   "cell_type": "markdown",
   "metadata": {
    "id": "26VEP1r5SyM_"
   },
   "source": [
    "*   The distribution of **Applicant income, Co Applicant Income, and Loan Amount** are **positively skewed** and **it has outliers** (can be seen from both histogram and violin plot).\n",
    "*   The distribution of **Loan Amount Term** is **negativly skewed** and **it has outliers.**\n",
    "\n"
   ]
  },
  {
   "cell_type": "markdown",
   "metadata": {
    "id": "sBAeM4ZWXuOI"
   },
   "source": [
    "## 4.3 Other Exploration 💹\n",
    "👉 This section will show additional exploration from each variables. The additional exploration are:\n",
    "*   Bivariate analysis (categorical w/ categorical, categroical w/ numerical, and numerical w/ numerical)\n",
    "*   Heatmap\n",
    "\n"
   ]
  },
  {
   "cell_type": "markdown",
   "metadata": {
    "id": "GsaiF0JAYrTA"
   },
   "source": [
    "### 4.3.1 Heatmap 🔥"
   ]
  },
  {
   "cell_type": "code",
   "execution_count": 32,
   "metadata": {
    "execution": {
     "iopub.execute_input": "2022-04-26T01:57:50.349550Z",
     "iopub.status.busy": "2022-04-26T01:57:50.349334Z",
     "iopub.status.idle": "2022-04-26T01:57:50.730919Z",
     "shell.execute_reply": "2022-04-26T01:57:50.730129Z",
     "shell.execute_reply.started": "2022-04-26T01:57:50.349525Z"
    },
    "executionInfo": {
     "elapsed": 9,
     "status": "ok",
     "timestamp": 1636215163525,
     "user": {
      "displayName": "Mario Caesar",
      "photoUrl": "https://lh3.googleusercontent.com/a-/AOh14GheyOtCjw9bQyrYjdnb46Fp9pWuEIUHVSHLqwMBBw=s64",
      "userId": "15479329890797732984"
     },
     "user_tz": -420
    },
    "id": "eCrq4rn7XxTt",
    "outputId": "89a0596e-bad6-4c32-9caa-6d9d10d838a6"
   },
   "outputs": [],
   "source": [
    "plt.figure(figsize=(10,7))\n",
    "sns.heatmap(df.corr(), annot=True, cmap='inferno');"
   ]
  },
  {
   "cell_type": "markdown",
   "metadata": {
    "id": "BcZG6vDpfchM"
   },
   "source": [
    "👉 There is positive correlation between Loan Amount and Applicant Income"
   ]
  },
  {
   "cell_type": "markdown",
   "metadata": {
    "id": "IOm0V24oYyQb"
   },
   "source": [
    "### 4.3.2 Categorical 📊 - Categorical 📊"
   ]
  },
  {
   "cell_type": "code",
   "execution_count": 33,
   "metadata": {
    "execution": {
     "iopub.execute_input": "2022-04-26T01:57:50.732237Z",
     "iopub.status.busy": "2022-04-26T01:57:50.731989Z",
     "iopub.status.idle": "2022-04-26T01:57:50.966690Z",
     "shell.execute_reply": "2022-04-26T01:57:50.965706Z",
     "shell.execute_reply.started": "2022-04-26T01:57:50.732209Z"
    },
    "executionInfo": {
     "elapsed": 1066,
     "status": "ok",
     "timestamp": 1636215164586,
     "user": {
      "displayName": "Mario Caesar",
      "photoUrl": "https://lh3.googleusercontent.com/a-/AOh14GheyOtCjw9bQyrYjdnb46Fp9pWuEIUHVSHLqwMBBw=s64",
      "userId": "15479329890797732984"
     },
     "user_tz": -420
    },
    "id": "sO2zNOYmYxkt",
    "outputId": "54fc65c5-b890-488e-d471-72c986d1109d"
   },
   "outputs": [],
   "source": [
    "pd.crosstab(df.Gender,df.Married).plot(kind=\"bar\", stacked=True, figsize=(5,5), color=['#f64f59','#12c2e9'])\n",
    "plt.title('Gender vs Married')\n",
    "plt.xlabel('Gender')\n",
    "plt.ylabel('Frequency')\n",
    "plt.xticks(rotation=0)\n",
    "plt.show()"
   ]
  },
  {
   "cell_type": "markdown",
   "metadata": {
    "id": "H2ic-PSOfxJq"
   },
   "source": [
    "👉 Most male applicants are already married compared to female applicants. Also, the number of not married male applicants are higher compare to female applicants that had not married."
   ]
  },
  {
   "cell_type": "code",
   "execution_count": 34,
   "metadata": {
    "execution": {
     "iopub.execute_input": "2022-04-26T01:57:50.968443Z",
     "iopub.status.busy": "2022-04-26T01:57:50.967855Z",
     "iopub.status.idle": "2022-04-26T01:57:51.182830Z",
     "shell.execute_reply": "2022-04-26T01:57:51.181914Z",
     "shell.execute_reply.started": "2022-04-26T01:57:50.968407Z"
    },
    "executionInfo": {
     "elapsed": 10,
     "status": "ok",
     "timestamp": 1636215164586,
     "user": {
      "displayName": "Mario Caesar",
      "photoUrl": "https://lh3.googleusercontent.com/a-/AOh14GheyOtCjw9bQyrYjdnb46Fp9pWuEIUHVSHLqwMBBw=s64",
      "userId": "15479329890797732984"
     },
     "user_tz": -420
    },
    "id": "Qkge_XadbuLA",
    "outputId": "90ab5cd5-3a90-48e8-b200-465ad802c86b"
   },
   "outputs": [],
   "source": [
    "pd.crosstab(df.Self_Employed,df.Credit_History).plot(kind=\"bar\", stacked=True, figsize=(5,5), color=['#544a7d','#ffd452'])\n",
    "plt.title('Self Employed vs Credit History')\n",
    "plt.xlabel('Self Employed')\n",
    "plt.ylabel('Frequency')\n",
    "plt.legend([\"Bad Credit\", \"Good Credit\"])\n",
    "plt.xticks(rotation=0)\n",
    "plt.show()"
   ]
  },
  {
   "cell_type": "markdown",
   "metadata": {
    "id": "Ab_vh1DWgFS3"
   },
   "source": [
    "👉 Most not self employed applicants have good credit compared to self employed applicants."
   ]
  },
  {
   "cell_type": "code",
   "execution_count": 35,
   "metadata": {
    "execution": {
     "iopub.execute_input": "2022-04-26T01:57:51.184276Z",
     "iopub.status.busy": "2022-04-26T01:57:51.184059Z",
     "iopub.status.idle": "2022-04-26T01:57:51.407787Z",
     "shell.execute_reply": "2022-04-26T01:57:51.406976Z",
     "shell.execute_reply.started": "2022-04-26T01:57:51.184251Z"
    },
    "executionInfo": {
     "elapsed": 10,
     "status": "ok",
     "timestamp": 1636215164587,
     "user": {
      "displayName": "Mario Caesar",
      "photoUrl": "https://lh3.googleusercontent.com/a-/AOh14GheyOtCjw9bQyrYjdnb46Fp9pWuEIUHVSHLqwMBBw=s64",
      "userId": "15479329890797732984"
     },
     "user_tz": -420
    },
    "id": "p1ztJv3wcyRA",
    "outputId": "de51e6c0-fa1a-441b-aefc-b7f9d3a49ea4"
   },
   "outputs": [],
   "source": [
    "pd.crosstab(df.Property_Area,df.Loan_Status).plot(kind=\"bar\", stacked=True, figsize=(5,5), color=['#333333','#dd1818'])\n",
    "plt.title('Property Area vs Loan Status')\n",
    "plt.xlabel('Property Area')\n",
    "plt.ylabel('Frequency')\n",
    "plt.xticks(rotation=0)\n",
    "plt.show()"
   ]
  },
  {
   "cell_type": "markdown",
   "metadata": {
    "id": "yj4e2UvjgWsm"
   },
   "source": [
    "👉 Most of loan that got accepted has property in Semiurban compared to Urban and Rural."
   ]
  },
  {
   "cell_type": "markdown",
   "metadata": {
    "id": "GkPfU3KQdJvH"
   },
   "source": [
    "### 4.3.3 Categorical 📊- Numerical 📈"
   ]
  },
  {
   "cell_type": "code",
   "execution_count": 36,
   "metadata": {
    "execution": {
     "iopub.execute_input": "2022-04-26T01:57:51.409212Z",
     "iopub.status.busy": "2022-04-26T01:57:51.408993Z",
     "iopub.status.idle": "2022-04-26T01:57:51.629634Z",
     "shell.execute_reply": "2022-04-26T01:57:51.628822Z",
     "shell.execute_reply.started": "2022-04-26T01:57:51.409187Z"
    },
    "executionInfo": {
     "elapsed": 9,
     "status": "ok",
     "timestamp": 1636215164587,
     "user": {
      "displayName": "Mario Caesar",
      "photoUrl": "https://lh3.googleusercontent.com/a-/AOh14GheyOtCjw9bQyrYjdnb46Fp9pWuEIUHVSHLqwMBBw=s64",
      "userId": "15479329890797732984"
     },
     "user_tz": -420
    },
    "id": "8KXyIhTWdNoP",
    "outputId": "bd86772f-6998-4945-9f6e-840becad037d"
   },
   "outputs": [],
   "source": [
    "sns.boxplot(x=\"Loan_Status\", y=\"ApplicantIncome\", data=df, palette=\"mako\");"
   ]
  },
  {
   "cell_type": "markdown",
   "metadata": {
    "id": "sK5NrWpdiIbg"
   },
   "source": [
    "👉 It can be seen that there are lots of outliers in Applicant Income, and the distribution also positively skewed"
   ]
  },
  {
   "cell_type": "code",
   "execution_count": 37,
   "metadata": {
    "execution": {
     "iopub.execute_input": "2022-04-26T01:57:51.631357Z",
     "iopub.status.busy": "2022-04-26T01:57:51.631061Z",
     "iopub.status.idle": "2022-04-26T01:57:51.813804Z",
     "shell.execute_reply": "2022-04-26T01:57:51.813041Z",
     "shell.execute_reply.started": "2022-04-26T01:57:51.631319Z"
    },
    "executionInfo": {
     "elapsed": 8,
     "status": "ok",
     "timestamp": 1636215164587,
     "user": {
      "displayName": "Mario Caesar",
      "photoUrl": "https://lh3.googleusercontent.com/a-/AOh14GheyOtCjw9bQyrYjdnb46Fp9pWuEIUHVSHLqwMBBw=s64",
      "userId": "15479329890797732984"
     },
     "user_tz": -420
    },
    "id": "UQgw9pSSdNgK",
    "outputId": "1b8f1689-5929-4d51-d774-8ebc72803330"
   },
   "outputs": [],
   "source": [
    "sns.boxplot(x=\"CoapplicantIncome\", y=\"Loan_Status\", data=df, palette=\"rocket\");"
   ]
  },
  {
   "cell_type": "markdown",
   "metadata": {
    "id": "Y7DFLTqpibiJ"
   },
   "source": [
    "👉 It's clear that Co Applicant Income has a number of outliers, and the distribution is also positively skewed."
   ]
  },
  {
   "cell_type": "code",
   "execution_count": 38,
   "metadata": {
    "execution": {
     "iopub.execute_input": "2022-04-26T01:57:51.816623Z",
     "iopub.status.busy": "2022-04-26T01:57:51.814814Z",
     "iopub.status.idle": "2022-04-26T01:57:51.981669Z",
     "shell.execute_reply": "2022-04-26T01:57:51.980977Z",
     "shell.execute_reply.started": "2022-04-26T01:57:51.816587Z"
    },
    "executionInfo": {
     "elapsed": 801,
     "status": "ok",
     "timestamp": 1636215165381,
     "user": {
      "displayName": "Mario Caesar",
      "photoUrl": "https://lh3.googleusercontent.com/a-/AOh14GheyOtCjw9bQyrYjdnb46Fp9pWuEIUHVSHLqwMBBw=s64",
      "userId": "15479329890797732984"
     },
     "user_tz": -420
    },
    "id": "341fyImTdNO9",
    "outputId": "e2f5ee90-ebc8-446d-8d75-d8de51872e3b"
   },
   "outputs": [],
   "source": [
    "sns.boxplot(x=\"Loan_Status\", y=\"LoanAmount\", data=df, palette=\"YlOrBr\");"
   ]
  },
  {
   "cell_type": "markdown",
   "metadata": {
    "id": "35BpJYOJio5M"
   },
   "source": [
    "👉 As can be seen, Co Applicant Income has a high number of outliers, and the distribution is also positively skewed."
   ]
  },
  {
   "cell_type": "markdown",
   "metadata": {
    "id": "qwYT4WuSi1BA"
   },
   "source": [
    "### 4.3.4 Numerical 📈 - Numerical 📈"
   ]
  },
  {
   "cell_type": "code",
   "execution_count": 39,
   "metadata": {
    "execution": {
     "iopub.execute_input": "2022-04-26T01:57:51.983264Z",
     "iopub.status.busy": "2022-04-26T01:57:51.982813Z",
     "iopub.status.idle": "2022-04-26T01:57:52.207507Z",
     "shell.execute_reply": "2022-04-26T01:57:52.206632Z",
     "shell.execute_reply.started": "2022-04-26T01:57:51.983223Z"
    },
    "executionInfo": {
     "elapsed": 10,
     "status": "ok",
     "timestamp": 1636215165382,
     "user": {
      "displayName": "Mario Caesar",
      "photoUrl": "https://lh3.googleusercontent.com/a-/AOh14GheyOtCjw9bQyrYjdnb46Fp9pWuEIUHVSHLqwMBBw=s64",
      "userId": "15479329890797732984"
     },
     "user_tz": -420
    },
    "id": "xEWeAA3Fi3XJ",
    "outputId": "5df5dfce-7ac0-4df4-f570-f580025ef1fa"
   },
   "outputs": [],
   "source": [
    "df.plot(x='ApplicantIncome', y='CoapplicantIncome', style='o')  \n",
    "plt.title('Applicant Income - Co Applicant Income')  \n",
    "plt.xlabel('ApplicantIncome')\n",
    "plt.ylabel('CoapplicantIncome')  \n",
    "plt.show()\n",
    "print('Pearson correlation:', df['ApplicantIncome'].corr(df['CoapplicantIncome']))\n",
    "print('T Test and P value: \\n', stats.ttest_ind(df['ApplicantIncome'], df['CoapplicantIncome']))"
   ]
  },
  {
   "cell_type": "markdown",
   "metadata": {
    "id": "9W0f-Mi5q_WA"
   },
   "source": [
    "*   There is **negative correlation** between Applicant income and Co Applicant Income.\n",
    "*   The correlation coefficient is **significant** at the 95 per cent confidence interval, as it has a **p-value of 1.46**\n"
   ]
  },
  {
   "cell_type": "markdown",
   "metadata": {
    "id": "Jq0D9_A1VSV9"
   },
   "source": [
    "## 4.4 Null Values 🚫"
   ]
  },
  {
   "cell_type": "code",
   "execution_count": 40,
   "metadata": {
    "execution": {
     "iopub.execute_input": "2022-04-26T01:57:52.209888Z",
     "iopub.status.busy": "2022-04-26T01:57:52.208976Z",
     "iopub.status.idle": "2022-04-26T01:57:52.219904Z",
     "shell.execute_reply": "2022-04-26T01:57:52.219034Z",
     "shell.execute_reply.started": "2022-04-26T01:57:52.209846Z"
    },
    "executionInfo": {
     "elapsed": 9,
     "status": "ok",
     "timestamp": 1636215165382,
     "user": {
      "displayName": "Mario Caesar",
      "photoUrl": "https://lh3.googleusercontent.com/a-/AOh14GheyOtCjw9bQyrYjdnb46Fp9pWuEIUHVSHLqwMBBw=s64",
      "userId": "15479329890797732984"
     },
     "user_tz": -420
    },
    "id": "Buorzh0-VVPS",
    "outputId": "6592eeef-9c3c-4d11-f84c-30b18d4f25a2"
   },
   "outputs": [],
   "source": [
    "df.isnull().sum()"
   ]
  },
  {
   "cell_type": "code",
   "execution_count": 41,
   "metadata": {
    "execution": {
     "iopub.execute_input": "2022-04-26T01:57:52.221803Z",
     "iopub.status.busy": "2022-04-26T01:57:52.221378Z",
     "iopub.status.idle": "2022-04-26T01:57:52.912230Z",
     "shell.execute_reply": "2022-04-26T01:57:52.911281Z",
     "shell.execute_reply.started": "2022-04-26T01:57:52.221774Z"
    },
    "executionInfo": {
     "elapsed": 680,
     "status": "ok",
     "timestamp": 1636215166055,
     "user": {
      "displayName": "Mario Caesar",
      "photoUrl": "https://lh3.googleusercontent.com/a-/AOh14GheyOtCjw9bQyrYjdnb46Fp9pWuEIUHVSHLqwMBBw=s64",
      "userId": "15479329890797732984"
     },
     "user_tz": -420
    },
    "id": "MSESe0JvVZ67",
    "outputId": "87a1f38f-1c71-4869-fd76-d389e5cc80be"
   },
   "outputs": [],
   "source": [
    "plt.figure(figsize = (24, 5))\n",
    "axz = plt.subplot(1,2,2)\n",
    "mso.bar(df, ax = axz, fontsize = 12);"
   ]
  },
  {
   "cell_type": "markdown",
   "metadata": {
    "id": "b6LoQvhRVUup"
   },
   "source": [
    "👉 Previously, the null values has been explored for Categorical Variables. In this section, the null values has been explored **for all variables** in the dataset."
   ]
  },
  {
   "cell_type": "markdown",
   "metadata": {
    "id": "i0K8wc4UVyX2"
   },
   "source": [
    "# 5. Data Preprocessing ⚙"
   ]
  },
  {
   "cell_type": "markdown",
   "metadata": {
    "id": "_JhvC2qZW4ke"
   },
   "source": [
    "## 5.1 Drop Unecessary Variables 🔻\n",
    "👉 Unecessary variables will be dropped in this section."
   ]
  },
  {
   "cell_type": "code",
   "execution_count": 42,
   "metadata": {
    "execution": {
     "iopub.execute_input": "2022-04-26T01:57:52.914307Z",
     "iopub.status.busy": "2022-04-26T01:57:52.913979Z",
     "iopub.status.idle": "2022-04-26T01:57:52.919864Z",
     "shell.execute_reply": "2022-04-26T01:57:52.919094Z",
     "shell.execute_reply.started": "2022-04-26T01:57:52.914266Z"
    },
    "id": "w255orBlXxSC"
   },
   "outputs": [],
   "source": [
    "df = df.drop(['Loan_ID'], axis = 1)"
   ]
  },
  {
   "cell_type": "markdown",
   "metadata": {
    "id": "E9RXvNsoV16b"
   },
   "source": [
    "## 5.2 Data Imputation 📝\n",
    "👉 Imputation is a technique for substituting an estimated value for missing values in a dataset. In this section, the imputation will be performed for variables that have missing values."
   ]
  },
  {
   "cell_type": "markdown",
   "metadata": {
    "id": "uziNPF4eGlyJ"
   },
   "source": [
    "### 5.2.1 Categorical Variables 📊\n",
    "👉 In this section, the imputation for categorical variables will be performed using **mode**."
   ]
  },
  {
   "cell_type": "code",
   "execution_count": 43,
   "metadata": {
    "execution": {
     "iopub.execute_input": "2022-04-26T01:57:52.921819Z",
     "iopub.status.busy": "2022-04-26T01:57:52.921278Z",
     "iopub.status.idle": "2022-04-26T01:57:52.936816Z",
     "shell.execute_reply": "2022-04-26T01:57:52.935899Z",
     "shell.execute_reply.started": "2022-04-26T01:57:52.921777Z"
    },
    "id": "1Dna_U33V09a"
   },
   "outputs": [],
   "source": [
    "df['Gender'].fillna(df['Gender'].mode()[0],inplace=True)\n",
    "df['Married'].fillna(df['Married'].mode()[0],inplace=True)\n",
    "df['Dependents'].fillna(df['Dependents'].mode()[0],inplace=True)\n",
    "df['Self_Employed'].fillna(df['Self_Employed'].mode()[0],inplace=True)\n",
    "df['Credit_History'].fillna(df['Credit_History'].mode()[0],inplace=True)\n",
    "df['Loan_Amount_Term'].fillna(df['Loan_Amount_Term'].mode()[0],inplace=True)"
   ]
  },
  {
   "cell_type": "markdown",
   "metadata": {
    "id": "7s3L4BM0Gvpr"
   },
   "source": [
    "### 5.2.2 Numerical Variables 📈\n",
    "👉 The next section is imputation for numerical variables using **mean**."
   ]
  },
  {
   "cell_type": "code",
   "execution_count": 44,
   "metadata": {
    "execution": {
     "iopub.execute_input": "2022-04-26T01:57:52.938890Z",
     "iopub.status.busy": "2022-04-26T01:57:52.938240Z",
     "iopub.status.idle": "2022-04-26T01:57:52.944976Z",
     "shell.execute_reply": "2022-04-26T01:57:52.944170Z",
     "shell.execute_reply.started": "2022-04-26T01:57:52.938846Z"
    },
    "id": "OayJ893bG665"
   },
   "outputs": [],
   "source": [
    "df['LoanAmount'].fillna(df['LoanAmount'].mean(),inplace=True)"
   ]
  },
  {
   "cell_type": "markdown",
   "metadata": {
    "id": "svjroAn8KInZ"
   },
   "source": [
    "## 5.3 One-hot Encoding 🔧\n",
    "👉 In this section, I will **transform categorical variables into a form that could be provided by ML algorithms to do a better prediction.**"
   ]
  },
  {
   "cell_type": "code",
   "execution_count": 45,
   "metadata": {
    "execution": {
     "iopub.execute_input": "2022-04-26T01:57:52.948527Z",
     "iopub.status.busy": "2022-04-26T01:57:52.947801Z",
     "iopub.status.idle": "2022-04-26T01:57:52.966131Z",
     "shell.execute_reply": "2022-04-26T01:57:52.965441Z",
     "shell.execute_reply.started": "2022-04-26T01:57:52.948475Z"
    },
    "id": "JPrZD3MHLBJO"
   },
   "outputs": [],
   "source": [
    "df = pd.get_dummies(df)\n",
    "\n",
    "# Drop columns\n",
    "df = df.drop(['Gender_Female', 'Married_No', 'Education_Not Graduate', \n",
    "              'Self_Employed_No', 'Loan_Status_N'], axis = 1)\n",
    "\n",
    "# Rename columns name\n",
    "new = {'Gender_Male': 'Gender', 'Married_Yes': 'Married', \n",
    "       'Education_Graduate': 'Education', 'Self_Employed_Yes': 'Self_Employed',\n",
    "       'Loan_Status_Y': 'Loan_Status'}\n",
    "       \n",
    "df.rename(columns=new, inplace=True)"
   ]
  },
  {
   "cell_type": "markdown",
   "metadata": {
    "id": "4xekDiffkIIb"
   },
   "source": [
    "## 5.3 Remove Outliers & Infinite values 🚮\n",
    "👉 Since there are outliers, **the outliers will be removed**. <br>\n"
   ]
  },
  {
   "cell_type": "code",
   "execution_count": 46,
   "metadata": {
    "execution": {
     "iopub.execute_input": "2022-04-26T01:57:52.969459Z",
     "iopub.status.busy": "2022-04-26T01:57:52.968987Z",
     "iopub.status.idle": "2022-04-26T01:57:52.982743Z",
     "shell.execute_reply": "2022-04-26T01:57:52.982042Z",
     "shell.execute_reply.started": "2022-04-26T01:57:52.969424Z"
    },
    "id": "7xXzLUK4kHsf"
   },
   "outputs": [],
   "source": [
    "Q1 = df.quantile(0.25)\n",
    "Q3 = df.quantile(0.75)\n",
    "IQR = Q3 - Q1\n",
    "\n",
    "df = df[~((df < (Q1 - 1.5 * IQR)) |(df > (Q3 + 1.5 * IQR))).any(axis=1)]"
   ]
  },
  {
   "cell_type": "markdown",
   "metadata": {
    "id": "r7hJ7w6dMlZk"
   },
   "source": [
    "## 5.4 Skewed Distribution Treatment 📐\n",
    "👉 In previous section, it already shown that **distribution for ApplicantIncome, CoapplicantIncome, and LoanAmount is positively skewed**. <br>\n",
    "👉 I will use **square root transformation** to normalized the distribution."
   ]
  },
  {
   "cell_type": "code",
   "execution_count": 47,
   "metadata": {
    "execution": {
     "iopub.execute_input": "2022-04-26T01:57:52.984288Z",
     "iopub.status.busy": "2022-04-26T01:57:52.983994Z",
     "iopub.status.idle": "2022-04-26T01:57:52.990178Z",
     "shell.execute_reply": "2022-04-26T01:57:52.989313Z",
     "shell.execute_reply.started": "2022-04-26T01:57:52.984259Z"
    },
    "executionInfo": {
     "elapsed": 9,
     "status": "ok",
     "timestamp": 1636215166057,
     "user": {
      "displayName": "Mario Caesar",
      "photoUrl": "https://lh3.googleusercontent.com/a-/AOh14GheyOtCjw9bQyrYjdnb46Fp9pWuEIUHVSHLqwMBBw=s64",
      "userId": "15479329890797732984"
     },
     "user_tz": -420
    },
    "id": "fMwoGg5BOKjo",
    "outputId": "354cd395-9fe5-4fc9-9ed7-07592e3b3e0a"
   },
   "outputs": [],
   "source": [
    "# Square Root Transformation\n",
    "\n",
    "df.ApplicantIncome = np.sqrt(df.ApplicantIncome)\n",
    "df.CoapplicantIncome = np.sqrt(df.CoapplicantIncome)\n",
    "df.LoanAmount = np.sqrt(df.LoanAmount)"
   ]
  },
  {
   "cell_type": "code",
   "execution_count": 48,
   "metadata": {
    "execution": {
     "iopub.execute_input": "2022-04-26T01:57:52.991702Z",
     "iopub.status.busy": "2022-04-26T01:57:52.991056Z",
     "iopub.status.idle": "2022-04-26T01:57:53.775773Z",
     "shell.execute_reply": "2022-04-26T01:57:53.774839Z",
     "shell.execute_reply.started": "2022-04-26T01:57:52.991670Z"
    },
    "executionInfo": {
     "elapsed": 1534,
     "status": "ok",
     "timestamp": 1636215167585,
     "user": {
      "displayName": "Mario Caesar",
      "photoUrl": "https://lh3.googleusercontent.com/a-/AOh14GheyOtCjw9bQyrYjdnb46Fp9pWuEIUHVSHLqwMBBw=s64",
      "userId": "15479329890797732984"
     },
     "user_tz": -420
    },
    "id": "5z_EKO1ITgTU",
    "outputId": "ec4e5ce5-f52f-49e0-bcf2-ef196960de2d"
   },
   "outputs": [],
   "source": [
    "sns.set(style=\"darkgrid\")\n",
    "fig, axs = plt.subplots(2, 2, figsize=(10, 8))\n",
    "\n",
    "sns.histplot(data=df, x=\"ApplicantIncome\", kde=True, ax=axs[0, 0], color='green')\n",
    "sns.histplot(data=df, x=\"CoapplicantIncome\", kde=True, ax=axs[0, 1], color='skyblue')\n",
    "sns.histplot(data=df, x=\"LoanAmount\", kde=True, ax=axs[1, 0], color='orange');"
   ]
  },
  {
   "cell_type": "markdown",
   "metadata": {
    "id": "RF-7s2avUipu"
   },
   "source": [
    "👉 As can be seen, the distribution after using log transformation are much better compared to original distribution."
   ]
  },
  {
   "cell_type": "markdown",
   "metadata": {
    "id": "E6V0WTjKgwFj"
   },
   "source": [
    "## 5.5 Features Separating ➗\n",
    "👉 Dependent features (Loan_Status) will be seperated from independent features."
   ]
  },
  {
   "cell_type": "code",
   "execution_count": 49,
   "metadata": {
    "execution": {
     "iopub.execute_input": "2022-04-26T01:57:53.777444Z",
     "iopub.status.busy": "2022-04-26T01:57:53.777145Z",
     "iopub.status.idle": "2022-04-26T01:57:53.784742Z",
     "shell.execute_reply": "2022-04-26T01:57:53.783656Z",
     "shell.execute_reply.started": "2022-04-26T01:57:53.777406Z"
    },
    "id": "sJJVP_kPhZh1"
   },
   "outputs": [],
   "source": [
    "X = df.drop([\"Loan_Status\"], axis=1)\n",
    "y = df[\"Loan_Status\"]"
   ]
  },
  {
   "cell_type": "markdown",
   "metadata": {
    "id": "UpuBMRbEUx5n"
   },
   "source": [
    "## 5.6 SMOTE Technique 🔨\n",
    "👉 In previous exploration, it can be seen that **the number between approved and rejected loan is imbalanced**. In this section, **oversampling technique will be used to avoid overfitting**,"
   ]
  },
  {
   "cell_type": "code",
   "execution_count": 50,
   "metadata": {
    "execution": {
     "iopub.execute_input": "2022-04-26T01:57:53.786783Z",
     "iopub.status.busy": "2022-04-26T01:57:53.786412Z",
     "iopub.status.idle": "2022-04-26T01:57:53.806872Z",
     "shell.execute_reply": "2022-04-26T01:57:53.806001Z",
     "shell.execute_reply.started": "2022-04-26T01:57:53.786684Z"
    },
    "id": "FRrTxXZNU7Wg"
   },
   "outputs": [],
   "source": [
    "X, y = SMOTE().fit_resample(X, y)"
   ]
  },
  {
   "cell_type": "code",
   "execution_count": 51,
   "metadata": {
    "execution": {
     "iopub.execute_input": "2022-04-26T01:57:53.808502Z",
     "iopub.status.busy": "2022-04-26T01:57:53.808091Z",
     "iopub.status.idle": "2022-04-26T01:57:53.957554Z",
     "shell.execute_reply": "2022-04-26T01:57:53.956638Z",
     "shell.execute_reply.started": "2022-04-26T01:57:53.808472Z"
    },
    "executionInfo": {
     "elapsed": 22,
     "status": "ok",
     "timestamp": 1636215168412,
     "user": {
      "displayName": "Mario Caesar",
      "photoUrl": "https://lh3.googleusercontent.com/a-/AOh14GheyOtCjw9bQyrYjdnb46Fp9pWuEIUHVSHLqwMBBw=s64",
      "userId": "15479329890797732984"
     },
     "user_tz": -420
    },
    "id": "RVpxywzMzbQb",
    "outputId": "3b016bfb-0075-4b26-ee4a-88e5e59acfbf"
   },
   "outputs": [],
   "source": [
    "sns.set_theme(style=\"darkgrid\")\n",
    "sns.countplot(y=y, data=df, palette=\"coolwarm\")\n",
    "plt.ylabel('Loan Status')\n",
    "plt.xlabel('Total')\n",
    "plt.show()"
   ]
  },
  {
   "cell_type": "markdown",
   "metadata": {
    "id": "KS8B6JYJ0GB9"
   },
   "source": [
    "👉 As can be seen, the distrubtion of Loan status are now **balanced**."
   ]
  },
  {
   "cell_type": "markdown",
   "metadata": {
    "id": "deRoCdMn0Y4S"
   },
   "source": [
    "## 5.7 Data Normalization ⚖\n",
    "👉 In this section, data normalization will be performed **to normalize the range of independent variables or features of data**."
   ]
  },
  {
   "cell_type": "code",
   "execution_count": 52,
   "metadata": {
    "execution": {
     "iopub.execute_input": "2022-04-26T01:57:53.959990Z",
     "iopub.status.busy": "2022-04-26T01:57:53.959388Z",
     "iopub.status.idle": "2022-04-26T01:57:53.970675Z",
     "shell.execute_reply": "2022-04-26T01:57:53.969871Z",
     "shell.execute_reply.started": "2022-04-26T01:57:53.959948Z"
    },
    "id": "WmA2qj9y0Yqo"
   },
   "outputs": [],
   "source": [
    "X = MinMaxScaler().fit_transform(X)"
   ]
  },
  {
   "cell_type": "markdown",
   "metadata": {
    "id": "n9-O0Q9D3XwK"
   },
   "source": [
    "## 5.8 Splitting Data Set 🪓\n",
    "👉 The data set will be split into **80% train and 20% test**."
   ]
  },
  {
   "cell_type": "code",
   "execution_count": 53,
   "metadata": {
    "execution": {
     "iopub.execute_input": "2022-04-26T01:57:53.973058Z",
     "iopub.status.busy": "2022-04-26T01:57:53.972812Z",
     "iopub.status.idle": "2022-04-26T01:57:53.980787Z",
     "shell.execute_reply": "2022-04-26T01:57:53.979983Z",
     "shell.execute_reply.started": "2022-04-26T01:57:53.973024Z"
    },
    "id": "sfenUwlr3c2Y"
   },
   "outputs": [],
   "source": [
    "X_train, X_test, y_train, y_test = train_test_split(X, y, test_size = 0.2, random_state = 0)"
   ]
  },
  {
   "cell_type": "markdown",
   "metadata": {
    "id": "3ixOkJUx3puI"
   },
   "source": [
    "# 6. Models 🛠"
   ]
  },
  {
   "cell_type": "markdown",
   "metadata": {
    "id": "MS0qL8PC4K3o"
   },
   "source": [
    "## 6.1 Logistic Regression"
   ]
  },
  {
   "cell_type": "code",
   "execution_count": 54,
   "metadata": {
    "execution": {
     "iopub.execute_input": "2022-04-26T01:57:53.982402Z",
     "iopub.status.busy": "2022-04-26T01:57:53.982149Z",
     "iopub.status.idle": "2022-04-26T01:57:54.005867Z",
     "shell.execute_reply": "2022-04-26T01:57:54.005156Z",
     "shell.execute_reply.started": "2022-04-26T01:57:53.982373Z"
    },
    "executionInfo": {
     "elapsed": 19,
     "status": "ok",
     "timestamp": 1636215168414,
     "user": {
      "displayName": "Mario Caesar",
      "photoUrl": "https://lh3.googleusercontent.com/a-/AOh14GheyOtCjw9bQyrYjdnb46Fp9pWuEIUHVSHLqwMBBw=s64",
      "userId": "15479329890797732984"
     },
     "user_tz": -420
    },
    "id": "Xa5A1VSf4Fgu",
    "outputId": "8b03e79f-86a0-4abf-c15e-47db0f151b0c"
   },
   "outputs": [],
   "source": [
    "LRclassifier = LogisticRegression(solver='saga', max_iter=500, random_state=1)\n",
    "LRclassifier.fit(X_train, y_train)\n",
    "\n",
    "y_pred = LRclassifier.predict(X_test)\n",
    "\n",
    "print(classification_report(y_test, y_pred))\n",
    "print(confusion_matrix(y_test, y_pred))\n",
    "\n",
    "from sklearn.metrics import accuracy_score\n",
    "LRAcc = accuracy_score(y_pred,y_test)\n",
    "print('LR accuracy: {:.2f}%'.format(LRAcc*100))"
   ]
  },
  {
   "cell_type": "markdown",
   "metadata": {
    "id": "1taw0vyy7hu9"
   },
   "source": [
    "## 6.2 K-Nearest Neighbour (KNN)"
   ]
  },
  {
   "cell_type": "code",
   "execution_count": 1,
   "metadata": {
    "execution": {
     "iopub.execute_input": "2022-04-26T01:57:54.008112Z",
     "iopub.status.busy": "2022-04-26T01:57:54.007248Z",
     "iopub.status.idle": "2022-04-26T01:57:54.330186Z",
     "shell.execute_reply": "2022-04-26T01:57:54.329257Z",
     "shell.execute_reply.started": "2022-04-26T01:57:54.008049Z"
    },
    "executionInfo": {
     "elapsed": 16,
     "status": "ok",
     "timestamp": 1636215168414,
     "user": {
      "displayName": "Mario Caesar",
      "photoUrl": "https://lh3.googleusercontent.com/a-/AOh14GheyOtCjw9bQyrYjdnb46Fp9pWuEIUHVSHLqwMBBw=s64",
      "userId": "15479329890797732984"
     },
     "user_tz": -420
    },
    "id": "1c77uWXR5bwM",
    "outputId": "cc161975-009f-4f61-a175-86f581c6ae39"
   },
   "outputs": [
    {
     "ename": "NameError",
     "evalue": "name 'KNeighborsClassifier' is not defined",
     "output_type": "error",
     "traceback": [
      "\u001b[1;31m---------------------------------------------------------------------------\u001b[0m",
      "\u001b[1;31mNameError\u001b[0m                                 Traceback (most recent call last)",
      "\u001b[1;32m<ipython-input-1-71d3faf74689>\u001b[0m in \u001b[0;36m<module>\u001b[1;34m\u001b[0m\n\u001b[0;32m      1\u001b[0m \u001b[0mscoreListknn\u001b[0m \u001b[1;33m=\u001b[0m \u001b[1;33m[\u001b[0m\u001b[1;33m]\u001b[0m\u001b[1;33m\u001b[0m\u001b[1;33m\u001b[0m\u001b[0m\n\u001b[0;32m      2\u001b[0m \u001b[1;32mfor\u001b[0m \u001b[0mi\u001b[0m \u001b[1;32min\u001b[0m \u001b[0mrange\u001b[0m\u001b[1;33m(\u001b[0m\u001b[1;36m1\u001b[0m\u001b[1;33m,\u001b[0m\u001b[1;36m21\u001b[0m\u001b[1;33m)\u001b[0m\u001b[1;33m:\u001b[0m\u001b[1;33m\u001b[0m\u001b[1;33m\u001b[0m\u001b[0m\n\u001b[1;32m----> 3\u001b[1;33m     \u001b[0mKNclassifier\u001b[0m \u001b[1;33m=\u001b[0m \u001b[0mKNeighborsClassifier\u001b[0m\u001b[1;33m(\u001b[0m\u001b[0mn_neighbors\u001b[0m \u001b[1;33m=\u001b[0m \u001b[0mi\u001b[0m\u001b[1;33m)\u001b[0m\u001b[1;33m\u001b[0m\u001b[1;33m\u001b[0m\u001b[0m\n\u001b[0m\u001b[0;32m      4\u001b[0m     \u001b[0mKNclassifier\u001b[0m\u001b[1;33m.\u001b[0m\u001b[0mfit\u001b[0m\u001b[1;33m(\u001b[0m\u001b[0mX_train\u001b[0m\u001b[1;33m,\u001b[0m \u001b[0my_train\u001b[0m\u001b[1;33m)\u001b[0m\u001b[1;33m\u001b[0m\u001b[1;33m\u001b[0m\u001b[0m\n\u001b[0;32m      5\u001b[0m     \u001b[0mscoreListknn\u001b[0m\u001b[1;33m.\u001b[0m\u001b[0mappend\u001b[0m\u001b[1;33m(\u001b[0m\u001b[0mKNclassifier\u001b[0m\u001b[1;33m.\u001b[0m\u001b[0mscore\u001b[0m\u001b[1;33m(\u001b[0m\u001b[0mX_test\u001b[0m\u001b[1;33m,\u001b[0m \u001b[0my_test\u001b[0m\u001b[1;33m)\u001b[0m\u001b[1;33m)\u001b[0m\u001b[1;33m\u001b[0m\u001b[1;33m\u001b[0m\u001b[0m\n",
      "\u001b[1;31mNameError\u001b[0m: name 'KNeighborsClassifier' is not defined"
     ]
    }
   ],
   "source": [
    "scoreListknn = []\n",
    "for i in range(1,21):\n",
    "    KNclassifier = KNeighborsClassifier(n_neighbors = i)\n",
    "    KNclassifier.fit(X_train, y_train)\n",
    "    scoreListknn.append(KNclassifier.score(X_test, y_test))\n",
    "    \n",
    "plt.plot(range(1,21), scoreListknn)\n",
    "plt.xticks(np.arange(1,21,1))\n",
    "plt.xlabel(\"K value\")\n",
    "plt.ylabel(\"Score\")\n",
    "plt.show()\n",
    "KNAcc = max(scoreListknn)\n",
    "print(\"KNN best accuracy: {:.2f}%\".format(KNAcc*100))"
   ]
  },
  {
   "cell_type": "markdown",
   "metadata": {
    "id": "sZiCQChQ8IUG"
   },
   "source": [
    "## 6.3 Support Vector Machine (SVM)"
   ]
  },
  {
   "cell_type": "code",
   "execution_count": 56,
   "metadata": {
    "execution": {
     "iopub.execute_input": "2022-04-26T01:57:54.332335Z",
     "iopub.status.busy": "2022-04-26T01:57:54.331916Z",
     "iopub.status.idle": "2022-04-26T01:57:54.350747Z",
     "shell.execute_reply": "2022-04-26T01:57:54.349772Z",
     "shell.execute_reply.started": "2022-04-26T01:57:54.332293Z"
    },
    "executionInfo": {
     "elapsed": 15,
     "status": "ok",
     "timestamp": 1636215168414,
     "user": {
      "displayName": "Mario Caesar",
      "photoUrl": "https://lh3.googleusercontent.com/a-/AOh14GheyOtCjw9bQyrYjdnb46Fp9pWuEIUHVSHLqwMBBw=s64",
      "userId": "15479329890797732984"
     },
     "user_tz": -420
    },
    "id": "EaPdKhgx8RsA",
    "outputId": "9eea4d16-5f9c-49d3-feb1-5e1baf9dce68"
   },
   "outputs": [],
   "source": [
    "SVCclassifier = SVC(kernel='rbf', max_iter=500)\n",
    "SVCclassifier.fit(X_train, y_train)\n",
    "\n",
    "y_pred = SVCclassifier.predict(X_test)\n",
    "\n",
    "print(classification_report(y_test, y_pred))\n",
    "print(confusion_matrix(y_test, y_pred))\n",
    "\n",
    "from sklearn.metrics import accuracy_score\n",
    "SVCAcc = accuracy_score(y_pred,y_test)\n",
    "print('SVC accuracy: {:.2f}%'.format(SVCAcc*100))"
   ]
  },
  {
   "cell_type": "markdown",
   "metadata": {
    "id": "W5bkW7Ez9EQw"
   },
   "source": [
    "## 6.4 Naive Bayes"
   ]
  },
  {
   "cell_type": "markdown",
   "metadata": {
    "id": "z9iKq1Xy9fmw"
   },
   "source": [
    "### 6.4.1 Categorical NB"
   ]
  },
  {
   "cell_type": "code",
   "execution_count": 57,
   "metadata": {
    "execution": {
     "iopub.execute_input": "2022-04-26T01:57:54.352338Z",
     "iopub.status.busy": "2022-04-26T01:57:54.352105Z",
     "iopub.status.idle": "2022-04-26T01:57:54.367958Z",
     "shell.execute_reply": "2022-04-26T01:57:54.366649Z",
     "shell.execute_reply.started": "2022-04-26T01:57:54.352312Z"
    },
    "executionInfo": {
     "elapsed": 14,
     "status": "ok",
     "timestamp": 1636215168415,
     "user": {
      "displayName": "Mario Caesar",
      "photoUrl": "https://lh3.googleusercontent.com/a-/AOh14GheyOtCjw9bQyrYjdnb46Fp9pWuEIUHVSHLqwMBBw=s64",
      "userId": "15479329890797732984"
     },
     "user_tz": -420
    },
    "id": "OMt6iovq9D4Z",
    "outputId": "e540b802-c9e4-46e9-f5fe-a0a81137559f"
   },
   "outputs": [],
   "source": [
    "NBclassifier1 = CategoricalNB()\n",
    "NBclassifier1.fit(X_train, y_train)\n",
    "\n",
    "y_pred = NBclassifier1.predict(X_test)\n",
    "\n",
    "print(classification_report(y_test, y_pred))\n",
    "print(confusion_matrix(y_test, y_pred))\n",
    "\n",
    "from sklearn.metrics import accuracy_score\n",
    "NBAcc1 = accuracy_score(y_pred,y_test)\n",
    "print('Categorical Naive Bayes accuracy: {:.2f}%'.format(NBAcc1*100))"
   ]
  },
  {
   "cell_type": "markdown",
   "metadata": {
    "id": "bjlQpJN59UbD"
   },
   "source": [
    "### 6.4.2 Gaussian NB"
   ]
  },
  {
   "cell_type": "code",
   "execution_count": 58,
   "metadata": {
    "execution": {
     "iopub.execute_input": "2022-04-26T01:57:54.369960Z",
     "iopub.status.busy": "2022-04-26T01:57:54.369657Z",
     "iopub.status.idle": "2022-04-26T01:57:54.384590Z",
     "shell.execute_reply": "2022-04-26T01:57:54.383515Z",
     "shell.execute_reply.started": "2022-04-26T01:57:54.369920Z"
    },
    "executionInfo": {
     "elapsed": 12,
     "status": "ok",
     "timestamp": 1636215168415,
     "user": {
      "displayName": "Mario Caesar",
      "photoUrl": "https://lh3.googleusercontent.com/a-/AOh14GheyOtCjw9bQyrYjdnb46Fp9pWuEIUHVSHLqwMBBw=s64",
      "userId": "15479329890797732984"
     },
     "user_tz": -420
    },
    "id": "RJv2_DVl9Tn8",
    "outputId": "ccdeb68c-b960-4824-e00f-acc78366a610"
   },
   "outputs": [],
   "source": [
    "NBclassifier2 = GaussianNB()\n",
    "NBclassifier2.fit(X_train, y_train)\n",
    "\n",
    "y_pred = NBclassifier2.predict(X_test)\n",
    "\n",
    "print(classification_report(y_test, y_pred))\n",
    "print(confusion_matrix(y_test, y_pred))\n",
    "\n",
    "from sklearn.metrics import accuracy_score\n",
    "NBAcc2 = accuracy_score(y_pred,y_test)\n",
    "print('Gaussian Naive Bayes accuracy: {:.2f}%'.format(NBAcc2*100))"
   ]
  },
  {
   "cell_type": "markdown",
   "metadata": {
    "id": "cnen-6ZD9ZWc"
   },
   "source": [
    "## 6.5 Decision Tree"
   ]
  },
  {
   "cell_type": "code",
   "execution_count": 59,
   "metadata": {
    "execution": {
     "iopub.execute_input": "2022-04-26T01:57:54.385947Z",
     "iopub.status.busy": "2022-04-26T01:57:54.385737Z",
     "iopub.status.idle": "2022-04-26T01:57:54.810436Z",
     "shell.execute_reply": "2022-04-26T01:57:54.809912Z",
     "shell.execute_reply.started": "2022-04-26T01:57:54.385922Z"
    },
    "executionInfo": {
     "elapsed": 845,
     "status": "ok",
     "timestamp": 1636215169251,
     "user": {
      "displayName": "Mario Caesar",
      "photoUrl": "https://lh3.googleusercontent.com/a-/AOh14GheyOtCjw9bQyrYjdnb46Fp9pWuEIUHVSHLqwMBBw=s64",
      "userId": "15479329890797732984"
     },
     "user_tz": -420
    },
    "id": "twABLtSw9icG",
    "outputId": "d7fccec0-b734-41ee-fc47-668aad7f7466"
   },
   "outputs": [],
   "source": [
    "scoreListDT = []\n",
    "for i in range(2,21):\n",
    "    DTclassifier = DecisionTreeClassifier(max_leaf_nodes=i)\n",
    "    DTclassifier.fit(X_train, y_train)\n",
    "    scoreListDT.append(DTclassifier.score(X_test, y_test))\n",
    "    \n",
    "plt.plot(range(2,21), scoreListDT)\n",
    "plt.xticks(np.arange(2,21,1))\n",
    "plt.xlabel(\"Leaf\")\n",
    "plt.ylabel(\"Score\")\n",
    "plt.show()\n",
    "DTAcc = max(scoreListDT)\n",
    "print(\"Decision Tree Accuracy: {:.2f}%\".format(DTAcc*100))"
   ]
  },
  {
   "cell_type": "markdown",
   "metadata": {
    "id": "GfW_OJU69opG"
   },
   "source": [
    "## 6.6 Random Forest"
   ]
  },
  {
   "cell_type": "code",
   "execution_count": 60,
   "metadata": {
    "execution": {
     "iopub.execute_input": "2022-04-26T01:57:54.811862Z",
     "iopub.status.busy": "2022-04-26T01:57:54.811503Z",
     "iopub.status.idle": "2022-04-26T01:58:26.665463Z",
     "shell.execute_reply": "2022-04-26T01:58:26.664874Z",
     "shell.execute_reply.started": "2022-04-26T01:57:54.811834Z"
    },
    "executionInfo": {
     "elapsed": 33809,
     "status": "ok",
     "timestamp": 1636215203059,
     "user": {
      "displayName": "Mario Caesar",
      "photoUrl": "https://lh3.googleusercontent.com/a-/AOh14GheyOtCjw9bQyrYjdnb46Fp9pWuEIUHVSHLqwMBBw=s64",
      "userId": "15479329890797732984"
     },
     "user_tz": -420
    },
    "id": "TnLwqYnP9pD7",
    "outputId": "1f94c144-81b1-4f57-973f-e150b09a656b"
   },
   "outputs": [],
   "source": [
    "scoreListRF = []\n",
    "for i in range(2,25):\n",
    "    RFclassifier = RandomForestClassifier(n_estimators = 1000, random_state = 1, max_leaf_nodes=i)\n",
    "    RFclassifier.fit(X_train, y_train)\n",
    "    scoreListRF.append(RFclassifier.score(X_test, y_test))\n",
    "    \n",
    "plt.plot(range(2,25), scoreListRF)\n",
    "plt.xticks(np.arange(2,25,1))\n",
    "plt.xlabel(\"RF Value\")\n",
    "plt.ylabel(\"Score\")\n",
    "plt.show()\n",
    "RFAcc = max(scoreListRF)\n",
    "print(\"Random Forest Accuracy:  {:.2f}%\".format(RFAcc*100))"
   ]
  },
  {
   "cell_type": "markdown",
   "metadata": {
    "id": "2AszJDft-gc6"
   },
   "source": [
    "## 6.7 Gradient Boosting"
   ]
  },
  {
   "cell_type": "code",
   "execution_count": 61,
   "metadata": {
    "execution": {
     "iopub.execute_input": "2022-04-26T01:58:26.666887Z",
     "iopub.status.busy": "2022-04-26T01:58:26.666670Z",
     "iopub.status.idle": "2022-04-26T01:58:26.671572Z",
     "shell.execute_reply": "2022-04-26T01:58:26.670620Z",
     "shell.execute_reply.started": "2022-04-26T01:58:26.666861Z"
    },
    "id": "Ev-NFeI0-WcW"
   },
   "outputs": [],
   "source": [
    "paramsGB={'n_estimators':[100,200,300,400,500],\n",
    "      'max_depth':[1,2,3,4,5],\n",
    "      'subsample':[0.5,1],\n",
    "      'max_leaf_nodes':[2,5,10,20,30,40,50]}"
   ]
  },
  {
   "cell_type": "code",
   "execution_count": null,
   "metadata": {
    "execution": {
     "iopub.execute_input": "2022-04-26T01:58:26.673847Z",
     "iopub.status.busy": "2022-04-26T01:58:26.672929Z"
    },
    "executionInfo": {
     "elapsed": 46939,
     "status": "ok",
     "timestamp": 1636215249994,
     "user": {
      "displayName": "Mario Caesar",
      "photoUrl": "https://lh3.googleusercontent.com/a-/AOh14GheyOtCjw9bQyrYjdnb46Fp9pWuEIUHVSHLqwMBBw=s64",
      "userId": "15479329890797732984"
     },
     "user_tz": -420
    },
    "id": "r46JuovY-j9z",
    "outputId": "d6f0a481-719d-43dd-faa6-548f08d6ab46"
   },
   "outputs": [],
   "source": [
    "GB = RandomizedSearchCV(GradientBoostingClassifier(), paramsGB, cv=20)\n",
    "GB.fit(X_train, y_train)"
   ]
  },
  {
   "cell_type": "code",
   "execution_count": null,
   "metadata": {
    "executionInfo": {
     "elapsed": 13,
     "status": "ok",
     "timestamp": 1636215249995,
     "user": {
      "displayName": "Mario Caesar",
      "photoUrl": "https://lh3.googleusercontent.com/a-/AOh14GheyOtCjw9bQyrYjdnb46Fp9pWuEIUHVSHLqwMBBw=s64",
      "userId": "15479329890797732984"
     },
     "user_tz": -420
    },
    "id": "y-rIVPNu-qyZ",
    "outputId": "d66c9ccc-6e48-4737-9a10-c10afd3331b6"
   },
   "outputs": [],
   "source": [
    "print(GB.best_estimator_)\n",
    "print(GB.best_score_)\n",
    "print(GB.best_params_)\n",
    "print(GB.best_index_)"
   ]
  },
  {
   "cell_type": "code",
   "execution_count": null,
   "metadata": {
    "executionInfo": {
     "elapsed": 804,
     "status": "ok",
     "timestamp": 1636215250789,
     "user": {
      "displayName": "Mario Caesar",
      "photoUrl": "https://lh3.googleusercontent.com/a-/AOh14GheyOtCjw9bQyrYjdnb46Fp9pWuEIUHVSHLqwMBBw=s64",
      "userId": "15479329890797732984"
     },
     "user_tz": -420
    },
    "id": "anLZFMBWAPAG",
    "outputId": "07469f40-36a5-4153-d89a-973409f384e2"
   },
   "outputs": [],
   "source": [
    "GBclassifier = GradientBoostingClassifier(subsample=0.5, n_estimators=400, max_depth=4, max_leaf_nodes=10)\n",
    "GBclassifier.fit(X_train, y_train)\n",
    "\n",
    "y_pred = GBclassifier.predict(X_test)\n",
    "\n",
    "print(classification_report(y_test, y_pred))\n",
    "print(confusion_matrix(y_test, y_pred))\n",
    "\n",
    "from sklearn.metrics import accuracy_score\n",
    "GBAcc = accuracy_score(y_pred,y_test)\n",
    "print('Gradient Boosting accuracy: {:.2f}%'.format(GBAcc*100))"
   ]
  },
  {
   "cell_type": "markdown",
   "metadata": {
    "id": "x1vw6r9ICK8J"
   },
   "source": [
    "# 7. Model Comparison 👀"
   ]
  },
  {
   "cell_type": "code",
   "execution_count": null,
   "metadata": {
    "executionInfo": {
     "elapsed": 11,
     "status": "ok",
     "timestamp": 1636215250790,
     "user": {
      "displayName": "Mario Caesar",
      "photoUrl": "https://lh3.googleusercontent.com/a-/AOh14GheyOtCjw9bQyrYjdnb46Fp9pWuEIUHVSHLqwMBBw=s64",
      "userId": "15479329890797732984"
     },
     "user_tz": -420
    },
    "id": "SGzOLxRMArx0",
    "outputId": "2f1341e3-685a-47a5-8785-4930b1de7da3"
   },
   "outputs": [],
   "source": [
    "compare = pd.DataFrame({'Model': ['Logistic Regression', 'K Neighbors', \n",
    "                                  'SVM', 'Categorical NB', \n",
    "                                  'Gaussian NB', 'Decision Tree', \n",
    "                                  'Random Forest', 'Gradient Boost'], \n",
    "                        'Accuracy': [LRAcc*100, KNAcc*100, SVCAcc*100, \n",
    "                                     NBAcc1*100, NBAcc2*100, DTAcc*100, \n",
    "                                     RFAcc*100, GBAcc*100]})\n",
    "compare.sort_values(by='Accuracy', ascending=False)"
   ]
  },
  {
   "cell_type": "markdown",
   "metadata": {
    "id": "_5Iao5hYCOsI"
   },
   "source": [
    "👉 In general, it can be seen that **all models can achieve up to 70% accuracy**. <br>\n",
    "👉 The highest accuracy is **93%%**. <br><br>\n",
    "👉 If you have any suggestions to **improve** these models, we can *discuss in the comments* :)."
   ]
  },
  {
   "cell_type": "markdown",
   "metadata": {
    "id": "tf0kRFipOPzx"
   },
   "source": [
    "---\n",
    "\n",
    "**Like this notebook? You can support me by giving upvote** 😆👍🔼 <br>\n",
    "👉 *More about myself: [linktr.ee/caesarmario_](http://linktr.ee/caesarmario_)*<br><br>\n",
    "#### 🎈 Check out my work on GitHub using similar data sets with SAS studio [here](https://github.com/caesarmario/loan-prediction-SAS-studio)."
   ]
  }
 ],
 "metadata": {
  "kernelspec": {
   "display_name": "Python 3",
   "language": "python",
   "name": "python3"
  },
  "language_info": {
   "codemirror_mode": {
    "name": "ipython",
    "version": 3
   },
   "file_extension": ".py",
   "mimetype": "text/x-python",
   "name": "python",
   "nbconvert_exporter": "python",
   "pygments_lexer": "ipython3",
   "version": "3.8.8"
  }
 },
 "nbformat": 4,
 "nbformat_minor": 4
}
