{
 "cells": [
  {
   "cell_type": "code",
   "execution_count": null,
   "id": "60f492e0",
   "metadata": {},
   "outputs": [],
   "source": [
    "# In Linear and Logistic Regression, the model can only and only undersatnd numbers"
   ]
  },
  {
   "cell_type": "code",
   "execution_count": 1,
   "id": "77f917d5",
   "metadata": {},
   "outputs": [],
   "source": [
    "# EDA --> Understand the data\n",
    "# Data Cleaning --> Null values, Outliers\n",
    "# Encoding --> Converting the object data type to numeric\n",
    "# Label Encoding, One-hot Encoding\n",
    "# VIF --> Variance Inflation Factor(Multicollinearity) --> \n",
    "# Import the libraries\n",
    "# Train the model\n",
    "# Test the model\n",
    "# Accuracy score, classification Report"
   ]
  },
  {
   "cell_type": "code",
   "execution_count": 99,
   "id": "9e30780e",
   "metadata": {
    "id": "9e30780e"
   },
   "outputs": [],
   "source": [
    "import pandas as pd\n",
    "import numpy as np\n",
    "import warnings\n",
    "warnings.filterwarnings(\"ignore\") # It will ignore all the warnings that appear after you execute a code"
   ]
  },
  {
   "cell_type": "code",
   "execution_count": 100,
   "id": "45d6056b",
   "metadata": {
    "colab": {
     "base_uri": "https://localhost:8080/",
     "height": 328
    },
    "id": "45d6056b",
    "outputId": "ea382bd8-9fbc-4757-92ba-bad9c27826dd"
   },
   "outputs": [],
   "source": [
    "data=pd.read_csv('bank-additional-full.csv', sep=';') # utf encoding"
   ]
  },
  {
   "cell_type": "code",
   "execution_count": 101,
   "id": "bdc44618",
   "metadata": {},
   "outputs": [],
   "source": [
    "# Continous data --> There is no predefined range, salary of a person\n",
    "# Categorical data --> Within a range/within a set limit --> yes/no, 0/1"
   ]
  },
  {
   "cell_type": "code",
   "execution_count": 102,
   "id": "0bbde914",
   "metadata": {
    "id": "0bbde914"
   },
   "outputs": [
    {
     "data": {
      "text/html": [
       "<div>\n",
       "<style scoped>\n",
       "    .dataframe tbody tr th:only-of-type {\n",
       "        vertical-align: middle;\n",
       "    }\n",
       "\n",
       "    .dataframe tbody tr th {\n",
       "        vertical-align: top;\n",
       "    }\n",
       "\n",
       "    .dataframe thead th {\n",
       "        text-align: right;\n",
       "    }\n",
       "</style>\n",
       "<table border=\"1\" class=\"dataframe\">\n",
       "  <thead>\n",
       "    <tr style=\"text-align: right;\">\n",
       "      <th></th>\n",
       "      <th>age</th>\n",
       "      <th>job</th>\n",
       "      <th>marital</th>\n",
       "      <th>education</th>\n",
       "      <th>default</th>\n",
       "      <th>housing</th>\n",
       "      <th>loan</th>\n",
       "      <th>contact</th>\n",
       "      <th>month</th>\n",
       "      <th>day_of_week</th>\n",
       "      <th>...</th>\n",
       "      <th>campaign</th>\n",
       "      <th>pdays</th>\n",
       "      <th>previous</th>\n",
       "      <th>poutcome</th>\n",
       "      <th>emp.var.rate</th>\n",
       "      <th>cons.price.idx</th>\n",
       "      <th>cons.conf.idx</th>\n",
       "      <th>euribor3m</th>\n",
       "      <th>nr.employed</th>\n",
       "      <th>y</th>\n",
       "    </tr>\n",
       "  </thead>\n",
       "  <tbody>\n",
       "    <tr>\n",
       "      <th>0</th>\n",
       "      <td>56.0</td>\n",
       "      <td>housemaid</td>\n",
       "      <td>married</td>\n",
       "      <td>basic.4y</td>\n",
       "      <td>no</td>\n",
       "      <td>no</td>\n",
       "      <td>no</td>\n",
       "      <td>telephone</td>\n",
       "      <td>may</td>\n",
       "      <td>mon</td>\n",
       "      <td>...</td>\n",
       "      <td>1.0</td>\n",
       "      <td>999.0</td>\n",
       "      <td>0.0</td>\n",
       "      <td>nonexistent</td>\n",
       "      <td>1.1</td>\n",
       "      <td>93.994</td>\n",
       "      <td>-36.4</td>\n",
       "      <td>4.857</td>\n",
       "      <td>5191.0</td>\n",
       "      <td>no</td>\n",
       "    </tr>\n",
       "    <tr>\n",
       "      <th>1</th>\n",
       "      <td>57.0</td>\n",
       "      <td>services</td>\n",
       "      <td>married</td>\n",
       "      <td>high.school</td>\n",
       "      <td>unknown</td>\n",
       "      <td>no</td>\n",
       "      <td>no</td>\n",
       "      <td>telephone</td>\n",
       "      <td>may</td>\n",
       "      <td>mon</td>\n",
       "      <td>...</td>\n",
       "      <td>1.0</td>\n",
       "      <td>999.0</td>\n",
       "      <td>0.0</td>\n",
       "      <td>nonexistent</td>\n",
       "      <td>1.1</td>\n",
       "      <td>93.994</td>\n",
       "      <td>-36.4</td>\n",
       "      <td>4.857</td>\n",
       "      <td>5191.0</td>\n",
       "      <td>no</td>\n",
       "    </tr>\n",
       "    <tr>\n",
       "      <th>2</th>\n",
       "      <td>37.0</td>\n",
       "      <td>services</td>\n",
       "      <td>married</td>\n",
       "      <td>high.school</td>\n",
       "      <td>no</td>\n",
       "      <td>yes</td>\n",
       "      <td>no</td>\n",
       "      <td>telephone</td>\n",
       "      <td>may</td>\n",
       "      <td>mon</td>\n",
       "      <td>...</td>\n",
       "      <td>1.0</td>\n",
       "      <td>999.0</td>\n",
       "      <td>0.0</td>\n",
       "      <td>nonexistent</td>\n",
       "      <td>1.1</td>\n",
       "      <td>93.994</td>\n",
       "      <td>-36.4</td>\n",
       "      <td>4.857</td>\n",
       "      <td>5191.0</td>\n",
       "      <td>no</td>\n",
       "    </tr>\n",
       "    <tr>\n",
       "      <th>3</th>\n",
       "      <td>40.0</td>\n",
       "      <td>admin.</td>\n",
       "      <td>married</td>\n",
       "      <td>basic.6y</td>\n",
       "      <td>no</td>\n",
       "      <td>no</td>\n",
       "      <td>no</td>\n",
       "      <td>telephone</td>\n",
       "      <td>may</td>\n",
       "      <td>mon</td>\n",
       "      <td>...</td>\n",
       "      <td>1.0</td>\n",
       "      <td>999.0</td>\n",
       "      <td>0.0</td>\n",
       "      <td>nonexistent</td>\n",
       "      <td>1.1</td>\n",
       "      <td>93.994</td>\n",
       "      <td>-36.4</td>\n",
       "      <td>4.857</td>\n",
       "      <td>5191.0</td>\n",
       "      <td>no</td>\n",
       "    </tr>\n",
       "    <tr>\n",
       "      <th>4</th>\n",
       "      <td>56.0</td>\n",
       "      <td>services</td>\n",
       "      <td>married</td>\n",
       "      <td>high.school</td>\n",
       "      <td>no</td>\n",
       "      <td>no</td>\n",
       "      <td>yes</td>\n",
       "      <td>telephone</td>\n",
       "      <td>may</td>\n",
       "      <td>mon</td>\n",
       "      <td>...</td>\n",
       "      <td>1.0</td>\n",
       "      <td>999.0</td>\n",
       "      <td>0.0</td>\n",
       "      <td>nonexistent</td>\n",
       "      <td>1.1</td>\n",
       "      <td>93.994</td>\n",
       "      <td>-36.4</td>\n",
       "      <td>4.857</td>\n",
       "      <td>5191.0</td>\n",
       "      <td>no</td>\n",
       "    </tr>\n",
       "  </tbody>\n",
       "</table>\n",
       "<p>5 rows × 21 columns</p>\n",
       "</div>"
      ],
      "text/plain": [
       "    age        job  marital    education  default housing loan    contact  \\\n",
       "0  56.0  housemaid  married     basic.4y       no      no   no  telephone   \n",
       "1  57.0   services  married  high.school  unknown      no   no  telephone   \n",
       "2  37.0   services  married  high.school       no     yes   no  telephone   \n",
       "3  40.0     admin.  married     basic.6y       no      no   no  telephone   \n",
       "4  56.0   services  married  high.school       no      no  yes  telephone   \n",
       "\n",
       "  month day_of_week  ...  campaign  pdays  previous     poutcome emp.var.rate  \\\n",
       "0   may         mon  ...       1.0  999.0       0.0  nonexistent          1.1   \n",
       "1   may         mon  ...       1.0  999.0       0.0  nonexistent          1.1   \n",
       "2   may         mon  ...       1.0  999.0       0.0  nonexistent          1.1   \n",
       "3   may         mon  ...       1.0  999.0       0.0  nonexistent          1.1   \n",
       "4   may         mon  ...       1.0  999.0       0.0  nonexistent          1.1   \n",
       "\n",
       "   cons.price.idx  cons.conf.idx  euribor3m  nr.employed   y  \n",
       "0          93.994          -36.4      4.857       5191.0  no  \n",
       "1          93.994          -36.4      4.857       5191.0  no  \n",
       "2          93.994          -36.4      4.857       5191.0  no  \n",
       "3          93.994          -36.4      4.857       5191.0  no  \n",
       "4          93.994          -36.4      4.857       5191.0  no  \n",
       "\n",
       "[5 rows x 21 columns]"
      ]
     },
     "execution_count": 102,
     "metadata": {},
     "output_type": "execute_result"
    }
   ],
   "source": [
    "data.head()\n",
    "# y--> no--> did not buy insurance\n",
    "# yes---> bought it"
   ]
  },
  {
   "cell_type": "code",
   "execution_count": 103,
   "id": "c268c3ce",
   "metadata": {},
   "outputs": [],
   "source": [
    "# I f the target variable is having a continous data --> regression models\n",
    "# Linear Regresssion, Decision Tree Regressor, Random Forest Regressor, Naive Bayes Regressor, SVM Regressor\n",
    "# If the target variable is having a categorical data --> Classification models\n",
    "# Logistic Regression, Decision Tree Classifier, Random Forest Classifier, Naive Bayes Classifier, SVM Classifier"
   ]
  },
  {
   "cell_type": "code",
   "execution_count": 104,
   "id": "b91493f7",
   "metadata": {},
   "outputs": [
    {
     "data": {
      "text/plain": [
       "no     36556\n",
       "yes     4640\n",
       "Name: y, dtype: int64"
      ]
     },
     "execution_count": 104,
     "metadata": {},
     "output_type": "execute_result"
    }
   ],
   "source": [
    "data['y'].value_counts()"
   ]
  },
  {
   "cell_type": "code",
   "execution_count": 105,
   "id": "424c4b98",
   "metadata": {},
   "outputs": [
    {
     "data": {
      "text/plain": [
       "(41199, 21)"
      ]
     },
     "execution_count": 105,
     "metadata": {},
     "output_type": "execute_result"
    }
   ],
   "source": [
    "data.shape  # The no. of rows and columns present in the dataset"
   ]
  },
  {
   "cell_type": "code",
   "execution_count": null,
   "id": "2e47e65b",
   "metadata": {},
   "outputs": [],
   "source": []
  },
  {
   "cell_type": "code",
   "execution_count": 106,
   "id": "1a35f35b",
   "metadata": {
    "id": "1a35f35b"
   },
   "outputs": [
    {
     "data": {
      "text/html": [
       "<div>\n",
       "<style scoped>\n",
       "    .dataframe tbody tr th:only-of-type {\n",
       "        vertical-align: middle;\n",
       "    }\n",
       "\n",
       "    .dataframe tbody tr th {\n",
       "        vertical-align: top;\n",
       "    }\n",
       "\n",
       "    .dataframe thead th {\n",
       "        text-align: right;\n",
       "    }\n",
       "</style>\n",
       "<table border=\"1\" class=\"dataframe\">\n",
       "  <thead>\n",
       "    <tr style=\"text-align: right;\">\n",
       "      <th></th>\n",
       "      <th>age</th>\n",
       "      <th>duration</th>\n",
       "      <th>campaign</th>\n",
       "      <th>pdays</th>\n",
       "      <th>previous</th>\n",
       "      <th>emp.var.rate</th>\n",
       "      <th>cons.price.idx</th>\n",
       "      <th>cons.conf.idx</th>\n",
       "      <th>euribor3m</th>\n",
       "      <th>nr.employed</th>\n",
       "    </tr>\n",
       "  </thead>\n",
       "  <tbody>\n",
       "    <tr>\n",
       "      <th>count</th>\n",
       "      <td>41195.000000</td>\n",
       "      <td>41196.000000</td>\n",
       "      <td>41196.000000</td>\n",
       "      <td>41196.000000</td>\n",
       "      <td>41196.000000</td>\n",
       "      <td>41196.000000</td>\n",
       "      <td>41195.000000</td>\n",
       "      <td>41196.000000</td>\n",
       "      <td>41196.000000</td>\n",
       "      <td>41196.000000</td>\n",
       "    </tr>\n",
       "    <tr>\n",
       "      <th>mean</th>\n",
       "      <td>40.030319</td>\n",
       "      <td>258.281265</td>\n",
       "      <td>2.567676</td>\n",
       "      <td>962.482547</td>\n",
       "      <td>0.173124</td>\n",
       "      <td>0.081656</td>\n",
       "      <td>93.575867</td>\n",
       "      <td>-40.504600</td>\n",
       "      <td>3.620787</td>\n",
       "      <td>5166.996405</td>\n",
       "    </tr>\n",
       "    <tr>\n",
       "      <th>std</th>\n",
       "      <td>10.431818</td>\n",
       "      <td>259.254211</td>\n",
       "      <td>2.769751</td>\n",
       "      <td>186.893451</td>\n",
       "      <td>0.494987</td>\n",
       "      <td>1.570894</td>\n",
       "      <td>0.578999</td>\n",
       "      <td>4.629972</td>\n",
       "      <td>1.734655</td>\n",
       "      <td>72.300104</td>\n",
       "    </tr>\n",
       "    <tr>\n",
       "      <th>min</th>\n",
       "      <td>17.000000</td>\n",
       "      <td>0.000000</td>\n",
       "      <td>1.000000</td>\n",
       "      <td>0.000000</td>\n",
       "      <td>0.000000</td>\n",
       "      <td>-3.400000</td>\n",
       "      <td>92.201000</td>\n",
       "      <td>-50.800000</td>\n",
       "      <td>0.634000</td>\n",
       "      <td>4963.600000</td>\n",
       "    </tr>\n",
       "    <tr>\n",
       "      <th>25%</th>\n",
       "      <td>32.000000</td>\n",
       "      <td>102.000000</td>\n",
       "      <td>1.000000</td>\n",
       "      <td>999.000000</td>\n",
       "      <td>0.000000</td>\n",
       "      <td>-1.800000</td>\n",
       "      <td>93.075000</td>\n",
       "      <td>-42.700000</td>\n",
       "      <td>1.344000</td>\n",
       "      <td>5099.100000</td>\n",
       "    </tr>\n",
       "    <tr>\n",
       "      <th>50%</th>\n",
       "      <td>38.000000</td>\n",
       "      <td>180.000000</td>\n",
       "      <td>2.000000</td>\n",
       "      <td>999.000000</td>\n",
       "      <td>0.000000</td>\n",
       "      <td>1.100000</td>\n",
       "      <td>93.749000</td>\n",
       "      <td>-41.800000</td>\n",
       "      <td>4.857000</td>\n",
       "      <td>5191.000000</td>\n",
       "    </tr>\n",
       "    <tr>\n",
       "      <th>75%</th>\n",
       "      <td>47.000000</td>\n",
       "      <td>319.000000</td>\n",
       "      <td>3.000000</td>\n",
       "      <td>999.000000</td>\n",
       "      <td>0.000000</td>\n",
       "      <td>1.400000</td>\n",
       "      <td>93.994000</td>\n",
       "      <td>-36.400000</td>\n",
       "      <td>4.961000</td>\n",
       "      <td>5228.100000</td>\n",
       "    </tr>\n",
       "    <tr>\n",
       "      <th>max</th>\n",
       "      <td>98.000000</td>\n",
       "      <td>4918.000000</td>\n",
       "      <td>56.000000</td>\n",
       "      <td>999.000000</td>\n",
       "      <td>7.000000</td>\n",
       "      <td>1.400000</td>\n",
       "      <td>94.767000</td>\n",
       "      <td>-26.900000</td>\n",
       "      <td>5.045000</td>\n",
       "      <td>5228.100000</td>\n",
       "    </tr>\n",
       "  </tbody>\n",
       "</table>\n",
       "</div>"
      ],
      "text/plain": [
       "                age      duration      campaign         pdays      previous  \\\n",
       "count  41195.000000  41196.000000  41196.000000  41196.000000  41196.000000   \n",
       "mean      40.030319    258.281265      2.567676    962.482547      0.173124   \n",
       "std       10.431818    259.254211      2.769751    186.893451      0.494987   \n",
       "min       17.000000      0.000000      1.000000      0.000000      0.000000   \n",
       "25%       32.000000    102.000000      1.000000    999.000000      0.000000   \n",
       "50%       38.000000    180.000000      2.000000    999.000000      0.000000   \n",
       "75%       47.000000    319.000000      3.000000    999.000000      0.000000   \n",
       "max       98.000000   4918.000000     56.000000    999.000000      7.000000   \n",
       "\n",
       "       emp.var.rate  cons.price.idx  cons.conf.idx     euribor3m   nr.employed  \n",
       "count  41196.000000    41195.000000   41196.000000  41196.000000  41196.000000  \n",
       "mean       0.081656       93.575867     -40.504600      3.620787   5166.996405  \n",
       "std        1.570894        0.578999       4.629972      1.734655     72.300104  \n",
       "min       -3.400000       92.201000     -50.800000      0.634000   4963.600000  \n",
       "25%       -1.800000       93.075000     -42.700000      1.344000   5099.100000  \n",
       "50%        1.100000       93.749000     -41.800000      4.857000   5191.000000  \n",
       "75%        1.400000       93.994000     -36.400000      4.961000   5228.100000  \n",
       "max        1.400000       94.767000     -26.900000      5.045000   5228.100000  "
      ]
     },
     "execution_count": 106,
     "metadata": {},
     "output_type": "execute_result"
    }
   ],
   "source": [
    "data.describe() # Statistical analylis"
   ]
  },
  {
   "cell_type": "code",
   "execution_count": 107,
   "id": "0d0ee000",
   "metadata": {
    "id": "0d0ee000"
   },
   "outputs": [
    {
     "data": {
      "text/plain": [
       "age               float64\n",
       "job                object\n",
       "marital            object\n",
       "education          object\n",
       "default            object\n",
       "housing            object\n",
       "loan               object\n",
       "contact            object\n",
       "month              object\n",
       "day_of_week        object\n",
       "duration          float64\n",
       "campaign          float64\n",
       "pdays             float64\n",
       "previous          float64\n",
       "poutcome           object\n",
       "emp.var.rate      float64\n",
       "cons.price.idx    float64\n",
       "cons.conf.idx     float64\n",
       "euribor3m         float64\n",
       "nr.employed       float64\n",
       "y                  object\n",
       "dtype: object"
      ]
     },
     "execution_count": 107,
     "metadata": {},
     "output_type": "execute_result"
    }
   ],
   "source": [
    "data.dtypes # data type of each and every column"
   ]
  },
  {
   "cell_type": "code",
   "execution_count": 108,
   "id": "32ce3e9b",
   "metadata": {
    "id": "32ce3e9b"
   },
   "outputs": [
    {
     "data": {
      "text/plain": [
       "(41199, 21)"
      ]
     },
     "execution_count": 108,
     "metadata": {},
     "output_type": "execute_result"
    }
   ],
   "source": [
    "data.shape"
   ]
  },
  {
   "cell_type": "code",
   "execution_count": 109,
   "id": "2373b3da",
   "metadata": {
    "id": "2373b3da"
   },
   "outputs": [
    {
     "name": "stdout",
     "output_type": "stream",
     "text": [
      "<class 'pandas.core.frame.DataFrame'>\n",
      "RangeIndex: 41199 entries, 0 to 41198\n",
      "Data columns (total 21 columns):\n",
      " #   Column          Non-Null Count  Dtype  \n",
      "---  ------          --------------  -----  \n",
      " 0   age             41195 non-null  float64\n",
      " 1   job             41194 non-null  object \n",
      " 2   marital         41194 non-null  object \n",
      " 3   education       41194 non-null  object \n",
      " 4   default         41195 non-null  object \n",
      " 5   housing         41196 non-null  object \n",
      " 6   loan            41195 non-null  object \n",
      " 7   contact         41195 non-null  object \n",
      " 8   month           41196 non-null  object \n",
      " 9   day_of_week     41196 non-null  object \n",
      " 10  duration        41196 non-null  float64\n",
      " 11  campaign        41196 non-null  float64\n",
      " 12  pdays           41196 non-null  float64\n",
      " 13  previous        41196 non-null  float64\n",
      " 14  poutcome        41194 non-null  object \n",
      " 15  emp.var.rate    41196 non-null  float64\n",
      " 16  cons.price.idx  41195 non-null  float64\n",
      " 17  cons.conf.idx   41196 non-null  float64\n",
      " 18  euribor3m       41196 non-null  float64\n",
      " 19  nr.employed     41196 non-null  float64\n",
      " 20  y               41196 non-null  object \n",
      "dtypes: float64(10), object(11)\n",
      "memory usage: 6.6+ MB\n"
     ]
    }
   ],
   "source": [
    "data.info() # total count of non-null values along with data type for each and evry column"
   ]
  },
  {
   "cell_type": "code",
   "execution_count": 110,
   "id": "a7f539d2",
   "metadata": {
    "colab": {
     "base_uri": "https://localhost:8080/"
    },
    "id": "a7f539d2",
    "outputId": "7ab71653-bc69-436a-92b6-8d588f561887"
   },
   "outputs": [
    {
     "data": {
      "text/plain": [
       "0         no\n",
       "1         no\n",
       "2         no\n",
       "3         no\n",
       "4         no\n",
       "        ... \n",
       "41194     no\n",
       "41195     no\n",
       "41196     no\n",
       "41197    NaN\n",
       "41198     no\n",
       "Name: y, Length: 41199, dtype: object"
      ]
     },
     "execution_count": 110,
     "metadata": {},
     "output_type": "execute_result"
    }
   ],
   "source": [
    "data['y'] # It will be my target variable"
   ]
  },
  {
   "cell_type": "code",
   "execution_count": 111,
   "id": "93fbc24f",
   "metadata": {},
   "outputs": [
    {
     "data": {
      "text/plain": [
       "admin.           10422\n",
       "blue-collar       9254\n",
       "technician        6743\n",
       "services          3969\n",
       "management        2924\n",
       "retired           1726\n",
       "entrepreneur      1456\n",
       "self-employed     1421\n",
       "housemaid         1060\n",
       "unemployed        1014\n",
       "student            875\n",
       "unknown            330\n",
       "Name: job, dtype: int64"
      ]
     },
     "execution_count": 111,
     "metadata": {},
     "output_type": "execute_result"
    }
   ],
   "source": [
    "data['job'].value_counts()"
   ]
  },
  {
   "cell_type": "code",
   "execution_count": 112,
   "id": "e0621f5a",
   "metadata": {},
   "outputs": [
    {
     "data": {
      "text/plain": [
       "no         32595\n",
       "unknown     8597\n",
       "yes            3\n",
       "Name: default, dtype: int64"
      ]
     },
     "execution_count": 112,
     "metadata": {},
     "output_type": "execute_result"
    }
   ],
   "source": [
    "data['default'].value_counts()"
   ]
  },
  {
   "cell_type": "code",
   "execution_count": 113,
   "id": "9a98f716",
   "metadata": {},
   "outputs": [
    {
     "data": {
      "text/plain": [
       "no     36556\n",
       "yes     4640\n",
       "Name: y, dtype: int64"
      ]
     },
     "execution_count": 113,
     "metadata": {},
     "output_type": "execute_result"
    }
   ],
   "source": [
    "data['y'].value_counts()"
   ]
  },
  {
   "cell_type": "code",
   "execution_count": 114,
   "id": "b1a0e707",
   "metadata": {
    "id": "b1a0e707"
   },
   "outputs": [],
   "source": [
    "#extra step--> if needed skip it --> if yes-- 1 or no-- 0\n",
    "data['y'] = np.where(data['y'] == 'yes',1,0)  # I replaced yes -> 1, no -> 0\n",
    "data['y'] = data['y'].astype(str)"
   ]
  },
  {
   "cell_type": "code",
   "execution_count": 115,
   "id": "07ebbc26",
   "metadata": {},
   "outputs": [
    {
     "data": {
      "text/plain": [
       "age               float64\n",
       "job                object\n",
       "marital            object\n",
       "education          object\n",
       "default            object\n",
       "housing            object\n",
       "loan               object\n",
       "contact            object\n",
       "month              object\n",
       "day_of_week        object\n",
       "duration          float64\n",
       "campaign          float64\n",
       "pdays             float64\n",
       "previous          float64\n",
       "poutcome           object\n",
       "emp.var.rate      float64\n",
       "cons.price.idx    float64\n",
       "cons.conf.idx     float64\n",
       "euribor3m         float64\n",
       "nr.employed       float64\n",
       "y                  object\n",
       "dtype: object"
      ]
     },
     "execution_count": 115,
     "metadata": {},
     "output_type": "execute_result"
    }
   ],
   "source": [
    "data.dtypes"
   ]
  },
  {
   "cell_type": "code",
   "execution_count": 116,
   "id": "d09bc802",
   "metadata": {},
   "outputs": [
    {
     "data": {
      "text/plain": [
       "41194    0\n",
       "41195    0\n",
       "41196    0\n",
       "41197    0\n",
       "41198    0\n",
       "Name: y, dtype: object"
      ]
     },
     "execution_count": 116,
     "metadata": {},
     "output_type": "execute_result"
    }
   ],
   "source": [
    "data['y'].tail()"
   ]
  },
  {
   "cell_type": "code",
   "execution_count": 117,
   "id": "06b20d0d",
   "metadata": {},
   "outputs": [
    {
     "data": {
      "text/html": [
       "<div>\n",
       "<style scoped>\n",
       "    .dataframe tbody tr th:only-of-type {\n",
       "        vertical-align: middle;\n",
       "    }\n",
       "\n",
       "    .dataframe tbody tr th {\n",
       "        vertical-align: top;\n",
       "    }\n",
       "\n",
       "    .dataframe thead th {\n",
       "        text-align: right;\n",
       "    }\n",
       "</style>\n",
       "<table border=\"1\" class=\"dataframe\">\n",
       "  <thead>\n",
       "    <tr style=\"text-align: right;\">\n",
       "      <th></th>\n",
       "      <th>age</th>\n",
       "      <th>job</th>\n",
       "      <th>marital</th>\n",
       "      <th>education</th>\n",
       "      <th>default</th>\n",
       "      <th>housing</th>\n",
       "      <th>loan</th>\n",
       "      <th>contact</th>\n",
       "      <th>month</th>\n",
       "      <th>day_of_week</th>\n",
       "      <th>...</th>\n",
       "      <th>campaign</th>\n",
       "      <th>pdays</th>\n",
       "      <th>previous</th>\n",
       "      <th>poutcome</th>\n",
       "      <th>emp.var.rate</th>\n",
       "      <th>cons.price.idx</th>\n",
       "      <th>cons.conf.idx</th>\n",
       "      <th>euribor3m</th>\n",
       "      <th>nr.employed</th>\n",
       "      <th>y</th>\n",
       "    </tr>\n",
       "  </thead>\n",
       "  <tbody>\n",
       "    <tr>\n",
       "      <th>0</th>\n",
       "      <td>56.0</td>\n",
       "      <td>housemaid</td>\n",
       "      <td>married</td>\n",
       "      <td>basic.4y</td>\n",
       "      <td>no</td>\n",
       "      <td>no</td>\n",
       "      <td>no</td>\n",
       "      <td>telephone</td>\n",
       "      <td>may</td>\n",
       "      <td>mon</td>\n",
       "      <td>...</td>\n",
       "      <td>1.0</td>\n",
       "      <td>999.0</td>\n",
       "      <td>0.0</td>\n",
       "      <td>nonexistent</td>\n",
       "      <td>1.1</td>\n",
       "      <td>93.994</td>\n",
       "      <td>-36.4</td>\n",
       "      <td>4.857</td>\n",
       "      <td>5191.0</td>\n",
       "      <td>0</td>\n",
       "    </tr>\n",
       "    <tr>\n",
       "      <th>1</th>\n",
       "      <td>57.0</td>\n",
       "      <td>services</td>\n",
       "      <td>married</td>\n",
       "      <td>high.school</td>\n",
       "      <td>unknown</td>\n",
       "      <td>no</td>\n",
       "      <td>no</td>\n",
       "      <td>telephone</td>\n",
       "      <td>may</td>\n",
       "      <td>mon</td>\n",
       "      <td>...</td>\n",
       "      <td>1.0</td>\n",
       "      <td>999.0</td>\n",
       "      <td>0.0</td>\n",
       "      <td>nonexistent</td>\n",
       "      <td>1.1</td>\n",
       "      <td>93.994</td>\n",
       "      <td>-36.4</td>\n",
       "      <td>4.857</td>\n",
       "      <td>5191.0</td>\n",
       "      <td>0</td>\n",
       "    </tr>\n",
       "    <tr>\n",
       "      <th>2</th>\n",
       "      <td>37.0</td>\n",
       "      <td>services</td>\n",
       "      <td>married</td>\n",
       "      <td>high.school</td>\n",
       "      <td>no</td>\n",
       "      <td>yes</td>\n",
       "      <td>no</td>\n",
       "      <td>telephone</td>\n",
       "      <td>may</td>\n",
       "      <td>mon</td>\n",
       "      <td>...</td>\n",
       "      <td>1.0</td>\n",
       "      <td>999.0</td>\n",
       "      <td>0.0</td>\n",
       "      <td>nonexistent</td>\n",
       "      <td>1.1</td>\n",
       "      <td>93.994</td>\n",
       "      <td>-36.4</td>\n",
       "      <td>4.857</td>\n",
       "      <td>5191.0</td>\n",
       "      <td>0</td>\n",
       "    </tr>\n",
       "    <tr>\n",
       "      <th>3</th>\n",
       "      <td>40.0</td>\n",
       "      <td>admin.</td>\n",
       "      <td>married</td>\n",
       "      <td>basic.6y</td>\n",
       "      <td>no</td>\n",
       "      <td>no</td>\n",
       "      <td>no</td>\n",
       "      <td>telephone</td>\n",
       "      <td>may</td>\n",
       "      <td>mon</td>\n",
       "      <td>...</td>\n",
       "      <td>1.0</td>\n",
       "      <td>999.0</td>\n",
       "      <td>0.0</td>\n",
       "      <td>nonexistent</td>\n",
       "      <td>1.1</td>\n",
       "      <td>93.994</td>\n",
       "      <td>-36.4</td>\n",
       "      <td>4.857</td>\n",
       "      <td>5191.0</td>\n",
       "      <td>0</td>\n",
       "    </tr>\n",
       "    <tr>\n",
       "      <th>4</th>\n",
       "      <td>56.0</td>\n",
       "      <td>services</td>\n",
       "      <td>married</td>\n",
       "      <td>high.school</td>\n",
       "      <td>no</td>\n",
       "      <td>no</td>\n",
       "      <td>yes</td>\n",
       "      <td>telephone</td>\n",
       "      <td>may</td>\n",
       "      <td>mon</td>\n",
       "      <td>...</td>\n",
       "      <td>1.0</td>\n",
       "      <td>999.0</td>\n",
       "      <td>0.0</td>\n",
       "      <td>nonexistent</td>\n",
       "      <td>1.1</td>\n",
       "      <td>93.994</td>\n",
       "      <td>-36.4</td>\n",
       "      <td>4.857</td>\n",
       "      <td>5191.0</td>\n",
       "      <td>0</td>\n",
       "    </tr>\n",
       "    <tr>\n",
       "      <th>...</th>\n",
       "      <td>...</td>\n",
       "      <td>...</td>\n",
       "      <td>...</td>\n",
       "      <td>...</td>\n",
       "      <td>...</td>\n",
       "      <td>...</td>\n",
       "      <td>...</td>\n",
       "      <td>...</td>\n",
       "      <td>...</td>\n",
       "      <td>...</td>\n",
       "      <td>...</td>\n",
       "      <td>...</td>\n",
       "      <td>...</td>\n",
       "      <td>...</td>\n",
       "      <td>...</td>\n",
       "      <td>...</td>\n",
       "      <td>...</td>\n",
       "      <td>...</td>\n",
       "      <td>...</td>\n",
       "      <td>...</td>\n",
       "      <td>...</td>\n",
       "    </tr>\n",
       "    <tr>\n",
       "      <th>41194</th>\n",
       "      <td>74.0</td>\n",
       "      <td>retired</td>\n",
       "      <td>married</td>\n",
       "      <td>professional.course</td>\n",
       "      <td>no</td>\n",
       "      <td>yes</td>\n",
       "      <td>no</td>\n",
       "      <td>cellular</td>\n",
       "      <td>nov</td>\n",
       "      <td>fri</td>\n",
       "      <td>...</td>\n",
       "      <td>3.0</td>\n",
       "      <td>999.0</td>\n",
       "      <td>1.0</td>\n",
       "      <td>failure</td>\n",
       "      <td>-1.1</td>\n",
       "      <td>94.767</td>\n",
       "      <td>-50.8</td>\n",
       "      <td>1.028</td>\n",
       "      <td>4963.6</td>\n",
       "      <td>0</td>\n",
       "    </tr>\n",
       "    <tr>\n",
       "      <th>41195</th>\n",
       "      <td>74.0</td>\n",
       "      <td>NaN</td>\n",
       "      <td>married</td>\n",
       "      <td>professional.course</td>\n",
       "      <td>no</td>\n",
       "      <td>yes</td>\n",
       "      <td>no</td>\n",
       "      <td>cellular</td>\n",
       "      <td>nov</td>\n",
       "      <td>fri</td>\n",
       "      <td>...</td>\n",
       "      <td>3.0</td>\n",
       "      <td>999.0</td>\n",
       "      <td>1.0</td>\n",
       "      <td>failure</td>\n",
       "      <td>-1.1</td>\n",
       "      <td>94.767</td>\n",
       "      <td>-50.8</td>\n",
       "      <td>1.028</td>\n",
       "      <td>4963.6</td>\n",
       "      <td>0</td>\n",
       "    </tr>\n",
       "    <tr>\n",
       "      <th>41196</th>\n",
       "      <td>74.0</td>\n",
       "      <td>retired</td>\n",
       "      <td>married</td>\n",
       "      <td>NaN</td>\n",
       "      <td>no</td>\n",
       "      <td>yes</td>\n",
       "      <td>no</td>\n",
       "      <td>cellular</td>\n",
       "      <td>nov</td>\n",
       "      <td>fri</td>\n",
       "      <td>...</td>\n",
       "      <td>3.0</td>\n",
       "      <td>999.0</td>\n",
       "      <td>1.0</td>\n",
       "      <td>failure</td>\n",
       "      <td>-1.1</td>\n",
       "      <td>94.767</td>\n",
       "      <td>-50.8</td>\n",
       "      <td>1.028</td>\n",
       "      <td>4963.6</td>\n",
       "      <td>0</td>\n",
       "    </tr>\n",
       "    <tr>\n",
       "      <th>41197</th>\n",
       "      <td>NaN</td>\n",
       "      <td>NaN</td>\n",
       "      <td>NaN</td>\n",
       "      <td>NaN</td>\n",
       "      <td>NaN</td>\n",
       "      <td>NaN</td>\n",
       "      <td>NaN</td>\n",
       "      <td>NaN</td>\n",
       "      <td>NaN</td>\n",
       "      <td>NaN</td>\n",
       "      <td>...</td>\n",
       "      <td>NaN</td>\n",
       "      <td>NaN</td>\n",
       "      <td>NaN</td>\n",
       "      <td>NaN</td>\n",
       "      <td>NaN</td>\n",
       "      <td>NaN</td>\n",
       "      <td>NaN</td>\n",
       "      <td>NaN</td>\n",
       "      <td>NaN</td>\n",
       "      <td>0</td>\n",
       "    </tr>\n",
       "    <tr>\n",
       "      <th>41198</th>\n",
       "      <td>74.0</td>\n",
       "      <td>retired</td>\n",
       "      <td>married</td>\n",
       "      <td>professional.course</td>\n",
       "      <td>no</td>\n",
       "      <td>yes</td>\n",
       "      <td>NaN</td>\n",
       "      <td>cellular</td>\n",
       "      <td>nov</td>\n",
       "      <td>fri</td>\n",
       "      <td>...</td>\n",
       "      <td>3.0</td>\n",
       "      <td>999.0</td>\n",
       "      <td>1.0</td>\n",
       "      <td>failure</td>\n",
       "      <td>-1.1</td>\n",
       "      <td>NaN</td>\n",
       "      <td>-50.8</td>\n",
       "      <td>1.028</td>\n",
       "      <td>4963.6</td>\n",
       "      <td>0</td>\n",
       "    </tr>\n",
       "  </tbody>\n",
       "</table>\n",
       "<p>41199 rows × 21 columns</p>\n",
       "</div>"
      ],
      "text/plain": [
       "        age        job  marital            education  default housing loan  \\\n",
       "0      56.0  housemaid  married             basic.4y       no      no   no   \n",
       "1      57.0   services  married          high.school  unknown      no   no   \n",
       "2      37.0   services  married          high.school       no     yes   no   \n",
       "3      40.0     admin.  married             basic.6y       no      no   no   \n",
       "4      56.0   services  married          high.school       no      no  yes   \n",
       "...     ...        ...      ...                  ...      ...     ...  ...   \n",
       "41194  74.0    retired  married  professional.course       no     yes   no   \n",
       "41195  74.0        NaN  married  professional.course       no     yes   no   \n",
       "41196  74.0    retired  married                  NaN       no     yes   no   \n",
       "41197   NaN        NaN      NaN                  NaN      NaN     NaN  NaN   \n",
       "41198  74.0    retired  married  professional.course       no     yes  NaN   \n",
       "\n",
       "         contact month day_of_week  ...  campaign  pdays  previous  \\\n",
       "0      telephone   may         mon  ...       1.0  999.0       0.0   \n",
       "1      telephone   may         mon  ...       1.0  999.0       0.0   \n",
       "2      telephone   may         mon  ...       1.0  999.0       0.0   \n",
       "3      telephone   may         mon  ...       1.0  999.0       0.0   \n",
       "4      telephone   may         mon  ...       1.0  999.0       0.0   \n",
       "...          ...   ...         ...  ...       ...    ...       ...   \n",
       "41194   cellular   nov         fri  ...       3.0  999.0       1.0   \n",
       "41195   cellular   nov         fri  ...       3.0  999.0       1.0   \n",
       "41196   cellular   nov         fri  ...       3.0  999.0       1.0   \n",
       "41197        NaN   NaN         NaN  ...       NaN    NaN       NaN   \n",
       "41198   cellular   nov         fri  ...       3.0  999.0       1.0   \n",
       "\n",
       "          poutcome emp.var.rate  cons.price.idx  cons.conf.idx  euribor3m  \\\n",
       "0      nonexistent          1.1          93.994          -36.4      4.857   \n",
       "1      nonexistent          1.1          93.994          -36.4      4.857   \n",
       "2      nonexistent          1.1          93.994          -36.4      4.857   \n",
       "3      nonexistent          1.1          93.994          -36.4      4.857   \n",
       "4      nonexistent          1.1          93.994          -36.4      4.857   \n",
       "...            ...          ...             ...            ...        ...   \n",
       "41194      failure         -1.1          94.767          -50.8      1.028   \n",
       "41195      failure         -1.1          94.767          -50.8      1.028   \n",
       "41196      failure         -1.1          94.767          -50.8      1.028   \n",
       "41197          NaN          NaN             NaN            NaN        NaN   \n",
       "41198      failure         -1.1             NaN          -50.8      1.028   \n",
       "\n",
       "       nr.employed  y  \n",
       "0           5191.0  0  \n",
       "1           5191.0  0  \n",
       "2           5191.0  0  \n",
       "3           5191.0  0  \n",
       "4           5191.0  0  \n",
       "...            ... ..  \n",
       "41194       4963.6  0  \n",
       "41195       4963.6  0  \n",
       "41196       4963.6  0  \n",
       "41197          NaN  0  \n",
       "41198       4963.6  0  \n",
       "\n",
       "[41199 rows x 21 columns]"
      ]
     },
     "execution_count": 117,
     "metadata": {},
     "output_type": "execute_result"
    }
   ],
   "source": [
    "data"
   ]
  },
  {
   "cell_type": "code",
   "execution_count": 118,
   "id": "e017c09e",
   "metadata": {
    "colab": {
     "base_uri": "https://localhost:8080/"
    },
    "id": "e017c09e",
    "outputId": "65260dd1-2c0c-40b5-9b62-295961d64a5d"
   },
   "outputs": [
    {
     "data": {
      "text/plain": [
       "age               float64\n",
       "job                object\n",
       "marital            object\n",
       "education          object\n",
       "default            object\n",
       "housing            object\n",
       "loan               object\n",
       "contact            object\n",
       "month              object\n",
       "day_of_week        object\n",
       "duration          float64\n",
       "campaign          float64\n",
       "pdays             float64\n",
       "previous          float64\n",
       "poutcome           object\n",
       "emp.var.rate      float64\n",
       "cons.price.idx    float64\n",
       "cons.conf.idx     float64\n",
       "euribor3m         float64\n",
       "nr.employed       float64\n",
       "y                  object\n",
       "dtype: object"
      ]
     },
     "execution_count": 118,
     "metadata": {},
     "output_type": "execute_result"
    }
   ],
   "source": [
    "data.dtypes"
   ]
  },
  {
   "cell_type": "code",
   "execution_count": 119,
   "id": "6dfdcd4c",
   "metadata": {
    "colab": {
     "base_uri": "https://localhost:8080/",
     "height": 299
    },
    "id": "6dfdcd4c",
    "outputId": "1fb89183-0429-4855-8a17-89e9a7131a62"
   },
   "outputs": [
    {
     "data": {
      "text/html": [
       "<div>\n",
       "<style scoped>\n",
       "    .dataframe tbody tr th:only-of-type {\n",
       "        vertical-align: middle;\n",
       "    }\n",
       "\n",
       "    .dataframe tbody tr th {\n",
       "        vertical-align: top;\n",
       "    }\n",
       "\n",
       "    .dataframe thead th {\n",
       "        text-align: right;\n",
       "    }\n",
       "</style>\n",
       "<table border=\"1\" class=\"dataframe\">\n",
       "  <thead>\n",
       "    <tr style=\"text-align: right;\">\n",
       "      <th></th>\n",
       "      <th>age</th>\n",
       "      <th>job</th>\n",
       "      <th>marital</th>\n",
       "      <th>education</th>\n",
       "      <th>default</th>\n",
       "      <th>housing</th>\n",
       "      <th>loan</th>\n",
       "      <th>contact</th>\n",
       "      <th>month</th>\n",
       "      <th>day_of_week</th>\n",
       "      <th>...</th>\n",
       "      <th>campaign</th>\n",
       "      <th>pdays</th>\n",
       "      <th>previous</th>\n",
       "      <th>poutcome</th>\n",
       "      <th>emp.var.rate</th>\n",
       "      <th>cons.price.idx</th>\n",
       "      <th>cons.conf.idx</th>\n",
       "      <th>euribor3m</th>\n",
       "      <th>nr.employed</th>\n",
       "      <th>y</th>\n",
       "    </tr>\n",
       "  </thead>\n",
       "  <tbody>\n",
       "    <tr>\n",
       "      <th>0</th>\n",
       "      <td>56.0</td>\n",
       "      <td>housemaid</td>\n",
       "      <td>married</td>\n",
       "      <td>basic.4y</td>\n",
       "      <td>no</td>\n",
       "      <td>no</td>\n",
       "      <td>no</td>\n",
       "      <td>telephone</td>\n",
       "      <td>may</td>\n",
       "      <td>mon</td>\n",
       "      <td>...</td>\n",
       "      <td>1.0</td>\n",
       "      <td>999.0</td>\n",
       "      <td>0.0</td>\n",
       "      <td>nonexistent</td>\n",
       "      <td>1.1</td>\n",
       "      <td>93.994</td>\n",
       "      <td>-36.4</td>\n",
       "      <td>4.857</td>\n",
       "      <td>5191.0</td>\n",
       "      <td>0</td>\n",
       "    </tr>\n",
       "    <tr>\n",
       "      <th>1</th>\n",
       "      <td>57.0</td>\n",
       "      <td>services</td>\n",
       "      <td>married</td>\n",
       "      <td>high.school</td>\n",
       "      <td>unknown</td>\n",
       "      <td>no</td>\n",
       "      <td>no</td>\n",
       "      <td>telephone</td>\n",
       "      <td>may</td>\n",
       "      <td>mon</td>\n",
       "      <td>...</td>\n",
       "      <td>1.0</td>\n",
       "      <td>999.0</td>\n",
       "      <td>0.0</td>\n",
       "      <td>nonexistent</td>\n",
       "      <td>1.1</td>\n",
       "      <td>93.994</td>\n",
       "      <td>-36.4</td>\n",
       "      <td>4.857</td>\n",
       "      <td>5191.0</td>\n",
       "      <td>0</td>\n",
       "    </tr>\n",
       "    <tr>\n",
       "      <th>2</th>\n",
       "      <td>37.0</td>\n",
       "      <td>services</td>\n",
       "      <td>married</td>\n",
       "      <td>high.school</td>\n",
       "      <td>no</td>\n",
       "      <td>yes</td>\n",
       "      <td>no</td>\n",
       "      <td>telephone</td>\n",
       "      <td>may</td>\n",
       "      <td>mon</td>\n",
       "      <td>...</td>\n",
       "      <td>1.0</td>\n",
       "      <td>999.0</td>\n",
       "      <td>0.0</td>\n",
       "      <td>nonexistent</td>\n",
       "      <td>1.1</td>\n",
       "      <td>93.994</td>\n",
       "      <td>-36.4</td>\n",
       "      <td>4.857</td>\n",
       "      <td>5191.0</td>\n",
       "      <td>0</td>\n",
       "    </tr>\n",
       "    <tr>\n",
       "      <th>3</th>\n",
       "      <td>40.0</td>\n",
       "      <td>admin.</td>\n",
       "      <td>married</td>\n",
       "      <td>basic.6y</td>\n",
       "      <td>no</td>\n",
       "      <td>no</td>\n",
       "      <td>no</td>\n",
       "      <td>telephone</td>\n",
       "      <td>may</td>\n",
       "      <td>mon</td>\n",
       "      <td>...</td>\n",
       "      <td>1.0</td>\n",
       "      <td>999.0</td>\n",
       "      <td>0.0</td>\n",
       "      <td>nonexistent</td>\n",
       "      <td>1.1</td>\n",
       "      <td>93.994</td>\n",
       "      <td>-36.4</td>\n",
       "      <td>4.857</td>\n",
       "      <td>5191.0</td>\n",
       "      <td>0</td>\n",
       "    </tr>\n",
       "    <tr>\n",
       "      <th>4</th>\n",
       "      <td>56.0</td>\n",
       "      <td>services</td>\n",
       "      <td>married</td>\n",
       "      <td>high.school</td>\n",
       "      <td>no</td>\n",
       "      <td>no</td>\n",
       "      <td>yes</td>\n",
       "      <td>telephone</td>\n",
       "      <td>may</td>\n",
       "      <td>mon</td>\n",
       "      <td>...</td>\n",
       "      <td>1.0</td>\n",
       "      <td>999.0</td>\n",
       "      <td>0.0</td>\n",
       "      <td>nonexistent</td>\n",
       "      <td>1.1</td>\n",
       "      <td>93.994</td>\n",
       "      <td>-36.4</td>\n",
       "      <td>4.857</td>\n",
       "      <td>5191.0</td>\n",
       "      <td>0</td>\n",
       "    </tr>\n",
       "  </tbody>\n",
       "</table>\n",
       "<p>5 rows × 21 columns</p>\n",
       "</div>"
      ],
      "text/plain": [
       "    age        job  marital    education  default housing loan    contact  \\\n",
       "0  56.0  housemaid  married     basic.4y       no      no   no  telephone   \n",
       "1  57.0   services  married  high.school  unknown      no   no  telephone   \n",
       "2  37.0   services  married  high.school       no     yes   no  telephone   \n",
       "3  40.0     admin.  married     basic.6y       no      no   no  telephone   \n",
       "4  56.0   services  married  high.school       no      no  yes  telephone   \n",
       "\n",
       "  month day_of_week  ...  campaign  pdays  previous     poutcome emp.var.rate  \\\n",
       "0   may         mon  ...       1.0  999.0       0.0  nonexistent          1.1   \n",
       "1   may         mon  ...       1.0  999.0       0.0  nonexistent          1.1   \n",
       "2   may         mon  ...       1.0  999.0       0.0  nonexistent          1.1   \n",
       "3   may         mon  ...       1.0  999.0       0.0  nonexistent          1.1   \n",
       "4   may         mon  ...       1.0  999.0       0.0  nonexistent          1.1   \n",
       "\n",
       "   cons.price.idx  cons.conf.idx  euribor3m  nr.employed  y  \n",
       "0          93.994          -36.4      4.857       5191.0  0  \n",
       "1          93.994          -36.4      4.857       5191.0  0  \n",
       "2          93.994          -36.4      4.857       5191.0  0  \n",
       "3          93.994          -36.4      4.857       5191.0  0  \n",
       "4          93.994          -36.4      4.857       5191.0  0  \n",
       "\n",
       "[5 rows x 21 columns]"
      ]
     },
     "execution_count": 119,
     "metadata": {},
     "output_type": "execute_result"
    }
   ],
   "source": [
    "data.head()"
   ]
  },
  {
   "cell_type": "code",
   "execution_count": 120,
   "id": "fc1c1127",
   "metadata": {},
   "outputs": [],
   "source": [
    "# In linear and logistic regression models, we need to treat the outliers and the null values"
   ]
  },
  {
   "cell_type": "code",
   "execution_count": 121,
   "id": "af1da500",
   "metadata": {
    "id": "af1da500",
    "outputId": "e2144d8f-69cc-423d-b60d-aaf727f257ab"
   },
   "outputs": [
    {
     "data": {
      "text/plain": [
       "age               float64\n",
       "job                object\n",
       "marital            object\n",
       "education          object\n",
       "default            object\n",
       "housing            object\n",
       "loan               object\n",
       "contact            object\n",
       "month              object\n",
       "day_of_week        object\n",
       "duration          float64\n",
       "campaign          float64\n",
       "pdays             float64\n",
       "previous          float64\n",
       "poutcome           object\n",
       "emp.var.rate      float64\n",
       "cons.price.idx    float64\n",
       "cons.conf.idx     float64\n",
       "euribor3m         float64\n",
       "nr.employed       float64\n",
       "y                  object\n",
       "dtype: object"
      ]
     },
     "execution_count": 121,
     "metadata": {},
     "output_type": "execute_result"
    }
   ],
   "source": [
    "data.dtypes"
   ]
  },
  {
   "cell_type": "code",
   "execution_count": 122,
   "id": "41d43460",
   "metadata": {
    "colab": {
     "base_uri": "https://localhost:8080/"
    },
    "id": "41d43460",
    "outputId": "5160b053-25d7-4d99-cd87-1ccc4bb75fcf"
   },
   "outputs": [
    {
     "data": {
      "text/plain": [
       "age               4\n",
       "job               5\n",
       "marital           5\n",
       "education         5\n",
       "default           4\n",
       "housing           3\n",
       "loan              4\n",
       "contact           4\n",
       "month             3\n",
       "day_of_week       3\n",
       "duration          3\n",
       "campaign          3\n",
       "pdays             3\n",
       "previous          3\n",
       "poutcome          5\n",
       "emp.var.rate      3\n",
       "cons.price.idx    4\n",
       "cons.conf.idx     3\n",
       "euribor3m         3\n",
       "nr.employed       3\n",
       "y                 0\n",
       "dtype: int64"
      ]
     },
     "execution_count": 122,
     "metadata": {},
     "output_type": "execute_result"
    }
   ],
   "source": [
    "data.isna().sum()\n",
    "\n",
    "#isnull().sum()\n",
    "#isna()---> check the null values\n",
    "#sum()----> added and given the result"
   ]
  },
  {
   "cell_type": "code",
   "execution_count": 123,
   "id": "f06dab13",
   "metadata": {
    "id": "f06dab13",
    "outputId": "bef6ddae-2767-44da-c8b5-ed3e4e9339e2"
   },
   "outputs": [
    {
     "name": "stdout",
     "output_type": "stream",
     "text": [
      "<class 'pandas.core.frame.DataFrame'>\n",
      "RangeIndex: 41199 entries, 0 to 41198\n",
      "Data columns (total 21 columns):\n",
      " #   Column          Non-Null Count  Dtype  \n",
      "---  ------          --------------  -----  \n",
      " 0   age             41195 non-null  float64\n",
      " 1   job             41194 non-null  object \n",
      " 2   marital         41194 non-null  object \n",
      " 3   education       41194 non-null  object \n",
      " 4   default         41195 non-null  object \n",
      " 5   housing         41196 non-null  object \n",
      " 6   loan            41195 non-null  object \n",
      " 7   contact         41195 non-null  object \n",
      " 8   month           41196 non-null  object \n",
      " 9   day_of_week     41196 non-null  object \n",
      " 10  duration        41196 non-null  float64\n",
      " 11  campaign        41196 non-null  float64\n",
      " 12  pdays           41196 non-null  float64\n",
      " 13  previous        41196 non-null  float64\n",
      " 14  poutcome        41194 non-null  object \n",
      " 15  emp.var.rate    41196 non-null  float64\n",
      " 16  cons.price.idx  41195 non-null  float64\n",
      " 17  cons.conf.idx   41196 non-null  float64\n",
      " 18  euribor3m       41196 non-null  float64\n",
      " 19  nr.employed     41196 non-null  float64\n",
      " 20  y               41199 non-null  object \n",
      "dtypes: float64(10), object(11)\n",
      "memory usage: 6.6+ MB\n"
     ]
    }
   ],
   "source": [
    "data.info()"
   ]
  },
  {
   "cell_type": "code",
   "execution_count": 124,
   "id": "752780ce",
   "metadata": {
    "id": "752780ce"
   },
   "outputs": [],
   "source": [
    "# Null values \n",
    "# dtype == object --> replace the null values with mode\n",
    "# dtype == int/float --> replace the null values with mean/median\n",
    "# If outliers are present --> Median\n",
    "# If outliers are not present --> Mean\n",
    "# 1  2  3  4  5  100\n",
    "# mean = 115/6 --> 19.16\n",
    "# 1 2 3 4 5\n",
    "# mean = 15/5 --> 3"
   ]
  },
  {
   "cell_type": "code",
   "execution_count": 125,
   "id": "0bdfa2e0",
   "metadata": {
    "id": "0bdfa2e0",
    "outputId": "f1237e05-2466-4203-823f-cd742a338170"
   },
   "outputs": [
    {
     "data": {
      "text/plain": [
       "0    admin.\n",
       "Name: job, dtype: object"
      ]
     },
     "execution_count": 125,
     "metadata": {},
     "output_type": "execute_result"
    }
   ],
   "source": [
    "data['job'].mode() # An example to calculate the mode of a column"
   ]
  },
  {
   "cell_type": "code",
   "execution_count": 126,
   "id": "e47a5d0d",
   "metadata": {},
   "outputs": [
    {
     "data": {
      "text/plain": [
       "'admin.'"
      ]
     },
     "execution_count": 126,
     "metadata": {},
     "output_type": "execute_result"
    }
   ],
   "source": [
    "# I just want the output to be the mode and nothing else\n",
    "data['job'].mode()[0]"
   ]
  },
  {
   "cell_type": "code",
   "execution_count": 127,
   "id": "4792d7f2",
   "metadata": {
    "id": "4792d7f2",
    "outputId": "58750fa2-74f5-4353-ba10-ee0908f2e8be"
   },
   "outputs": [
    {
     "data": {
      "text/html": [
       "<div>\n",
       "<style scoped>\n",
       "    .dataframe tbody tr th:only-of-type {\n",
       "        vertical-align: middle;\n",
       "    }\n",
       "\n",
       "    .dataframe tbody tr th {\n",
       "        vertical-align: top;\n",
       "    }\n",
       "\n",
       "    .dataframe thead th {\n",
       "        text-align: right;\n",
       "    }\n",
       "</style>\n",
       "<table border=\"1\" class=\"dataframe\">\n",
       "  <thead>\n",
       "    <tr style=\"text-align: right;\">\n",
       "      <th></th>\n",
       "      <th>age</th>\n",
       "      <th>job</th>\n",
       "      <th>marital</th>\n",
       "      <th>education</th>\n",
       "      <th>default</th>\n",
       "      <th>housing</th>\n",
       "      <th>loan</th>\n",
       "      <th>contact</th>\n",
       "      <th>month</th>\n",
       "      <th>day_of_week</th>\n",
       "      <th>...</th>\n",
       "      <th>campaign</th>\n",
       "      <th>pdays</th>\n",
       "      <th>previous</th>\n",
       "      <th>poutcome</th>\n",
       "      <th>emp.var.rate</th>\n",
       "      <th>cons.price.idx</th>\n",
       "      <th>cons.conf.idx</th>\n",
       "      <th>euribor3m</th>\n",
       "      <th>nr.employed</th>\n",
       "      <th>y</th>\n",
       "    </tr>\n",
       "  </thead>\n",
       "  <tbody>\n",
       "    <tr>\n",
       "      <th>41194</th>\n",
       "      <td>74.0</td>\n",
       "      <td>retired</td>\n",
       "      <td>married</td>\n",
       "      <td>professional.course</td>\n",
       "      <td>no</td>\n",
       "      <td>yes</td>\n",
       "      <td>no</td>\n",
       "      <td>cellular</td>\n",
       "      <td>nov</td>\n",
       "      <td>fri</td>\n",
       "      <td>...</td>\n",
       "      <td>3.0</td>\n",
       "      <td>999.0</td>\n",
       "      <td>1.0</td>\n",
       "      <td>failure</td>\n",
       "      <td>-1.1</td>\n",
       "      <td>94.767</td>\n",
       "      <td>-50.8</td>\n",
       "      <td>1.028</td>\n",
       "      <td>4963.6</td>\n",
       "      <td>0</td>\n",
       "    </tr>\n",
       "    <tr>\n",
       "      <th>41195</th>\n",
       "      <td>74.0</td>\n",
       "      <td>NaN</td>\n",
       "      <td>married</td>\n",
       "      <td>professional.course</td>\n",
       "      <td>no</td>\n",
       "      <td>yes</td>\n",
       "      <td>no</td>\n",
       "      <td>cellular</td>\n",
       "      <td>nov</td>\n",
       "      <td>fri</td>\n",
       "      <td>...</td>\n",
       "      <td>3.0</td>\n",
       "      <td>999.0</td>\n",
       "      <td>1.0</td>\n",
       "      <td>failure</td>\n",
       "      <td>-1.1</td>\n",
       "      <td>94.767</td>\n",
       "      <td>-50.8</td>\n",
       "      <td>1.028</td>\n",
       "      <td>4963.6</td>\n",
       "      <td>0</td>\n",
       "    </tr>\n",
       "    <tr>\n",
       "      <th>41196</th>\n",
       "      <td>74.0</td>\n",
       "      <td>retired</td>\n",
       "      <td>married</td>\n",
       "      <td>NaN</td>\n",
       "      <td>no</td>\n",
       "      <td>yes</td>\n",
       "      <td>no</td>\n",
       "      <td>cellular</td>\n",
       "      <td>nov</td>\n",
       "      <td>fri</td>\n",
       "      <td>...</td>\n",
       "      <td>3.0</td>\n",
       "      <td>999.0</td>\n",
       "      <td>1.0</td>\n",
       "      <td>failure</td>\n",
       "      <td>-1.1</td>\n",
       "      <td>94.767</td>\n",
       "      <td>-50.8</td>\n",
       "      <td>1.028</td>\n",
       "      <td>4963.6</td>\n",
       "      <td>0</td>\n",
       "    </tr>\n",
       "    <tr>\n",
       "      <th>41197</th>\n",
       "      <td>NaN</td>\n",
       "      <td>NaN</td>\n",
       "      <td>NaN</td>\n",
       "      <td>NaN</td>\n",
       "      <td>NaN</td>\n",
       "      <td>NaN</td>\n",
       "      <td>NaN</td>\n",
       "      <td>NaN</td>\n",
       "      <td>NaN</td>\n",
       "      <td>NaN</td>\n",
       "      <td>...</td>\n",
       "      <td>NaN</td>\n",
       "      <td>NaN</td>\n",
       "      <td>NaN</td>\n",
       "      <td>NaN</td>\n",
       "      <td>NaN</td>\n",
       "      <td>NaN</td>\n",
       "      <td>NaN</td>\n",
       "      <td>NaN</td>\n",
       "      <td>NaN</td>\n",
       "      <td>0</td>\n",
       "    </tr>\n",
       "    <tr>\n",
       "      <th>41198</th>\n",
       "      <td>74.0</td>\n",
       "      <td>retired</td>\n",
       "      <td>married</td>\n",
       "      <td>professional.course</td>\n",
       "      <td>no</td>\n",
       "      <td>yes</td>\n",
       "      <td>NaN</td>\n",
       "      <td>cellular</td>\n",
       "      <td>nov</td>\n",
       "      <td>fri</td>\n",
       "      <td>...</td>\n",
       "      <td>3.0</td>\n",
       "      <td>999.0</td>\n",
       "      <td>1.0</td>\n",
       "      <td>failure</td>\n",
       "      <td>-1.1</td>\n",
       "      <td>NaN</td>\n",
       "      <td>-50.8</td>\n",
       "      <td>1.028</td>\n",
       "      <td>4963.6</td>\n",
       "      <td>0</td>\n",
       "    </tr>\n",
       "  </tbody>\n",
       "</table>\n",
       "<p>5 rows × 21 columns</p>\n",
       "</div>"
      ],
      "text/plain": [
       "        age      job  marital            education default housing loan  \\\n",
       "41194  74.0  retired  married  professional.course      no     yes   no   \n",
       "41195  74.0      NaN  married  professional.course      no     yes   no   \n",
       "41196  74.0  retired  married                  NaN      no     yes   no   \n",
       "41197   NaN      NaN      NaN                  NaN     NaN     NaN  NaN   \n",
       "41198  74.0  retired  married  professional.course      no     yes  NaN   \n",
       "\n",
       "        contact month day_of_week  ...  campaign  pdays  previous  poutcome  \\\n",
       "41194  cellular   nov         fri  ...       3.0  999.0       1.0   failure   \n",
       "41195  cellular   nov         fri  ...       3.0  999.0       1.0   failure   \n",
       "41196  cellular   nov         fri  ...       3.0  999.0       1.0   failure   \n",
       "41197       NaN   NaN         NaN  ...       NaN    NaN       NaN       NaN   \n",
       "41198  cellular   nov         fri  ...       3.0  999.0       1.0   failure   \n",
       "\n",
       "      emp.var.rate  cons.price.idx  cons.conf.idx  euribor3m  nr.employed  y  \n",
       "41194         -1.1          94.767          -50.8      1.028       4963.6  0  \n",
       "41195         -1.1          94.767          -50.8      1.028       4963.6  0  \n",
       "41196         -1.1          94.767          -50.8      1.028       4963.6  0  \n",
       "41197          NaN             NaN            NaN        NaN          NaN  0  \n",
       "41198         -1.1             NaN          -50.8      1.028       4963.6  0  \n",
       "\n",
       "[5 rows x 21 columns]"
      ]
     },
     "execution_count": 127,
     "metadata": {},
     "output_type": "execute_result"
    }
   ],
   "source": [
    "data.tail()"
   ]
  },
  {
   "cell_type": "code",
   "execution_count": 128,
   "id": "97d9a05c",
   "metadata": {
    "id": "97d9a05c",
    "outputId": "8aadabf1-4a1a-4799-cfe8-00894790741d"
   },
   "outputs": [
    {
     "data": {
      "text/plain": [
       "age               4\n",
       "job               5\n",
       "marital           5\n",
       "education         5\n",
       "default           4\n",
       "housing           3\n",
       "loan              4\n",
       "contact           4\n",
       "month             3\n",
       "day_of_week       3\n",
       "duration          3\n",
       "campaign          3\n",
       "pdays             3\n",
       "previous          3\n",
       "poutcome          5\n",
       "emp.var.rate      3\n",
       "cons.price.idx    4\n",
       "cons.conf.idx     3\n",
       "euribor3m         3\n",
       "nr.employed       3\n",
       "y                 0\n",
       "dtype: int64"
      ]
     },
     "execution_count": 128,
     "metadata": {},
     "output_type": "execute_result"
    }
   ],
   "source": [
    "data.isna().sum()"
   ]
  },
  {
   "cell_type": "code",
   "execution_count": 129,
   "id": "88defd3f",
   "metadata": {
    "id": "88defd3f"
   },
   "outputs": [],
   "source": [
    "#outliers"
   ]
  },
  {
   "cell_type": "code",
   "execution_count": 130,
   "id": "dde57213",
   "metadata": {},
   "outputs": [
    {
     "data": {
      "text/plain": [
       "age               float64\n",
       "job                object\n",
       "marital            object\n",
       "education          object\n",
       "default            object\n",
       "housing            object\n",
       "loan               object\n",
       "contact            object\n",
       "month              object\n",
       "day_of_week        object\n",
       "duration          float64\n",
       "campaign          float64\n",
       "pdays             float64\n",
       "previous          float64\n",
       "poutcome           object\n",
       "emp.var.rate      float64\n",
       "cons.price.idx    float64\n",
       "cons.conf.idx     float64\n",
       "euribor3m         float64\n",
       "nr.employed       float64\n",
       "y                  object\n",
       "dtype: object"
      ]
     },
     "execution_count": 130,
     "metadata": {},
     "output_type": "execute_result"
    }
   ],
   "source": [
    "data.dtypes"
   ]
  },
  {
   "cell_type": "code",
   "execution_count": 131,
   "id": "11a25aa6",
   "metadata": {},
   "outputs": [
    {
     "data": {
      "text/plain": [
       "15"
      ]
     },
     "execution_count": 131,
     "metadata": {},
     "output_type": "execute_result"
    }
   ],
   "source": [
    "data.duplicated().sum()\n",
    "# data = data.drop_duplicates()"
   ]
  },
  {
   "cell_type": "code",
   "execution_count": 132,
   "id": "1cf0068f",
   "metadata": {
    "id": "1cf0068f",
    "outputId": "73fe3da2-3c41-461f-a355-3a2706dcba87"
   },
   "outputs": [
    {
     "data": {
      "text/plain": [
       "<AxesSubplot:xlabel='age'>"
      ]
     },
     "execution_count": 132,
     "metadata": {},
     "output_type": "execute_result"
    },
    {
     "data": {
      "image/png": "[encoded data removed]",
      "text/plain": [
       "<Figure size 640x480 with 1 Axes>"
      ]
     },
     "metadata": {},
     "output_type": "display_data"
    }
   ],
   "source": [
    "import seaborn as sns\n",
    "sns.boxplot(x=data['age'])"
   ]
  },
  {
   "cell_type": "code",
   "execution_count": 133,
   "id": "e95a01a9",
   "metadata": {},
   "outputs": [
    {
     "data": {
      "text/plain": [
       "Index(['age', 'job', 'marital', 'education', 'default', 'housing', 'loan',\n",
       "       'contact', 'month', 'day_of_week', 'duration', 'campaign', 'pdays',\n",
       "       'previous', 'poutcome', 'emp.var.rate', 'cons.price.idx',\n",
       "       'cons.conf.idx', 'euribor3m', 'nr.employed', 'y'],\n",
       "      dtype='object')"
      ]
     },
     "execution_count": 133,
     "metadata": {},
     "output_type": "execute_result"
    }
   ],
   "source": [
    "data.columns"
   ]
  },
  {
   "cell_type": "code",
   "execution_count": 134,
   "id": "462a732d",
   "metadata": {},
   "outputs": [
    {
     "data": {
      "text/plain": [
       "['age',\n",
       " 'job',\n",
       " 'marital',\n",
       " 'education',\n",
       " 'default',\n",
       " 'housing',\n",
       " 'loan',\n",
       " 'contact',\n",
       " 'month',\n",
       " 'day_of_week',\n",
       " 'duration',\n",
       " 'campaign',\n",
       " 'pdays',\n",
       " 'previous',\n",
       " 'poutcome',\n",
       " 'emp.var.rate',\n",
       " 'cons.price.idx',\n",
       " 'cons.conf.idx',\n",
       " 'euribor3m',\n",
       " 'nr.employed',\n",
       " 'y']"
      ]
     },
     "execution_count": 134,
     "metadata": {},
     "output_type": "execute_result"
    }
   ],
   "source": [
    "col_list = list(data.columns)\n",
    "col_list"
   ]
  },
  {
   "cell_type": "code",
   "execution_count": 135,
   "id": "a0928f53",
   "metadata": {},
   "outputs": [],
   "source": [
    "import matplotlib.pyplot as plt"
   ]
  },
  {
   "cell_type": "code",
   "execution_count": 136,
   "id": "9c62a451",
   "metadata": {},
   "outputs": [
    {
     "data": {
      "image/png": "[encoded data removed]",
      "text/plain": [
       "<Figure size 640x480 with 1 Axes>"
      ]
     },
     "metadata": {},
     "output_type": "display_data"
    },
    {
     "data": {
      "image/png": "[encoded data removed]",
      "text/plain": [
       "<Figure size 640x480 with 1 Axes>"
      ]
     },
     "metadata": {},
     "output_type": "display_data"
    },
    {
     "data": {
      "image/png": "[encoded data removed]",
      "text/plain": [
       "<Figure size 640x480 with 1 Axes>"
      ]
     },
     "metadata": {},
     "output_type": "display_data"
    },
    {
     "data": {
      "image/png": "[encoded data removed]",
      "text/plain": [
       "<Figure size 640x480 with 1 Axes>"
      ]
     },
     "metadata": {},
     "output_type": "display_data"
    },
    {
     "data": {
      "image/png": "[encoded data removed]",
      "text/plain": [
       "<Figure size 640x480 with 1 Axes>"
      ]
     },
     "metadata": {},
     "output_type": "display_data"
    },
    {
     "data": {
      "image/png": "[encoded data removed]",
      "text/plain": [
       "<Figure size 640x480 with 1 Axes>"
      ]
     },
     "metadata": {},
     "output_type": "display_data"
    },
    {
     "data": {
      "image/png": "[encoded data removed]",
      "text/plain": [
       "<Figure size 640x480 with 1 Axes>"
      ]
     },
     "metadata": {},
     "output_type": "display_data"
    },
    {
     "data": {
      "image/png": "[encoded data removed]",
      "text/plain": [
       "<Figure size 640x480 with 1 Axes>"
      ]
     },
     "metadata": {},
     "output_type": "display_data"
    },
    {
     "data": {
      "image/png": "[encoded data removed]",
      "text/plain": [
       "<Figure size 640x480 with 1 Axes>"
      ]
     },
     "metadata": {},
     "output_type": "display_data"
    },
    {
     "data": {
      "image/png": "[encoded data removed]",
      "text/plain": [
       "<Figure size 640x480 with 1 Axes>"
      ]
     },
     "metadata": {},
     "output_type": "display_data"
    }
   ],
   "source": [
    "for i in col_list:\n",
    "    if(data[i].dtype!='object'):\n",
    "        plt.figure()\n",
    "        sns.boxplot(x=data[i])"
   ]
  },
  {
   "cell_type": "code",
   "execution_count": 137,
   "id": "63db4281",
   "metadata": {
    "id": "63db4281",
    "outputId": "b5408cfc-0476-4f13-fd44-4d5bdf4faa9a"
   },
   "outputs": [
    {
     "data": {
      "text/plain": [
       "<AxesSubplot:xlabel='duration'>"
      ]
     },
     "execution_count": 137,
     "metadata": {},
     "output_type": "execute_result"
    },
    {
     "data": {
      "image/png": "[encoded data removed]",
      "text/plain": [
       "<Figure size 640x480 with 1 Axes>"
      ]
     },
     "metadata": {},
     "output_type": "display_data"
    }
   ],
   "source": [
    "sns.boxplot(x=data['duration'])"
   ]
  },
  {
   "cell_type": "code",
   "execution_count": 138,
   "id": "53a54994",
   "metadata": {
    "id": "53a54994",
    "outputId": "02e450b5-6caf-4dd1-f08a-1670e251eeef"
   },
   "outputs": [
    {
     "data": {
      "text/html": [
       "<div>\n",
       "<style scoped>\n",
       "    .dataframe tbody tr th:only-of-type {\n",
       "        vertical-align: middle;\n",
       "    }\n",
       "\n",
       "    .dataframe tbody tr th {\n",
       "        vertical-align: top;\n",
       "    }\n",
       "\n",
       "    .dataframe thead th {\n",
       "        text-align: right;\n",
       "    }\n",
       "</style>\n",
       "<table border=\"1\" class=\"dataframe\">\n",
       "  <thead>\n",
       "    <tr style=\"text-align: right;\">\n",
       "      <th></th>\n",
       "      <th>age</th>\n",
       "      <th>duration</th>\n",
       "      <th>campaign</th>\n",
       "      <th>pdays</th>\n",
       "      <th>previous</th>\n",
       "      <th>emp.var.rate</th>\n",
       "      <th>cons.price.idx</th>\n",
       "      <th>cons.conf.idx</th>\n",
       "      <th>euribor3m</th>\n",
       "      <th>nr.employed</th>\n",
       "    </tr>\n",
       "  </thead>\n",
       "  <tbody>\n",
       "    <tr>\n",
       "      <th>count</th>\n",
       "      <td>41195.000000</td>\n",
       "      <td>41196.000000</td>\n",
       "      <td>41196.000000</td>\n",
       "      <td>41196.000000</td>\n",
       "      <td>41196.000000</td>\n",
       "      <td>41196.000000</td>\n",
       "      <td>41195.000000</td>\n",
       "      <td>41196.000000</td>\n",
       "      <td>41196.000000</td>\n",
       "      <td>41196.000000</td>\n",
       "    </tr>\n",
       "    <tr>\n",
       "      <th>mean</th>\n",
       "      <td>40.030319</td>\n",
       "      <td>258.281265</td>\n",
       "      <td>2.567676</td>\n",
       "      <td>962.482547</td>\n",
       "      <td>0.173124</td>\n",
       "      <td>0.081656</td>\n",
       "      <td>93.575867</td>\n",
       "      <td>-40.504600</td>\n",
       "      <td>3.620787</td>\n",
       "      <td>5166.996405</td>\n",
       "    </tr>\n",
       "    <tr>\n",
       "      <th>std</th>\n",
       "      <td>10.431818</td>\n",
       "      <td>259.254211</td>\n",
       "      <td>2.769751</td>\n",
       "      <td>186.893451</td>\n",
       "      <td>0.494987</td>\n",
       "      <td>1.570894</td>\n",
       "      <td>0.578999</td>\n",
       "      <td>4.629972</td>\n",
       "      <td>1.734655</td>\n",
       "      <td>72.300104</td>\n",
       "    </tr>\n",
       "    <tr>\n",
       "      <th>min</th>\n",
       "      <td>17.000000</td>\n",
       "      <td>0.000000</td>\n",
       "      <td>1.000000</td>\n",
       "      <td>0.000000</td>\n",
       "      <td>0.000000</td>\n",
       "      <td>-3.400000</td>\n",
       "      <td>92.201000</td>\n",
       "      <td>-50.800000</td>\n",
       "      <td>0.634000</td>\n",
       "      <td>4963.600000</td>\n",
       "    </tr>\n",
       "    <tr>\n",
       "      <th>25%</th>\n",
       "      <td>32.000000</td>\n",
       "      <td>102.000000</td>\n",
       "      <td>1.000000</td>\n",
       "      <td>999.000000</td>\n",
       "      <td>0.000000</td>\n",
       "      <td>-1.800000</td>\n",
       "      <td>93.075000</td>\n",
       "      <td>-42.700000</td>\n",
       "      <td>1.344000</td>\n",
       "      <td>5099.100000</td>\n",
       "    </tr>\n",
       "    <tr>\n",
       "      <th>50%</th>\n",
       "      <td>38.000000</td>\n",
       "      <td>180.000000</td>\n",
       "      <td>2.000000</td>\n",
       "      <td>999.000000</td>\n",
       "      <td>0.000000</td>\n",
       "      <td>1.100000</td>\n",
       "      <td>93.749000</td>\n",
       "      <td>-41.800000</td>\n",
       "      <td>4.857000</td>\n",
       "      <td>5191.000000</td>\n",
       "    </tr>\n",
       "    <tr>\n",
       "      <th>75%</th>\n",
       "      <td>47.000000</td>\n",
       "      <td>319.000000</td>\n",
       "      <td>3.000000</td>\n",
       "      <td>999.000000</td>\n",
       "      <td>0.000000</td>\n",
       "      <td>1.400000</td>\n",
       "      <td>93.994000</td>\n",
       "      <td>-36.400000</td>\n",
       "      <td>4.961000</td>\n",
       "      <td>5228.100000</td>\n",
       "    </tr>\n",
       "    <tr>\n",
       "      <th>max</th>\n",
       "      <td>98.000000</td>\n",
       "      <td>4918.000000</td>\n",
       "      <td>56.000000</td>\n",
       "      <td>999.000000</td>\n",
       "      <td>7.000000</td>\n",
       "      <td>1.400000</td>\n",
       "      <td>94.767000</td>\n",
       "      <td>-26.900000</td>\n",
       "      <td>5.045000</td>\n",
       "      <td>5228.100000</td>\n",
       "    </tr>\n",
       "  </tbody>\n",
       "</table>\n",
       "</div>"
      ],
      "text/plain": [
       "                age      duration      campaign         pdays      previous  \\\n",
       "count  41195.000000  41196.000000  41196.000000  41196.000000  41196.000000   \n",
       "mean      40.030319    258.281265      2.567676    962.482547      0.173124   \n",
       "std       10.431818    259.254211      2.769751    186.893451      0.494987   \n",
       "min       17.000000      0.000000      1.000000      0.000000      0.000000   \n",
       "25%       32.000000    102.000000      1.000000    999.000000      0.000000   \n",
       "50%       38.000000    180.000000      2.000000    999.000000      0.000000   \n",
       "75%       47.000000    319.000000      3.000000    999.000000      0.000000   \n",
       "max       98.000000   4918.000000     56.000000    999.000000      7.000000   \n",
       "\n",
       "       emp.var.rate  cons.price.idx  cons.conf.idx     euribor3m   nr.employed  \n",
       "count  41196.000000    41195.000000   41196.000000  41196.000000  41196.000000  \n",
       "mean       0.081656       93.575867     -40.504600      3.620787   5166.996405  \n",
       "std        1.570894        0.578999       4.629972      1.734655     72.300104  \n",
       "min       -3.400000       92.201000     -50.800000      0.634000   4963.600000  \n",
       "25%       -1.800000       93.075000     -42.700000      1.344000   5099.100000  \n",
       "50%        1.100000       93.749000     -41.800000      4.857000   5191.000000  \n",
       "75%        1.400000       93.994000     -36.400000      4.961000   5228.100000  \n",
       "max        1.400000       94.767000     -26.900000      5.045000   5228.100000  "
      ]
     },
     "execution_count": 138,
     "metadata": {},
     "output_type": "execute_result"
    }
   ],
   "source": [
    "data.describe()"
   ]
  },
  {
   "cell_type": "code",
   "execution_count": 139,
   "id": "3db3c17f",
   "metadata": {},
   "outputs": [],
   "source": [
    "# There are two ways fro treating the outliers\n",
    "# One way is to remove the outliers column-wise\n",
    "# The second way is to remove the outliers all at once for every numerical column"
   ]
  },
  {
   "cell_type": "code",
   "execution_count": 140,
   "id": "bd05408f",
   "metadata": {
    "colab": {
     "base_uri": "https://localhost:8080/"
    },
    "id": "bd05408f",
    "outputId": "a0f335b8-313c-4810-8a11-bc765d045cbd"
   },
   "outputs": [
    {
     "name": "stdout",
     "output_type": "stream",
     "text": [
      "age                15.000\n",
      "duration          217.000\n",
      "campaign            2.000\n",
      "pdays               0.000\n",
      "previous            0.000\n",
      "emp.var.rate        3.200\n",
      "cons.price.idx      0.919\n",
      "cons.conf.idx       6.300\n",
      "euribor3m           3.617\n",
      "nr.employed       129.000\n",
      "dtype: float64\n"
     ]
    },
    {
     "data": {
      "text/plain": [
       "pandas.core.series.Series"
      ]
     },
     "execution_count": 140,
     "metadata": {},
     "output_type": "execute_result"
    }
   ],
   "source": [
    "# Gerneralised formula\n",
    "Q1 = data.quantile(0.25)\n",
    "Q3 = data.quantile(0.75)\n",
    "IQR = Q3 - Q1\n",
    "print(IQR)\n",
    "type(IQR)"
   ]
  },
  {
   "cell_type": "code",
   "execution_count": 141,
   "id": "519a3a28",
   "metadata": {},
   "outputs": [
    {
     "data": {
      "text/plain": [
       "(age                 32.000\n",
       " duration           102.000\n",
       " campaign             1.000\n",
       " pdays              999.000\n",
       " previous             0.000\n",
       " emp.var.rate        -1.800\n",
       " cons.price.idx      93.075\n",
       " cons.conf.idx      -42.700\n",
       " euribor3m            1.344\n",
       " nr.employed       5099.100\n",
       " Name: 0.25, dtype: float64,\n",
       " age                 47.000\n",
       " duration           319.000\n",
       " campaign             3.000\n",
       " pdays              999.000\n",
       " previous             0.000\n",
       " emp.var.rate         1.400\n",
       " cons.price.idx      93.994\n",
       " cons.conf.idx      -36.400\n",
       " euribor3m            4.961\n",
       " nr.employed       5228.100\n",
       " Name: 0.75, dtype: float64)"
      ]
     },
     "execution_count": 141,
     "metadata": {},
     "output_type": "execute_result"
    }
   ],
   "source": [
    "Q1, Q3"
   ]
  },
  {
   "cell_type": "code",
   "execution_count": 142,
   "id": "40ff8ff1",
   "metadata": {
    "id": "40ff8ff1"
   },
   "outputs": [],
   "source": [
    "# data = data[(data >= (Q1 - 1.5 * IQR)) & (data <= (Q3 + 1.5 * IQR)).any(axis =1)]\n",
    "# Lower limit = Q1 - 1.5*IQR\n",
    "# Upper Limit = Q3 + 1.5*IQR"
   ]
  },
  {
   "cell_type": "code",
   "execution_count": 143,
   "id": "9f359b86",
   "metadata": {
    "id": "9f359b86"
   },
   "outputs": [],
   "source": [
    "# ~ --> Negation operator --> It provides the exact opposite of the condition mentioned\n",
    "data = data[~((data < (Q1 - 1.5 * IQR)) |(data > (Q3 + 1.5 * IQR))).any(axis=1)] # axis = 1 --> column wise\n",
    "# axis = 0 --> row wise"
   ]
  },
  {
   "cell_type": "code",
   "execution_count": 144,
   "id": "840c3dbc",
   "metadata": {},
   "outputs": [],
   "source": [
    "d1 = data[((data < (Q1 - 1.5 * IQR)) |(data > (Q3 + 1.5 * IQR))).any(axis=1)]"
   ]
  },
  {
   "cell_type": "code",
   "execution_count": 145,
   "id": "a984fc41",
   "metadata": {},
   "outputs": [
    {
     "data": {
      "text/html": [
       "<div>\n",
       "<style scoped>\n",
       "    .dataframe tbody tr th:only-of-type {\n",
       "        vertical-align: middle;\n",
       "    }\n",
       "\n",
       "    .dataframe tbody tr th {\n",
       "        vertical-align: top;\n",
       "    }\n",
       "\n",
       "    .dataframe thead th {\n",
       "        text-align: right;\n",
       "    }\n",
       "</style>\n",
       "<table border=\"1\" class=\"dataframe\">\n",
       "  <thead>\n",
       "    <tr style=\"text-align: right;\">\n",
       "      <th></th>\n",
       "      <th>age</th>\n",
       "      <th>job</th>\n",
       "      <th>marital</th>\n",
       "      <th>education</th>\n",
       "      <th>default</th>\n",
       "      <th>housing</th>\n",
       "      <th>loan</th>\n",
       "      <th>contact</th>\n",
       "      <th>month</th>\n",
       "      <th>day_of_week</th>\n",
       "      <th>...</th>\n",
       "      <th>campaign</th>\n",
       "      <th>pdays</th>\n",
       "      <th>previous</th>\n",
       "      <th>poutcome</th>\n",
       "      <th>emp.var.rate</th>\n",
       "      <th>cons.price.idx</th>\n",
       "      <th>cons.conf.idx</th>\n",
       "      <th>euribor3m</th>\n",
       "      <th>nr.employed</th>\n",
       "      <th>y</th>\n",
       "    </tr>\n",
       "  </thead>\n",
       "  <tbody>\n",
       "  </tbody>\n",
       "</table>\n",
       "<p>0 rows × 21 columns</p>\n",
       "</div>"
      ],
      "text/plain": [
       "Empty DataFrame\n",
       "Columns: [age, job, marital, education, default, housing, loan, contact, month, day_of_week, duration, campaign, pdays, previous, poutcome, emp.var.rate, cons.price.idx, cons.conf.idx, euribor3m, nr.employed, y]\n",
       "Index: []\n",
       "\n",
       "[0 rows x 21 columns]"
      ]
     },
     "execution_count": 145,
     "metadata": {},
     "output_type": "execute_result"
    }
   ],
   "source": [
    "d1"
   ]
  },
  {
   "cell_type": "code",
   "execution_count": 146,
   "id": "c8f7d738",
   "metadata": {},
   "outputs": [
    {
     "name": "stdout",
     "output_type": "stream",
     "text": [
      "\n"
     ]
    },
    {
     "ename": "ValueError",
     "evalue": "invalid literal for int() with base 10: ''",
     "output_type": "error",
     "traceback": [
      "\u001b[1;31m---------------------------------------------------------------------------\u001b[0m",
      "\u001b[1;31mValueError\u001b[0m                                Traceback (most recent call last)",
      "\u001b[1;32m~\\AppData\\Local\\Temp\\ipykernel_7540\\233539028.py\u001b[0m in \u001b[0;36m<module>\u001b[1;34m\u001b[0m\n\u001b[1;32m----> 1\u001b[1;33m \u001b[0ma\u001b[0m \u001b[1;33m=\u001b[0m \u001b[0mint\u001b[0m\u001b[1;33m(\u001b[0m\u001b[0minput\u001b[0m\u001b[1;33m(\u001b[0m\u001b[1;33m)\u001b[0m\u001b[1;33m)\u001b[0m\u001b[1;33m\u001b[0m\u001b[1;33m\u001b[0m\u001b[0m\n\u001b[0m\u001b[0;32m      2\u001b[0m \u001b[0mb\u001b[0m \u001b[1;33m=\u001b[0m \u001b[0mint\u001b[0m\u001b[1;33m(\u001b[0m\u001b[0minput\u001b[0m\u001b[1;33m(\u001b[0m\u001b[1;33m)\u001b[0m\u001b[1;33m)\u001b[0m\u001b[1;33m\u001b[0m\u001b[1;33m\u001b[0m\u001b[0m\n",
      "\u001b[1;31mValueError\u001b[0m: invalid literal for int() with base 10: ''"
     ]
    }
   ],
   "source": [
    "a = int(input())\n",
    "b = int(input())"
   ]
  },
  {
   "cell_type": "code",
   "execution_count": 147,
   "id": "4183d9df",
   "metadata": {},
   "outputs": [
    {
     "ename": "NameError",
     "evalue": "name 'b' is not defined",
     "output_type": "error",
     "traceback": [
      "\u001b[1;31m---------------------------------------------------------------------------\u001b[0m",
      "\u001b[1;31mNameError\u001b[0m                                 Traceback (most recent call last)",
      "\u001b[1;32m~\\AppData\\Local\\Temp\\ipykernel_7540\\3068275015.py\u001b[0m in \u001b[0;36m<module>\u001b[1;34m\u001b[0m\n\u001b[1;32m----> 1\u001b[1;33m \u001b[1;32mif\u001b[0m\u001b[1;33m(\u001b[0m\u001b[1;33m~\u001b[0m\u001b[1;33m(\u001b[0m\u001b[0ma\u001b[0m\u001b[1;33m==\u001b[0m\u001b[0mb\u001b[0m\u001b[1;33m)\u001b[0m\u001b[1;33m)\u001b[0m\u001b[1;33m:\u001b[0m\u001b[1;33m\u001b[0m\u001b[1;33m\u001b[0m\u001b[0m\n\u001b[0m\u001b[0;32m      2\u001b[0m     \u001b[0mprint\u001b[0m\u001b[1;33m(\u001b[0m\u001b[1;32mTrue\u001b[0m\u001b[1;33m)\u001b[0m\u001b[1;33m\u001b[0m\u001b[1;33m\u001b[0m\u001b[0m\n\u001b[0;32m      3\u001b[0m \u001b[1;32melse\u001b[0m\u001b[1;33m:\u001b[0m\u001b[1;33m\u001b[0m\u001b[1;33m\u001b[0m\u001b[0m\n\u001b[0;32m      4\u001b[0m     \u001b[0mprint\u001b[0m\u001b[1;33m(\u001b[0m\u001b[1;32mFalse\u001b[0m\u001b[1;33m)\u001b[0m\u001b[1;33m\u001b[0m\u001b[1;33m\u001b[0m\u001b[0m\n",
      "\u001b[1;31mNameError\u001b[0m: name 'b' is not defined"
     ]
    }
   ],
   "source": [
    "if(~(a==b)):\n",
    "    print(True)\n",
    "else:\n",
    "    print(False)"
   ]
  },
  {
   "cell_type": "code",
   "execution_count": 148,
   "id": "e68919a5",
   "metadata": {
    "id": "e68919a5",
    "outputId": "e156d11a-bd4c-4d69-d5c5-3f57354b71f6"
   },
   "outputs": [
    {
     "data": {
      "text/html": [
       "<div>\n",
       "<style scoped>\n",
       "    .dataframe tbody tr th:only-of-type {\n",
       "        vertical-align: middle;\n",
       "    }\n",
       "\n",
       "    .dataframe tbody tr th {\n",
       "        vertical-align: top;\n",
       "    }\n",
       "\n",
       "    .dataframe thead th {\n",
       "        text-align: right;\n",
       "    }\n",
       "</style>\n",
       "<table border=\"1\" class=\"dataframe\">\n",
       "  <thead>\n",
       "    <tr style=\"text-align: right;\">\n",
       "      <th></th>\n",
       "      <th>age</th>\n",
       "      <th>job</th>\n",
       "      <th>marital</th>\n",
       "      <th>education</th>\n",
       "      <th>default</th>\n",
       "      <th>housing</th>\n",
       "      <th>loan</th>\n",
       "      <th>contact</th>\n",
       "      <th>month</th>\n",
       "      <th>day_of_week</th>\n",
       "      <th>...</th>\n",
       "      <th>campaign</th>\n",
       "      <th>pdays</th>\n",
       "      <th>previous</th>\n",
       "      <th>poutcome</th>\n",
       "      <th>emp.var.rate</th>\n",
       "      <th>cons.price.idx</th>\n",
       "      <th>cons.conf.idx</th>\n",
       "      <th>euribor3m</th>\n",
       "      <th>nr.employed</th>\n",
       "      <th>y</th>\n",
       "    </tr>\n",
       "  </thead>\n",
       "  <tbody>\n",
       "    <tr>\n",
       "      <th>0</th>\n",
       "      <td>56.0</td>\n",
       "      <td>housemaid</td>\n",
       "      <td>married</td>\n",
       "      <td>basic.4y</td>\n",
       "      <td>no</td>\n",
       "      <td>no</td>\n",
       "      <td>no</td>\n",
       "      <td>telephone</td>\n",
       "      <td>may</td>\n",
       "      <td>mon</td>\n",
       "      <td>...</td>\n",
       "      <td>1.0</td>\n",
       "      <td>999.0</td>\n",
       "      <td>0.0</td>\n",
       "      <td>nonexistent</td>\n",
       "      <td>1.1</td>\n",
       "      <td>93.994</td>\n",
       "      <td>-36.4</td>\n",
       "      <td>4.857</td>\n",
       "      <td>5191.0</td>\n",
       "      <td>0</td>\n",
       "    </tr>\n",
       "    <tr>\n",
       "      <th>1</th>\n",
       "      <td>57.0</td>\n",
       "      <td>services</td>\n",
       "      <td>married</td>\n",
       "      <td>high.school</td>\n",
       "      <td>unknown</td>\n",
       "      <td>no</td>\n",
       "      <td>no</td>\n",
       "      <td>telephone</td>\n",
       "      <td>may</td>\n",
       "      <td>mon</td>\n",
       "      <td>...</td>\n",
       "      <td>1.0</td>\n",
       "      <td>999.0</td>\n",
       "      <td>0.0</td>\n",
       "      <td>nonexistent</td>\n",
       "      <td>1.1</td>\n",
       "      <td>93.994</td>\n",
       "      <td>-36.4</td>\n",
       "      <td>4.857</td>\n",
       "      <td>5191.0</td>\n",
       "      <td>0</td>\n",
       "    </tr>\n",
       "    <tr>\n",
       "      <th>2</th>\n",
       "      <td>37.0</td>\n",
       "      <td>services</td>\n",
       "      <td>married</td>\n",
       "      <td>high.school</td>\n",
       "      <td>no</td>\n",
       "      <td>yes</td>\n",
       "      <td>no</td>\n",
       "      <td>telephone</td>\n",
       "      <td>may</td>\n",
       "      <td>mon</td>\n",
       "      <td>...</td>\n",
       "      <td>1.0</td>\n",
       "      <td>999.0</td>\n",
       "      <td>0.0</td>\n",
       "      <td>nonexistent</td>\n",
       "      <td>1.1</td>\n",
       "      <td>93.994</td>\n",
       "      <td>-36.4</td>\n",
       "      <td>4.857</td>\n",
       "      <td>5191.0</td>\n",
       "      <td>0</td>\n",
       "    </tr>\n",
       "    <tr>\n",
       "      <th>3</th>\n",
       "      <td>40.0</td>\n",
       "      <td>admin.</td>\n",
       "      <td>married</td>\n",
       "      <td>basic.6y</td>\n",
       "      <td>no</td>\n",
       "      <td>no</td>\n",
       "      <td>no</td>\n",
       "      <td>telephone</td>\n",
       "      <td>may</td>\n",
       "      <td>mon</td>\n",
       "      <td>...</td>\n",
       "      <td>1.0</td>\n",
       "      <td>999.0</td>\n",
       "      <td>0.0</td>\n",
       "      <td>nonexistent</td>\n",
       "      <td>1.1</td>\n",
       "      <td>93.994</td>\n",
       "      <td>-36.4</td>\n",
       "      <td>4.857</td>\n",
       "      <td>5191.0</td>\n",
       "      <td>0</td>\n",
       "    </tr>\n",
       "    <tr>\n",
       "      <th>4</th>\n",
       "      <td>56.0</td>\n",
       "      <td>services</td>\n",
       "      <td>married</td>\n",
       "      <td>high.school</td>\n",
       "      <td>no</td>\n",
       "      <td>no</td>\n",
       "      <td>yes</td>\n",
       "      <td>telephone</td>\n",
       "      <td>may</td>\n",
       "      <td>mon</td>\n",
       "      <td>...</td>\n",
       "      <td>1.0</td>\n",
       "      <td>999.0</td>\n",
       "      <td>0.0</td>\n",
       "      <td>nonexistent</td>\n",
       "      <td>1.1</td>\n",
       "      <td>93.994</td>\n",
       "      <td>-36.4</td>\n",
       "      <td>4.857</td>\n",
       "      <td>5191.0</td>\n",
       "      <td>0</td>\n",
       "    </tr>\n",
       "  </tbody>\n",
       "</table>\n",
       "<p>5 rows × 21 columns</p>\n",
       "</div>"
      ],
      "text/plain": [
       "    age        job  marital    education  default housing loan    contact  \\\n",
       "0  56.0  housemaid  married     basic.4y       no      no   no  telephone   \n",
       "1  57.0   services  married  high.school  unknown      no   no  telephone   \n",
       "2  37.0   services  married  high.school       no     yes   no  telephone   \n",
       "3  40.0     admin.  married     basic.6y       no      no   no  telephone   \n",
       "4  56.0   services  married  high.school       no      no  yes  telephone   \n",
       "\n",
       "  month day_of_week  ...  campaign  pdays  previous     poutcome emp.var.rate  \\\n",
       "0   may         mon  ...       1.0  999.0       0.0  nonexistent          1.1   \n",
       "1   may         mon  ...       1.0  999.0       0.0  nonexistent          1.1   \n",
       "2   may         mon  ...       1.0  999.0       0.0  nonexistent          1.1   \n",
       "3   may         mon  ...       1.0  999.0       0.0  nonexistent          1.1   \n",
       "4   may         mon  ...       1.0  999.0       0.0  nonexistent          1.1   \n",
       "\n",
       "   cons.price.idx  cons.conf.idx  euribor3m  nr.employed  y  \n",
       "0          93.994          -36.4      4.857       5191.0  0  \n",
       "1          93.994          -36.4      4.857       5191.0  0  \n",
       "2          93.994          -36.4      4.857       5191.0  0  \n",
       "3          93.994          -36.4      4.857       5191.0  0  \n",
       "4          93.994          -36.4      4.857       5191.0  0  \n",
       "\n",
       "[5 rows x 21 columns]"
      ]
     },
     "execution_count": 148,
     "metadata": {},
     "output_type": "execute_result"
    }
   ],
   "source": [
    "data.head()"
   ]
  },
  {
   "cell_type": "code",
   "execution_count": 149,
   "id": "30cd5410",
   "metadata": {
    "id": "30cd5410",
    "outputId": "509168aa-2140-4126-8fae-732295a135a3"
   },
   "outputs": [
    {
     "data": {
      "text/plain": [
       "(30363, 21)"
      ]
     },
     "execution_count": 149,
     "metadata": {},
     "output_type": "execute_result"
    }
   ],
   "source": [
    "data.shape  # Outliers are treated"
   ]
  },
  {
   "cell_type": "code",
   "execution_count": 150,
   "id": "02fd97e3",
   "metadata": {},
   "outputs": [
    {
     "data": {
      "text/plain": [
       "Index(['age', 'job', 'marital', 'education', 'default', 'housing', 'loan',\n",
       "       'contact', 'month', 'day_of_week', 'duration', 'campaign', 'pdays',\n",
       "       'previous', 'poutcome', 'emp.var.rate', 'cons.price.idx',\n",
       "       'cons.conf.idx', 'euribor3m', 'nr.employed', 'y'],\n",
       "      dtype='object')"
      ]
     },
     "execution_count": 150,
     "metadata": {},
     "output_type": "execute_result"
    }
   ],
   "source": [
    "data.columns  # fetch out all the column names present in the dataset"
   ]
  },
  {
   "cell_type": "code",
   "execution_count": 151,
   "id": "d4ae99cf",
   "metadata": {
    "id": "d4ae99cf"
   },
   "outputs": [],
   "source": [
    "col_list = list(data.columns) #Type casting"
   ]
  },
  {
   "cell_type": "code",
   "execution_count": 152,
   "id": "3a79adf5",
   "metadata": {},
   "outputs": [
    {
     "data": {
      "text/plain": [
       "['age',\n",
       " 'job',\n",
       " 'marital',\n",
       " 'education',\n",
       " 'default',\n",
       " 'housing',\n",
       " 'loan',\n",
       " 'contact',\n",
       " 'month',\n",
       " 'day_of_week',\n",
       " 'duration',\n",
       " 'campaign',\n",
       " 'pdays',\n",
       " 'previous',\n",
       " 'poutcome',\n",
       " 'emp.var.rate',\n",
       " 'cons.price.idx',\n",
       " 'cons.conf.idx',\n",
       " 'euribor3m',\n",
       " 'nr.employed',\n",
       " 'y']"
      ]
     },
     "execution_count": 152,
     "metadata": {},
     "output_type": "execute_result"
    }
   ],
   "source": [
    "col_list"
   ]
  },
  {
   "cell_type": "code",
   "execution_count": 153,
   "id": "1a4d7f14",
   "metadata": {
    "id": "1a4d7f14"
   },
   "outputs": [],
   "source": [
    "col_list.remove('y')"
   ]
  },
  {
   "cell_type": "code",
   "execution_count": 154,
   "id": "ebe7cce7",
   "metadata": {
    "colab": {
     "base_uri": "https://localhost:8080/"
    },
    "id": "ebe7cce7",
    "outputId": "f5271e3a-ad82-4e8e-c64f-e5215e3cc88f"
   },
   "outputs": [
    {
     "data": {
      "text/plain": [
       "['age',\n",
       " 'job',\n",
       " 'marital',\n",
       " 'education',\n",
       " 'default',\n",
       " 'housing',\n",
       " 'loan',\n",
       " 'contact',\n",
       " 'month',\n",
       " 'day_of_week',\n",
       " 'duration',\n",
       " 'campaign',\n",
       " 'pdays',\n",
       " 'previous',\n",
       " 'poutcome',\n",
       " 'emp.var.rate',\n",
       " 'cons.price.idx',\n",
       " 'cons.conf.idx',\n",
       " 'euribor3m',\n",
       " 'nr.employed']"
      ]
     },
     "execution_count": 154,
     "metadata": {},
     "output_type": "execute_result"
    }
   ],
   "source": [
    "col_list"
   ]
  },
  {
   "cell_type": "code",
   "execution_count": 155,
   "id": "f8EE7s1Fy1Uw",
   "metadata": {
    "colab": {
     "base_uri": "https://localhost:8080/"
    },
    "id": "f8EE7s1Fy1Uw",
    "outputId": "0ac18ce4-0d24-4af5-ec2e-9d828786b81a"
   },
   "outputs": [
    {
     "data": {
      "text/plain": [
       "31.0"
      ]
     },
     "execution_count": 155,
     "metadata": {},
     "output_type": "execute_result"
    }
   ],
   "source": [
    "data['age'].mode()[0]"
   ]
  },
  {
   "cell_type": "code",
   "execution_count": 156,
   "id": "92db0190",
   "metadata": {},
   "outputs": [],
   "source": [
    "#  1 1 2 2 3 3\n",
    "# 0    1\n",
    "# 1    2\n",
    "# 2    3"
   ]
  },
  {
   "cell_type": "code",
   "execution_count": 157,
   "id": "fc685060",
   "metadata": {
    "id": "fc685060"
   },
   "outputs": [],
   "source": [
    "for i in col_list:\n",
    "    if data[i].dtypes=='object':\n",
    "        #print('ob')\n",
    "        data[i] = data[i].fillna(data[i].mode()[0])\n",
    "    else:\n",
    "        #print('num')\n",
    "        data[i] = data[i].fillna(data[i].mean())\n",
    "# If the column is a numeric column --> Reolace the null values with mean, if outliers are treated, otherwise\n",
    "# replace with median"
   ]
  },
  {
   "cell_type": "code",
   "execution_count": 158,
   "id": "46721736",
   "metadata": {
    "colab": {
     "base_uri": "https://localhost:8080/"
    },
    "id": "46721736",
    "outputId": "45ccbcb8-bf98-412d-ff33-5a4f548015ef"
   },
   "outputs": [
    {
     "data": {
      "text/plain": [
       "age               0\n",
       "job               0\n",
       "marital           0\n",
       "education         0\n",
       "default           0\n",
       "housing           0\n",
       "loan              0\n",
       "contact           0\n",
       "month             0\n",
       "day_of_week       0\n",
       "duration          0\n",
       "campaign          0\n",
       "pdays             0\n",
       "previous          0\n",
       "poutcome          0\n",
       "emp.var.rate      0\n",
       "cons.price.idx    0\n",
       "cons.conf.idx     0\n",
       "euribor3m         0\n",
       "nr.employed       0\n",
       "y                 0\n",
       "dtype: int64"
      ]
     },
     "execution_count": 158,
     "metadata": {},
     "output_type": "execute_result"
    }
   ],
   "source": [
    "data.isna().sum()"
   ]
  },
  {
   "cell_type": "code",
   "execution_count": 159,
   "id": "c028662a",
   "metadata": {
    "id": "c028662a",
    "outputId": "eba110bc-2344-4bb5-a1df-20e4e5bbb965"
   },
   "outputs": [
    {
     "data": {
      "text/html": [
       "<div>\n",
       "<style scoped>\n",
       "    .dataframe tbody tr th:only-of-type {\n",
       "        vertical-align: middle;\n",
       "    }\n",
       "\n",
       "    .dataframe tbody tr th {\n",
       "        vertical-align: top;\n",
       "    }\n",
       "\n",
       "    .dataframe thead th {\n",
       "        text-align: right;\n",
       "    }\n",
       "</style>\n",
       "<table border=\"1\" class=\"dataframe\">\n",
       "  <thead>\n",
       "    <tr style=\"text-align: right;\">\n",
       "      <th></th>\n",
       "      <th>age</th>\n",
       "      <th>job</th>\n",
       "      <th>marital</th>\n",
       "      <th>education</th>\n",
       "      <th>default</th>\n",
       "      <th>housing</th>\n",
       "      <th>loan</th>\n",
       "      <th>contact</th>\n",
       "      <th>month</th>\n",
       "      <th>day_of_week</th>\n",
       "      <th>...</th>\n",
       "      <th>campaign</th>\n",
       "      <th>pdays</th>\n",
       "      <th>previous</th>\n",
       "      <th>poutcome</th>\n",
       "      <th>emp.var.rate</th>\n",
       "      <th>cons.price.idx</th>\n",
       "      <th>cons.conf.idx</th>\n",
       "      <th>euribor3m</th>\n",
       "      <th>nr.employed</th>\n",
       "      <th>y</th>\n",
       "    </tr>\n",
       "  </thead>\n",
       "  <tbody>\n",
       "    <tr>\n",
       "      <th>0</th>\n",
       "      <td>56.0</td>\n",
       "      <td>housemaid</td>\n",
       "      <td>married</td>\n",
       "      <td>basic.4y</td>\n",
       "      <td>no</td>\n",
       "      <td>no</td>\n",
       "      <td>no</td>\n",
       "      <td>telephone</td>\n",
       "      <td>may</td>\n",
       "      <td>mon</td>\n",
       "      <td>...</td>\n",
       "      <td>1.0</td>\n",
       "      <td>999.0</td>\n",
       "      <td>0.0</td>\n",
       "      <td>nonexistent</td>\n",
       "      <td>1.1</td>\n",
       "      <td>93.994</td>\n",
       "      <td>-36.4</td>\n",
       "      <td>4.857</td>\n",
       "      <td>5191.0</td>\n",
       "      <td>0</td>\n",
       "    </tr>\n",
       "    <tr>\n",
       "      <th>1</th>\n",
       "      <td>57.0</td>\n",
       "      <td>services</td>\n",
       "      <td>married</td>\n",
       "      <td>high.school</td>\n",
       "      <td>unknown</td>\n",
       "      <td>no</td>\n",
       "      <td>no</td>\n",
       "      <td>telephone</td>\n",
       "      <td>may</td>\n",
       "      <td>mon</td>\n",
       "      <td>...</td>\n",
       "      <td>1.0</td>\n",
       "      <td>999.0</td>\n",
       "      <td>0.0</td>\n",
       "      <td>nonexistent</td>\n",
       "      <td>1.1</td>\n",
       "      <td>93.994</td>\n",
       "      <td>-36.4</td>\n",
       "      <td>4.857</td>\n",
       "      <td>5191.0</td>\n",
       "      <td>0</td>\n",
       "    </tr>\n",
       "    <tr>\n",
       "      <th>2</th>\n",
       "      <td>37.0</td>\n",
       "      <td>services</td>\n",
       "      <td>married</td>\n",
       "      <td>high.school</td>\n",
       "      <td>no</td>\n",
       "      <td>yes</td>\n",
       "      <td>no</td>\n",
       "      <td>telephone</td>\n",
       "      <td>may</td>\n",
       "      <td>mon</td>\n",
       "      <td>...</td>\n",
       "      <td>1.0</td>\n",
       "      <td>999.0</td>\n",
       "      <td>0.0</td>\n",
       "      <td>nonexistent</td>\n",
       "      <td>1.1</td>\n",
       "      <td>93.994</td>\n",
       "      <td>-36.4</td>\n",
       "      <td>4.857</td>\n",
       "      <td>5191.0</td>\n",
       "      <td>0</td>\n",
       "    </tr>\n",
       "    <tr>\n",
       "      <th>3</th>\n",
       "      <td>40.0</td>\n",
       "      <td>admin.</td>\n",
       "      <td>married</td>\n",
       "      <td>basic.6y</td>\n",
       "      <td>no</td>\n",
       "      <td>no</td>\n",
       "      <td>no</td>\n",
       "      <td>telephone</td>\n",
       "      <td>may</td>\n",
       "      <td>mon</td>\n",
       "      <td>...</td>\n",
       "      <td>1.0</td>\n",
       "      <td>999.0</td>\n",
       "      <td>0.0</td>\n",
       "      <td>nonexistent</td>\n",
       "      <td>1.1</td>\n",
       "      <td>93.994</td>\n",
       "      <td>-36.4</td>\n",
       "      <td>4.857</td>\n",
       "      <td>5191.0</td>\n",
       "      <td>0</td>\n",
       "    </tr>\n",
       "    <tr>\n",
       "      <th>4</th>\n",
       "      <td>56.0</td>\n",
       "      <td>services</td>\n",
       "      <td>married</td>\n",
       "      <td>high.school</td>\n",
       "      <td>no</td>\n",
       "      <td>no</td>\n",
       "      <td>yes</td>\n",
       "      <td>telephone</td>\n",
       "      <td>may</td>\n",
       "      <td>mon</td>\n",
       "      <td>...</td>\n",
       "      <td>1.0</td>\n",
       "      <td>999.0</td>\n",
       "      <td>0.0</td>\n",
       "      <td>nonexistent</td>\n",
       "      <td>1.1</td>\n",
       "      <td>93.994</td>\n",
       "      <td>-36.4</td>\n",
       "      <td>4.857</td>\n",
       "      <td>5191.0</td>\n",
       "      <td>0</td>\n",
       "    </tr>\n",
       "  </tbody>\n",
       "</table>\n",
       "<p>5 rows × 21 columns</p>\n",
       "</div>"
      ],
      "text/plain": [
       "    age        job  marital    education  default housing loan    contact  \\\n",
       "0  56.0  housemaid  married     basic.4y       no      no   no  telephone   \n",
       "1  57.0   services  married  high.school  unknown      no   no  telephone   \n",
       "2  37.0   services  married  high.school       no     yes   no  telephone   \n",
       "3  40.0     admin.  married     basic.6y       no      no   no  telephone   \n",
       "4  56.0   services  married  high.school       no      no  yes  telephone   \n",
       "\n",
       "  month day_of_week  ...  campaign  pdays  previous     poutcome emp.var.rate  \\\n",
       "0   may         mon  ...       1.0  999.0       0.0  nonexistent          1.1   \n",
       "1   may         mon  ...       1.0  999.0       0.0  nonexistent          1.1   \n",
       "2   may         mon  ...       1.0  999.0       0.0  nonexistent          1.1   \n",
       "3   may         mon  ...       1.0  999.0       0.0  nonexistent          1.1   \n",
       "4   may         mon  ...       1.0  999.0       0.0  nonexistent          1.1   \n",
       "\n",
       "   cons.price.idx  cons.conf.idx  euribor3m  nr.employed  y  \n",
       "0          93.994          -36.4      4.857       5191.0  0  \n",
       "1          93.994          -36.4      4.857       5191.0  0  \n",
       "2          93.994          -36.4      4.857       5191.0  0  \n",
       "3          93.994          -36.4      4.857       5191.0  0  \n",
       "4          93.994          -36.4      4.857       5191.0  0  \n",
       "\n",
       "[5 rows x 21 columns]"
      ]
     },
     "execution_count": 159,
     "metadata": {},
     "output_type": "execute_result"
    }
   ],
   "source": [
    "data.head()"
   ]
  },
  {
   "cell_type": "code",
   "execution_count": 160,
   "id": "bef911f4",
   "metadata": {},
   "outputs": [],
   "source": [
    "# Binning --> Grouping different value counts"
   ]
  },
  {
   "cell_type": "code",
   "execution_count": 161,
   "id": "b7f8eb1f",
   "metadata": {},
   "outputs": [
    {
     "data": {
      "text/plain": [
       "(30363,)"
      ]
     },
     "execution_count": 161,
     "metadata": {},
     "output_type": "execute_result"
    }
   ],
   "source": [
    "data['age'].shape"
   ]
  },
  {
   "cell_type": "code",
   "execution_count": 162,
   "id": "97556656",
   "metadata": {},
   "outputs": [
    {
     "data": {
      "text/html": [
       "<div>\n",
       "<style scoped>\n",
       "    .dataframe tbody tr th:only-of-type {\n",
       "        vertical-align: middle;\n",
       "    }\n",
       "\n",
       "    .dataframe tbody tr th {\n",
       "        vertical-align: top;\n",
       "    }\n",
       "\n",
       "    .dataframe thead th {\n",
       "        text-align: right;\n",
       "    }\n",
       "</style>\n",
       "<table border=\"1\" class=\"dataframe\">\n",
       "  <thead>\n",
       "    <tr style=\"text-align: right;\">\n",
       "      <th></th>\n",
       "      <th>age</th>\n",
       "      <th>duration</th>\n",
       "      <th>campaign</th>\n",
       "      <th>pdays</th>\n",
       "      <th>previous</th>\n",
       "      <th>emp.var.rate</th>\n",
       "      <th>cons.price.idx</th>\n",
       "      <th>cons.conf.idx</th>\n",
       "      <th>euribor3m</th>\n",
       "      <th>nr.employed</th>\n",
       "    </tr>\n",
       "  </thead>\n",
       "  <tbody>\n",
       "    <tr>\n",
       "      <th>count</th>\n",
       "      <td>30363.000000</td>\n",
       "      <td>30363.000000</td>\n",
       "      <td>30363.000000</td>\n",
       "      <td>30363.0</td>\n",
       "      <td>30363.0</td>\n",
       "      <td>30363.000000</td>\n",
       "      <td>30363.000000</td>\n",
       "      <td>30363.000000</td>\n",
       "      <td>30363.000000</td>\n",
       "      <td>30363.000000</td>\n",
       "    </tr>\n",
       "    <tr>\n",
       "      <th>mean</th>\n",
       "      <td>39.671080</td>\n",
       "      <td>204.932576</td>\n",
       "      <td>2.081555</td>\n",
       "      <td>999.0</td>\n",
       "      <td>0.0</td>\n",
       "      <td>0.388261</td>\n",
       "      <td>93.646458</td>\n",
       "      <td>-40.410119</td>\n",
       "      <td>3.970239</td>\n",
       "      <td>5181.932372</td>\n",
       "    </tr>\n",
       "    <tr>\n",
       "      <th>std</th>\n",
       "      <td>9.479865</td>\n",
       "      <td>140.207339</td>\n",
       "      <td>1.302636</td>\n",
       "      <td>0.0</td>\n",
       "      <td>0.0</td>\n",
       "      <td>1.418244</td>\n",
       "      <td>0.538597</td>\n",
       "      <td>4.164771</td>\n",
       "      <td>1.556246</td>\n",
       "      <td>60.636502</td>\n",
       "    </tr>\n",
       "    <tr>\n",
       "      <th>min</th>\n",
       "      <td>18.000000</td>\n",
       "      <td>0.000000</td>\n",
       "      <td>1.000000</td>\n",
       "      <td>999.0</td>\n",
       "      <td>0.0</td>\n",
       "      <td>-3.400000</td>\n",
       "      <td>92.201000</td>\n",
       "      <td>-50.800000</td>\n",
       "      <td>0.634000</td>\n",
       "      <td>4963.600000</td>\n",
       "    </tr>\n",
       "    <tr>\n",
       "      <th>25%</th>\n",
       "      <td>32.000000</td>\n",
       "      <td>100.000000</td>\n",
       "      <td>1.000000</td>\n",
       "      <td>999.0</td>\n",
       "      <td>0.0</td>\n",
       "      <td>-0.100000</td>\n",
       "      <td>93.200000</td>\n",
       "      <td>-42.700000</td>\n",
       "      <td>4.021000</td>\n",
       "      <td>5191.000000</td>\n",
       "    </tr>\n",
       "    <tr>\n",
       "      <th>50%</th>\n",
       "      <td>38.000000</td>\n",
       "      <td>167.000000</td>\n",
       "      <td>2.000000</td>\n",
       "      <td>999.0</td>\n",
       "      <td>0.0</td>\n",
       "      <td>1.100000</td>\n",
       "      <td>93.918000</td>\n",
       "      <td>-41.800000</td>\n",
       "      <td>4.859000</td>\n",
       "      <td>5195.800000</td>\n",
       "    </tr>\n",
       "    <tr>\n",
       "      <th>75%</th>\n",
       "      <td>47.000000</td>\n",
       "      <td>277.000000</td>\n",
       "      <td>3.000000</td>\n",
       "      <td>999.0</td>\n",
       "      <td>0.0</td>\n",
       "      <td>1.400000</td>\n",
       "      <td>93.994000</td>\n",
       "      <td>-36.400000</td>\n",
       "      <td>4.962000</td>\n",
       "      <td>5228.100000</td>\n",
       "    </tr>\n",
       "    <tr>\n",
       "      <th>max</th>\n",
       "      <td>69.000000</td>\n",
       "      <td>644.000000</td>\n",
       "      <td>6.000000</td>\n",
       "      <td>999.0</td>\n",
       "      <td>0.0</td>\n",
       "      <td>1.400000</td>\n",
       "      <td>94.767000</td>\n",
       "      <td>-29.800000</td>\n",
       "      <td>5.045000</td>\n",
       "      <td>5228.100000</td>\n",
       "    </tr>\n",
       "  </tbody>\n",
       "</table>\n",
       "</div>"
      ],
      "text/plain": [
       "                age      duration      campaign    pdays  previous  \\\n",
       "count  30363.000000  30363.000000  30363.000000  30363.0   30363.0   \n",
       "mean      39.671080    204.932576      2.081555    999.0       0.0   \n",
       "std        9.479865    140.207339      1.302636      0.0       0.0   \n",
       "min       18.000000      0.000000      1.000000    999.0       0.0   \n",
       "25%       32.000000    100.000000      1.000000    999.0       0.0   \n",
       "50%       38.000000    167.000000      2.000000    999.0       0.0   \n",
       "75%       47.000000    277.000000      3.000000    999.0       0.0   \n",
       "max       69.000000    644.000000      6.000000    999.0       0.0   \n",
       "\n",
       "       emp.var.rate  cons.price.idx  cons.conf.idx     euribor3m   nr.employed  \n",
       "count  30363.000000    30363.000000   30363.000000  30363.000000  30363.000000  \n",
       "mean       0.388261       93.646458     -40.410119      3.970239   5181.932372  \n",
       "std        1.418244        0.538597       4.164771      1.556246     60.636502  \n",
       "min       -3.400000       92.201000     -50.800000      0.634000   4963.600000  \n",
       "25%       -0.100000       93.200000     -42.700000      4.021000   5191.000000  \n",
       "50%        1.100000       93.918000     -41.800000      4.859000   5195.800000  \n",
       "75%        1.400000       93.994000     -36.400000      4.962000   5228.100000  \n",
       "max        1.400000       94.767000     -29.800000      5.045000   5228.100000  "
      ]
     },
     "execution_count": 162,
     "metadata": {},
     "output_type": "execute_result"
    }
   ],
   "source": [
    "data.describe()"
   ]
  },
  {
   "cell_type": "code",
   "execution_count": 163,
   "id": "a201a0ae",
   "metadata": {},
   "outputs": [
    {
     "data": {
      "text/plain": [
       "31.00000    1477\n",
       "32.00000    1380\n",
       "33.00000    1364\n",
       "36.00000    1333\n",
       "35.00000    1306\n",
       "34.00000    1274\n",
       "30.00000    1263\n",
       "39.00000    1101\n",
       "37.00000    1080\n",
       "38.00000    1071\n",
       "29.00000    1040\n",
       "41.00000     992\n",
       "40.00000     898\n",
       "42.00000     888\n",
       "45.00000     845\n",
       "43.00000     799\n",
       "46.00000     794\n",
       "44.00000     786\n",
       "28.00000     745\n",
       "48.00000     735\n",
       "47.00000     721\n",
       "50.00000     650\n",
       "49.00000     645\n",
       "27.00000     612\n",
       "51.00000     590\n",
       "52.00000     589\n",
       "53.00000     552\n",
       "56.00000     540\n",
       "54.00000     511\n",
       "26.00000     503\n",
       "57.00000     497\n",
       "55.00000     497\n",
       "58.00000     437\n",
       "25.00000     436\n",
       "59.00000     338\n",
       "24.00000     301\n",
       "60.00000     194\n",
       "23.00000     139\n",
       "22.00000      90\n",
       "21.00000      67\n",
       "61.00000      39\n",
       "20.00000      38\n",
       "64.00000      30\n",
       "66.00000      26\n",
       "62.00000      26\n",
       "19.00000      24\n",
       "63.00000      24\n",
       "69.00000      18\n",
       "65.00000      17\n",
       "18.00000      14\n",
       "68.00000      12\n",
       "67.00000      12\n",
       "39.67108       3\n",
       "Name: age, dtype: int64"
      ]
     },
     "execution_count": 163,
     "metadata": {},
     "output_type": "execute_result"
    }
   ],
   "source": [
    "data['age'].value_counts()"
   ]
  },
  {
   "cell_type": "code",
   "execution_count": 164,
   "id": "ed0b344b",
   "metadata": {},
   "outputs": [
    {
     "data": {
      "text/plain": [
       "18.0"
      ]
     },
     "execution_count": 164,
     "metadata": {},
     "output_type": "execute_result"
    }
   ],
   "source": [
    "data['age'].min()"
   ]
  },
  {
   "cell_type": "code",
   "execution_count": 165,
   "id": "40f0f763",
   "metadata": {},
   "outputs": [
    {
     "data": {
      "text/plain": [
       "69.0"
      ]
     },
     "execution_count": 165,
     "metadata": {},
     "output_type": "execute_result"
    }
   ],
   "source": [
    "data['age'].max()"
   ]
  },
  {
   "cell_type": "code",
   "execution_count": 166,
   "id": "c729a6eb",
   "metadata": {
    "id": "c729a6eb"
   },
   "outputs": [],
   "source": [
    "##Binning of Age##\n",
    "# 10 15 25 50 75 \n",
    "# 1-10-->  1,2,3,4,5,6,7,8,9\n",
    "# 10-20->10, 15\n",
    "# 20-30-> 25\n",
    "# 50-80-> 50,75\n",
    "\n",
    "# 10-20 10-20  20-30  50-80\n",
    "#extra code\n",
    "# data--> cat\n",
    "# 10-25  25-50  50-100\n",
    "# 10-25 --> 10 to 24\n",
    "# 50-100 --> 50-99\n",
    "bins = [10, 25, 50, 100]\n",
    "data['age'] = pd.cut(data['age'], bins) # cut()--> for only binning purposes\n",
    "data['age'] = data.age.astype(str)\n",
    "# '10-25'  --> Label Encoding --> 0\n",
    "# '25-50'  --> Label Encoding --> 1\n",
    "# '50-100' --> Label Encoding --> 2"
   ]
  },
  {
   "cell_type": "code",
   "execution_count": 167,
   "id": "bf87b761",
   "metadata": {
    "id": "bf87b761"
   },
   "outputs": [
    {
     "data": {
      "text/plain": [
       "'12'"
      ]
     },
     "execution_count": 167,
     "metadata": {},
     "output_type": "execute_result"
    }
   ],
   "source": [
    "a = 12\n",
    "a1 = str(a)\n",
    "a1"
   ]
  },
  {
   "cell_type": "code",
   "execution_count": 168,
   "id": "180e58c4",
   "metadata": {},
   "outputs": [
    {
     "ename": "ValueError",
     "evalue": "invalid literal for int() with base 10: 'abc'",
     "output_type": "error",
     "traceback": [
      "\u001b[1;31m---------------------------------------------------------------------------\u001b[0m",
      "\u001b[1;31mValueError\u001b[0m                                Traceback (most recent call last)",
      "\u001b[1;32m~\\AppData\\Local\\Temp\\ipykernel_7540\\256579070.py\u001b[0m in \u001b[0;36m<module>\u001b[1;34m\u001b[0m\n\u001b[0;32m      1\u001b[0m \u001b[0ma2\u001b[0m \u001b[1;33m=\u001b[0m \u001b[1;34m'abc'\u001b[0m\u001b[1;33m\u001b[0m\u001b[1;33m\u001b[0m\u001b[0m\n\u001b[1;32m----> 2\u001b[1;33m \u001b[0ma3\u001b[0m \u001b[1;33m=\u001b[0m \u001b[0mint\u001b[0m\u001b[1;33m(\u001b[0m\u001b[0ma2\u001b[0m\u001b[1;33m)\u001b[0m\u001b[1;33m\u001b[0m\u001b[1;33m\u001b[0m\u001b[0m\n\u001b[0m",
      "\u001b[1;31mValueError\u001b[0m: invalid literal for int() with base 10: 'abc'"
     ]
    }
   ],
   "source": [
    "a2 = 'abc'\n",
    "a3 = int(a2)"
   ]
  },
  {
   "cell_type": "code",
   "execution_count": 169,
   "id": "be4e4a67",
   "metadata": {
    "id": "be4e4a67",
    "outputId": "7c40ea9e-ecda-4a54-e36d-2ea6d47d6503"
   },
   "outputs": [
    {
     "data": {
      "text/plain": [
       "array(['(50, 100]', '(25, 50]', '(10, 25]'], dtype=object)"
      ]
     },
     "execution_count": 169,
     "metadata": {},
     "output_type": "execute_result"
    }
   ],
   "source": [
    "data['age'].unique() # all the unique values"
   ]
  },
  {
   "cell_type": "code",
   "execution_count": 170,
   "id": "fe9fb456",
   "metadata": {
    "id": "fe9fb456",
    "outputId": "8e8319f2-564c-471c-efeb-b8951af68116"
   },
   "outputs": [
    {
     "data": {
      "text/html": [
       "<div>\n",
       "<style scoped>\n",
       "    .dataframe tbody tr th:only-of-type {\n",
       "        vertical-align: middle;\n",
       "    }\n",
       "\n",
       "    .dataframe tbody tr th {\n",
       "        vertical-align: top;\n",
       "    }\n",
       "\n",
       "    .dataframe thead th {\n",
       "        text-align: right;\n",
       "    }\n",
       "</style>\n",
       "<table border=\"1\" class=\"dataframe\">\n",
       "  <thead>\n",
       "    <tr style=\"text-align: right;\">\n",
       "      <th></th>\n",
       "      <th>age</th>\n",
       "      <th>job</th>\n",
       "      <th>marital</th>\n",
       "      <th>education</th>\n",
       "      <th>default</th>\n",
       "      <th>housing</th>\n",
       "      <th>loan</th>\n",
       "      <th>contact</th>\n",
       "      <th>month</th>\n",
       "      <th>day_of_week</th>\n",
       "      <th>...</th>\n",
       "      <th>campaign</th>\n",
       "      <th>pdays</th>\n",
       "      <th>previous</th>\n",
       "      <th>poutcome</th>\n",
       "      <th>emp.var.rate</th>\n",
       "      <th>cons.price.idx</th>\n",
       "      <th>cons.conf.idx</th>\n",
       "      <th>euribor3m</th>\n",
       "      <th>nr.employed</th>\n",
       "      <th>y</th>\n",
       "    </tr>\n",
       "  </thead>\n",
       "  <tbody>\n",
       "    <tr>\n",
       "      <th>0</th>\n",
       "      <td>(50, 100]</td>\n",
       "      <td>housemaid</td>\n",
       "      <td>married</td>\n",
       "      <td>basic.4y</td>\n",
       "      <td>no</td>\n",
       "      <td>no</td>\n",
       "      <td>no</td>\n",
       "      <td>telephone</td>\n",
       "      <td>may</td>\n",
       "      <td>mon</td>\n",
       "      <td>...</td>\n",
       "      <td>1.0</td>\n",
       "      <td>999.0</td>\n",
       "      <td>0.0</td>\n",
       "      <td>nonexistent</td>\n",
       "      <td>1.1</td>\n",
       "      <td>93.994</td>\n",
       "      <td>-36.4</td>\n",
       "      <td>4.857</td>\n",
       "      <td>5191.0</td>\n",
       "      <td>0</td>\n",
       "    </tr>\n",
       "    <tr>\n",
       "      <th>1</th>\n",
       "      <td>(50, 100]</td>\n",
       "      <td>services</td>\n",
       "      <td>married</td>\n",
       "      <td>high.school</td>\n",
       "      <td>unknown</td>\n",
       "      <td>no</td>\n",
       "      <td>no</td>\n",
       "      <td>telephone</td>\n",
       "      <td>may</td>\n",
       "      <td>mon</td>\n",
       "      <td>...</td>\n",
       "      <td>1.0</td>\n",
       "      <td>999.0</td>\n",
       "      <td>0.0</td>\n",
       "      <td>nonexistent</td>\n",
       "      <td>1.1</td>\n",
       "      <td>93.994</td>\n",
       "      <td>-36.4</td>\n",
       "      <td>4.857</td>\n",
       "      <td>5191.0</td>\n",
       "      <td>0</td>\n",
       "    </tr>\n",
       "    <tr>\n",
       "      <th>2</th>\n",
       "      <td>(25, 50]</td>\n",
       "      <td>services</td>\n",
       "      <td>married</td>\n",
       "      <td>high.school</td>\n",
       "      <td>no</td>\n",
       "      <td>yes</td>\n",
       "      <td>no</td>\n",
       "      <td>telephone</td>\n",
       "      <td>may</td>\n",
       "      <td>mon</td>\n",
       "      <td>...</td>\n",
       "      <td>1.0</td>\n",
       "      <td>999.0</td>\n",
       "      <td>0.0</td>\n",
       "      <td>nonexistent</td>\n",
       "      <td>1.1</td>\n",
       "      <td>93.994</td>\n",
       "      <td>-36.4</td>\n",
       "      <td>4.857</td>\n",
       "      <td>5191.0</td>\n",
       "      <td>0</td>\n",
       "    </tr>\n",
       "    <tr>\n",
       "      <th>3</th>\n",
       "      <td>(25, 50]</td>\n",
       "      <td>admin.</td>\n",
       "      <td>married</td>\n",
       "      <td>basic.6y</td>\n",
       "      <td>no</td>\n",
       "      <td>no</td>\n",
       "      <td>no</td>\n",
       "      <td>telephone</td>\n",
       "      <td>may</td>\n",
       "      <td>mon</td>\n",
       "      <td>...</td>\n",
       "      <td>1.0</td>\n",
       "      <td>999.0</td>\n",
       "      <td>0.0</td>\n",
       "      <td>nonexistent</td>\n",
       "      <td>1.1</td>\n",
       "      <td>93.994</td>\n",
       "      <td>-36.4</td>\n",
       "      <td>4.857</td>\n",
       "      <td>5191.0</td>\n",
       "      <td>0</td>\n",
       "    </tr>\n",
       "    <tr>\n",
       "      <th>4</th>\n",
       "      <td>(50, 100]</td>\n",
       "      <td>services</td>\n",
       "      <td>married</td>\n",
       "      <td>high.school</td>\n",
       "      <td>no</td>\n",
       "      <td>no</td>\n",
       "      <td>yes</td>\n",
       "      <td>telephone</td>\n",
       "      <td>may</td>\n",
       "      <td>mon</td>\n",
       "      <td>...</td>\n",
       "      <td>1.0</td>\n",
       "      <td>999.0</td>\n",
       "      <td>0.0</td>\n",
       "      <td>nonexistent</td>\n",
       "      <td>1.1</td>\n",
       "      <td>93.994</td>\n",
       "      <td>-36.4</td>\n",
       "      <td>4.857</td>\n",
       "      <td>5191.0</td>\n",
       "      <td>0</td>\n",
       "    </tr>\n",
       "    <tr>\n",
       "      <th>5</th>\n",
       "      <td>(25, 50]</td>\n",
       "      <td>services</td>\n",
       "      <td>married</td>\n",
       "      <td>basic.9y</td>\n",
       "      <td>unknown</td>\n",
       "      <td>no</td>\n",
       "      <td>no</td>\n",
       "      <td>telephone</td>\n",
       "      <td>may</td>\n",
       "      <td>mon</td>\n",
       "      <td>...</td>\n",
       "      <td>1.0</td>\n",
       "      <td>999.0</td>\n",
       "      <td>0.0</td>\n",
       "      <td>nonexistent</td>\n",
       "      <td>1.1</td>\n",
       "      <td>93.994</td>\n",
       "      <td>-36.4</td>\n",
       "      <td>4.857</td>\n",
       "      <td>5191.0</td>\n",
       "      <td>0</td>\n",
       "    </tr>\n",
       "    <tr>\n",
       "      <th>6</th>\n",
       "      <td>(50, 100]</td>\n",
       "      <td>admin.</td>\n",
       "      <td>married</td>\n",
       "      <td>professional.course</td>\n",
       "      <td>no</td>\n",
       "      <td>no</td>\n",
       "      <td>no</td>\n",
       "      <td>telephone</td>\n",
       "      <td>may</td>\n",
       "      <td>mon</td>\n",
       "      <td>...</td>\n",
       "      <td>1.0</td>\n",
       "      <td>999.0</td>\n",
       "      <td>0.0</td>\n",
       "      <td>nonexistent</td>\n",
       "      <td>1.1</td>\n",
       "      <td>93.994</td>\n",
       "      <td>-36.4</td>\n",
       "      <td>4.857</td>\n",
       "      <td>5191.0</td>\n",
       "      <td>0</td>\n",
       "    </tr>\n",
       "    <tr>\n",
       "      <th>7</th>\n",
       "      <td>(25, 50]</td>\n",
       "      <td>blue-collar</td>\n",
       "      <td>married</td>\n",
       "      <td>unknown</td>\n",
       "      <td>unknown</td>\n",
       "      <td>no</td>\n",
       "      <td>no</td>\n",
       "      <td>telephone</td>\n",
       "      <td>may</td>\n",
       "      <td>mon</td>\n",
       "      <td>...</td>\n",
       "      <td>1.0</td>\n",
       "      <td>999.0</td>\n",
       "      <td>0.0</td>\n",
       "      <td>nonexistent</td>\n",
       "      <td>1.1</td>\n",
       "      <td>93.994</td>\n",
       "      <td>-36.4</td>\n",
       "      <td>4.857</td>\n",
       "      <td>5191.0</td>\n",
       "      <td>0</td>\n",
       "    </tr>\n",
       "    <tr>\n",
       "      <th>8</th>\n",
       "      <td>(10, 25]</td>\n",
       "      <td>technician</td>\n",
       "      <td>single</td>\n",
       "      <td>professional.course</td>\n",
       "      <td>no</td>\n",
       "      <td>yes</td>\n",
       "      <td>no</td>\n",
       "      <td>telephone</td>\n",
       "      <td>may</td>\n",
       "      <td>mon</td>\n",
       "      <td>...</td>\n",
       "      <td>1.0</td>\n",
       "      <td>999.0</td>\n",
       "      <td>0.0</td>\n",
       "      <td>nonexistent</td>\n",
       "      <td>1.1</td>\n",
       "      <td>93.994</td>\n",
       "      <td>-36.4</td>\n",
       "      <td>4.857</td>\n",
       "      <td>5191.0</td>\n",
       "      <td>0</td>\n",
       "    </tr>\n",
       "    <tr>\n",
       "      <th>9</th>\n",
       "      <td>(10, 25]</td>\n",
       "      <td>services</td>\n",
       "      <td>single</td>\n",
       "      <td>high.school</td>\n",
       "      <td>no</td>\n",
       "      <td>yes</td>\n",
       "      <td>no</td>\n",
       "      <td>telephone</td>\n",
       "      <td>may</td>\n",
       "      <td>mon</td>\n",
       "      <td>...</td>\n",
       "      <td>1.0</td>\n",
       "      <td>999.0</td>\n",
       "      <td>0.0</td>\n",
       "      <td>nonexistent</td>\n",
       "      <td>1.1</td>\n",
       "      <td>93.994</td>\n",
       "      <td>-36.4</td>\n",
       "      <td>4.857</td>\n",
       "      <td>5191.0</td>\n",
       "      <td>0</td>\n",
       "    </tr>\n",
       "  </tbody>\n",
       "</table>\n",
       "<p>10 rows × 21 columns</p>\n",
       "</div>"
      ],
      "text/plain": [
       "         age          job  marital            education  default housing loan  \\\n",
       "0  (50, 100]    housemaid  married             basic.4y       no      no   no   \n",
       "1  (50, 100]     services  married          high.school  unknown      no   no   \n",
       "2   (25, 50]     services  married          high.school       no     yes   no   \n",
       "3   (25, 50]       admin.  married             basic.6y       no      no   no   \n",
       "4  (50, 100]     services  married          high.school       no      no  yes   \n",
       "5   (25, 50]     services  married             basic.9y  unknown      no   no   \n",
       "6  (50, 100]       admin.  married  professional.course       no      no   no   \n",
       "7   (25, 50]  blue-collar  married              unknown  unknown      no   no   \n",
       "8   (10, 25]   technician   single  professional.course       no     yes   no   \n",
       "9   (10, 25]     services   single          high.school       no     yes   no   \n",
       "\n",
       "     contact month day_of_week  ...  campaign  pdays  previous     poutcome  \\\n",
       "0  telephone   may         mon  ...       1.0  999.0       0.0  nonexistent   \n",
       "1  telephone   may         mon  ...       1.0  999.0       0.0  nonexistent   \n",
       "2  telephone   may         mon  ...       1.0  999.0       0.0  nonexistent   \n",
       "3  telephone   may         mon  ...       1.0  999.0       0.0  nonexistent   \n",
       "4  telephone   may         mon  ...       1.0  999.0       0.0  nonexistent   \n",
       "5  telephone   may         mon  ...       1.0  999.0       0.0  nonexistent   \n",
       "6  telephone   may         mon  ...       1.0  999.0       0.0  nonexistent   \n",
       "7  telephone   may         mon  ...       1.0  999.0       0.0  nonexistent   \n",
       "8  telephone   may         mon  ...       1.0  999.0       0.0  nonexistent   \n",
       "9  telephone   may         mon  ...       1.0  999.0       0.0  nonexistent   \n",
       "\n",
       "  emp.var.rate  cons.price.idx  cons.conf.idx  euribor3m  nr.employed  y  \n",
       "0          1.1          93.994          -36.4      4.857       5191.0  0  \n",
       "1          1.1          93.994          -36.4      4.857       5191.0  0  \n",
       "2          1.1          93.994          -36.4      4.857       5191.0  0  \n",
       "3          1.1          93.994          -36.4      4.857       5191.0  0  \n",
       "4          1.1          93.994          -36.4      4.857       5191.0  0  \n",
       "5          1.1          93.994          -36.4      4.857       5191.0  0  \n",
       "6          1.1          93.994          -36.4      4.857       5191.0  0  \n",
       "7          1.1          93.994          -36.4      4.857       5191.0  0  \n",
       "8          1.1          93.994          -36.4      4.857       5191.0  0  \n",
       "9          1.1          93.994          -36.4      4.857       5191.0  0  \n",
       "\n",
       "[10 rows x 21 columns]"
      ]
     },
     "execution_count": 170,
     "metadata": {},
     "output_type": "execute_result"
    }
   ],
   "source": [
    "data.head(10)"
   ]
  },
  {
   "cell_type": "code",
   "execution_count": 171,
   "id": "44ab47f9",
   "metadata": {
    "colab": {
     "base_uri": "https://localhost:8080/"
    },
    "id": "44ab47f9",
    "outputId": "c06009e9-9da7-4396-d59c-d00e002d9bcf"
   },
   "outputs": [
    {
     "data": {
      "text/plain": [
       "False"
      ]
     },
     "execution_count": 171,
     "metadata": {},
     "output_type": "execute_result"
    }
   ],
   "source": [
    "a=10\n",
    "b=10\n",
    "a!=b\n"
   ]
  },
  {
   "cell_type": "code",
   "execution_count": null,
   "id": "f5a4c6a9",
   "metadata": {},
   "outputs": [],
   "source": []
  },
  {
   "cell_type": "code",
   "execution_count": null,
   "id": "0d341c67",
   "metadata": {},
   "outputs": [],
   "source": []
  },
  {
   "cell_type": "code",
   "execution_count": 172,
   "id": "764fb911",
   "metadata": {},
   "outputs": [],
   "source": [
    "# Label encoding --> The object data is converted into numeric data\n",
    "# the conversion values will be according to alphabetical order\n",
    "# job --> 2, admin --> 0 , banker --> 1\n",
    "# age \n",
    "# 10-25,  25-50,  50-100\n",
    "#  0        1        2"
   ]
  },
  {
   "cell_type": "code",
   "execution_count": 173,
   "id": "721d0cf2",
   "metadata": {
    "id": "721d0cf2"
   },
   "outputs": [],
   "source": [
    "col_list = []\n",
    "for col in data.columns:\n",
    "    if ((data[col].dtype == 'object') & (col != 'y') ):\n",
    "        col_list.append(col)"
   ]
  },
  {
   "cell_type": "code",
   "execution_count": 174,
   "id": "cfabdd7b",
   "metadata": {
    "id": "cfabdd7b",
    "outputId": "cecb9620-f9b2-4977-ae3e-743df98c25f2"
   },
   "outputs": [
    {
     "data": {
      "text/plain": [
       "['age',\n",
       " 'job',\n",
       " 'marital',\n",
       " 'education',\n",
       " 'default',\n",
       " 'housing',\n",
       " 'loan',\n",
       " 'contact',\n",
       " 'month',\n",
       " 'day_of_week',\n",
       " 'poutcome']"
      ]
     },
     "execution_count": 174,
     "metadata": {},
     "output_type": "execute_result"
    }
   ],
   "source": [
    "col_list"
   ]
  },
  {
   "cell_type": "code",
   "execution_count": null,
   "id": "745SHcGg2YKR",
   "metadata": {
    "id": "745SHcGg2YKR"
   },
   "outputs": [],
   "source": []
  },
  {
   "cell_type": "code",
   "execution_count": 175,
   "id": "0a47d2a2",
   "metadata": {
    "id": "0a47d2a2",
    "outputId": "a360a589-278d-46d7-a5f2-08538d0e835a"
   },
   "outputs": [
    {
     "data": {
      "text/html": [
       "<div>\n",
       "<style scoped>\n",
       "    .dataframe tbody tr th:only-of-type {\n",
       "        vertical-align: middle;\n",
       "    }\n",
       "\n",
       "    .dataframe tbody tr th {\n",
       "        vertical-align: top;\n",
       "    }\n",
       "\n",
       "    .dataframe thead th {\n",
       "        text-align: right;\n",
       "    }\n",
       "</style>\n",
       "<table border=\"1\" class=\"dataframe\">\n",
       "  <thead>\n",
       "    <tr style=\"text-align: right;\">\n",
       "      <th></th>\n",
       "      <th>age</th>\n",
       "      <th>job</th>\n",
       "      <th>marital</th>\n",
       "      <th>education</th>\n",
       "      <th>default</th>\n",
       "      <th>housing</th>\n",
       "      <th>loan</th>\n",
       "      <th>contact</th>\n",
       "      <th>month</th>\n",
       "      <th>day_of_week</th>\n",
       "      <th>...</th>\n",
       "      <th>campaign</th>\n",
       "      <th>pdays</th>\n",
       "      <th>previous</th>\n",
       "      <th>poutcome</th>\n",
       "      <th>emp.var.rate</th>\n",
       "      <th>cons.price.idx</th>\n",
       "      <th>cons.conf.idx</th>\n",
       "      <th>euribor3m</th>\n",
       "      <th>nr.employed</th>\n",
       "      <th>y</th>\n",
       "    </tr>\n",
       "  </thead>\n",
       "  <tbody>\n",
       "    <tr>\n",
       "      <th>0</th>\n",
       "      <td>(50, 100]</td>\n",
       "      <td>housemaid</td>\n",
       "      <td>married</td>\n",
       "      <td>basic.4y</td>\n",
       "      <td>no</td>\n",
       "      <td>no</td>\n",
       "      <td>no</td>\n",
       "      <td>telephone</td>\n",
       "      <td>may</td>\n",
       "      <td>mon</td>\n",
       "      <td>...</td>\n",
       "      <td>1.0</td>\n",
       "      <td>999.0</td>\n",
       "      <td>0.0</td>\n",
       "      <td>nonexistent</td>\n",
       "      <td>1.1</td>\n",
       "      <td>93.994</td>\n",
       "      <td>-36.4</td>\n",
       "      <td>4.857</td>\n",
       "      <td>5191.0</td>\n",
       "      <td>0</td>\n",
       "    </tr>\n",
       "    <tr>\n",
       "      <th>1</th>\n",
       "      <td>(50, 100]</td>\n",
       "      <td>services</td>\n",
       "      <td>married</td>\n",
       "      <td>high.school</td>\n",
       "      <td>unknown</td>\n",
       "      <td>no</td>\n",
       "      <td>no</td>\n",
       "      <td>telephone</td>\n",
       "      <td>may</td>\n",
       "      <td>mon</td>\n",
       "      <td>...</td>\n",
       "      <td>1.0</td>\n",
       "      <td>999.0</td>\n",
       "      <td>0.0</td>\n",
       "      <td>nonexistent</td>\n",
       "      <td>1.1</td>\n",
       "      <td>93.994</td>\n",
       "      <td>-36.4</td>\n",
       "      <td>4.857</td>\n",
       "      <td>5191.0</td>\n",
       "      <td>0</td>\n",
       "    </tr>\n",
       "    <tr>\n",
       "      <th>2</th>\n",
       "      <td>(25, 50]</td>\n",
       "      <td>services</td>\n",
       "      <td>married</td>\n",
       "      <td>high.school</td>\n",
       "      <td>no</td>\n",
       "      <td>yes</td>\n",
       "      <td>no</td>\n",
       "      <td>telephone</td>\n",
       "      <td>may</td>\n",
       "      <td>mon</td>\n",
       "      <td>...</td>\n",
       "      <td>1.0</td>\n",
       "      <td>999.0</td>\n",
       "      <td>0.0</td>\n",
       "      <td>nonexistent</td>\n",
       "      <td>1.1</td>\n",
       "      <td>93.994</td>\n",
       "      <td>-36.4</td>\n",
       "      <td>4.857</td>\n",
       "      <td>5191.0</td>\n",
       "      <td>0</td>\n",
       "    </tr>\n",
       "    <tr>\n",
       "      <th>3</th>\n",
       "      <td>(25, 50]</td>\n",
       "      <td>admin.</td>\n",
       "      <td>married</td>\n",
       "      <td>basic.6y</td>\n",
       "      <td>no</td>\n",
       "      <td>no</td>\n",
       "      <td>no</td>\n",
       "      <td>telephone</td>\n",
       "      <td>may</td>\n",
       "      <td>mon</td>\n",
       "      <td>...</td>\n",
       "      <td>1.0</td>\n",
       "      <td>999.0</td>\n",
       "      <td>0.0</td>\n",
       "      <td>nonexistent</td>\n",
       "      <td>1.1</td>\n",
       "      <td>93.994</td>\n",
       "      <td>-36.4</td>\n",
       "      <td>4.857</td>\n",
       "      <td>5191.0</td>\n",
       "      <td>0</td>\n",
       "    </tr>\n",
       "    <tr>\n",
       "      <th>4</th>\n",
       "      <td>(50, 100]</td>\n",
       "      <td>services</td>\n",
       "      <td>married</td>\n",
       "      <td>high.school</td>\n",
       "      <td>no</td>\n",
       "      <td>no</td>\n",
       "      <td>yes</td>\n",
       "      <td>telephone</td>\n",
       "      <td>may</td>\n",
       "      <td>mon</td>\n",
       "      <td>...</td>\n",
       "      <td>1.0</td>\n",
       "      <td>999.0</td>\n",
       "      <td>0.0</td>\n",
       "      <td>nonexistent</td>\n",
       "      <td>1.1</td>\n",
       "      <td>93.994</td>\n",
       "      <td>-36.4</td>\n",
       "      <td>4.857</td>\n",
       "      <td>5191.0</td>\n",
       "      <td>0</td>\n",
       "    </tr>\n",
       "  </tbody>\n",
       "</table>\n",
       "<p>5 rows × 21 columns</p>\n",
       "</div>"
      ],
      "text/plain": [
       "         age        job  marital    education  default housing loan  \\\n",
       "0  (50, 100]  housemaid  married     basic.4y       no      no   no   \n",
       "1  (50, 100]   services  married  high.school  unknown      no   no   \n",
       "2   (25, 50]   services  married  high.school       no     yes   no   \n",
       "3   (25, 50]     admin.  married     basic.6y       no      no   no   \n",
       "4  (50, 100]   services  married  high.school       no      no  yes   \n",
       "\n",
       "     contact month day_of_week  ...  campaign  pdays  previous     poutcome  \\\n",
       "0  telephone   may         mon  ...       1.0  999.0       0.0  nonexistent   \n",
       "1  telephone   may         mon  ...       1.0  999.0       0.0  nonexistent   \n",
       "2  telephone   may         mon  ...       1.0  999.0       0.0  nonexistent   \n",
       "3  telephone   may         mon  ...       1.0  999.0       0.0  nonexistent   \n",
       "4  telephone   may         mon  ...       1.0  999.0       0.0  nonexistent   \n",
       "\n",
       "  emp.var.rate  cons.price.idx  cons.conf.idx  euribor3m  nr.employed  y  \n",
       "0          1.1          93.994          -36.4      4.857       5191.0  0  \n",
       "1          1.1          93.994          -36.4      4.857       5191.0  0  \n",
       "2          1.1          93.994          -36.4      4.857       5191.0  0  \n",
       "3          1.1          93.994          -36.4      4.857       5191.0  0  \n",
       "4          1.1          93.994          -36.4      4.857       5191.0  0  \n",
       "\n",
       "[5 rows x 21 columns]"
      ]
     },
     "execution_count": 175,
     "metadata": {},
     "output_type": "execute_result"
    }
   ],
   "source": [
    "data.head()"
   ]
  },
  {
   "cell_type": "code",
   "execution_count": 176,
   "id": "1164cdef",
   "metadata": {
    "id": "1164cdef",
    "outputId": "b061b129-b20d-41a5-b34d-d85c80ffb761"
   },
   "outputs": [
    {
     "data": {
      "text/plain": [
       "['age',\n",
       " 'job',\n",
       " 'marital',\n",
       " 'education',\n",
       " 'default',\n",
       " 'housing',\n",
       " 'loan',\n",
       " 'contact',\n",
       " 'month',\n",
       " 'day_of_week',\n",
       " 'poutcome']"
      ]
     },
     "execution_count": 176,
     "metadata": {},
     "output_type": "execute_result"
    }
   ],
   "source": [
    "col_list"
   ]
  },
  {
   "cell_type": "code",
   "execution_count": 177,
   "id": "67a88ffe",
   "metadata": {
    "id": "67a88ffe"
   },
   "outputs": [],
   "source": [
    "# yes no --> 1 0\n",
    "# male female --> 1 0\n",
    "# We are performing label encoding\n",
    "from sklearn.preprocessing import LabelEncoder\n",
    "le = LabelEncoder()\n",
    "for i in col_list:\n",
    "    data[i]=le.fit_transform(data[i]) # fit --> feed the data, transform --> convert the data into labels"
   ]
  },
  {
   "cell_type": "code",
   "execution_count": 178,
   "id": "460125fa",
   "metadata": {},
   "outputs": [],
   "source": [
    "# Labels are decided based upon their alphabetical order\n",
    "# c, a, e, b, d\n",
    "# a --> 0\n",
    "# b --> 1\n",
    "# c --> 2\n",
    "# d --> 3\n",
    "# e --> 4\n",
    "# 2, 0, 4, 1, 3\n",
    "#"
   ]
  },
  {
   "cell_type": "code",
   "execution_count": 179,
   "id": "aa4320af",
   "metadata": {},
   "outputs": [
    {
     "data": {
      "text/html": [
       "<div>\n",
       "<style scoped>\n",
       "    .dataframe tbody tr th:only-of-type {\n",
       "        vertical-align: middle;\n",
       "    }\n",
       "\n",
       "    .dataframe tbody tr th {\n",
       "        vertical-align: top;\n",
       "    }\n",
       "\n",
       "    .dataframe thead th {\n",
       "        text-align: right;\n",
       "    }\n",
       "</style>\n",
       "<table border=\"1\" class=\"dataframe\">\n",
       "  <thead>\n",
       "    <tr style=\"text-align: right;\">\n",
       "      <th></th>\n",
       "      <th>age</th>\n",
       "      <th>job</th>\n",
       "      <th>marital</th>\n",
       "      <th>education</th>\n",
       "      <th>default</th>\n",
       "      <th>housing</th>\n",
       "      <th>loan</th>\n",
       "      <th>contact</th>\n",
       "      <th>month</th>\n",
       "      <th>day_of_week</th>\n",
       "      <th>...</th>\n",
       "      <th>campaign</th>\n",
       "      <th>pdays</th>\n",
       "      <th>previous</th>\n",
       "      <th>poutcome</th>\n",
       "      <th>emp.var.rate</th>\n",
       "      <th>cons.price.idx</th>\n",
       "      <th>cons.conf.idx</th>\n",
       "      <th>euribor3m</th>\n",
       "      <th>nr.employed</th>\n",
       "      <th>y</th>\n",
       "    </tr>\n",
       "  </thead>\n",
       "  <tbody>\n",
       "    <tr>\n",
       "      <th>0</th>\n",
       "      <td>2</td>\n",
       "      <td>3</td>\n",
       "      <td>1</td>\n",
       "      <td>0</td>\n",
       "      <td>0</td>\n",
       "      <td>0</td>\n",
       "      <td>0</td>\n",
       "      <td>1</td>\n",
       "      <td>6</td>\n",
       "      <td>1</td>\n",
       "      <td>...</td>\n",
       "      <td>1.0</td>\n",
       "      <td>999.0</td>\n",
       "      <td>0.0</td>\n",
       "      <td>0</td>\n",
       "      <td>1.1</td>\n",
       "      <td>93.994</td>\n",
       "      <td>-36.4</td>\n",
       "      <td>4.857</td>\n",
       "      <td>5191.0</td>\n",
       "      <td>0</td>\n",
       "    </tr>\n",
       "    <tr>\n",
       "      <th>1</th>\n",
       "      <td>2</td>\n",
       "      <td>7</td>\n",
       "      <td>1</td>\n",
       "      <td>3</td>\n",
       "      <td>1</td>\n",
       "      <td>0</td>\n",
       "      <td>0</td>\n",
       "      <td>1</td>\n",
       "      <td>6</td>\n",
       "      <td>1</td>\n",
       "      <td>...</td>\n",
       "      <td>1.0</td>\n",
       "      <td>999.0</td>\n",
       "      <td>0.0</td>\n",
       "      <td>0</td>\n",
       "      <td>1.1</td>\n",
       "      <td>93.994</td>\n",
       "      <td>-36.4</td>\n",
       "      <td>4.857</td>\n",
       "      <td>5191.0</td>\n",
       "      <td>0</td>\n",
       "    </tr>\n",
       "    <tr>\n",
       "      <th>2</th>\n",
       "      <td>1</td>\n",
       "      <td>7</td>\n",
       "      <td>1</td>\n",
       "      <td>3</td>\n",
       "      <td>0</td>\n",
       "      <td>2</td>\n",
       "      <td>0</td>\n",
       "      <td>1</td>\n",
       "      <td>6</td>\n",
       "      <td>1</td>\n",
       "      <td>...</td>\n",
       "      <td>1.0</td>\n",
       "      <td>999.0</td>\n",
       "      <td>0.0</td>\n",
       "      <td>0</td>\n",
       "      <td>1.1</td>\n",
       "      <td>93.994</td>\n",
       "      <td>-36.4</td>\n",
       "      <td>4.857</td>\n",
       "      <td>5191.0</td>\n",
       "      <td>0</td>\n",
       "    </tr>\n",
       "    <tr>\n",
       "      <th>3</th>\n",
       "      <td>1</td>\n",
       "      <td>0</td>\n",
       "      <td>1</td>\n",
       "      <td>1</td>\n",
       "      <td>0</td>\n",
       "      <td>0</td>\n",
       "      <td>0</td>\n",
       "      <td>1</td>\n",
       "      <td>6</td>\n",
       "      <td>1</td>\n",
       "      <td>...</td>\n",
       "      <td>1.0</td>\n",
       "      <td>999.0</td>\n",
       "      <td>0.0</td>\n",
       "      <td>0</td>\n",
       "      <td>1.1</td>\n",
       "      <td>93.994</td>\n",
       "      <td>-36.4</td>\n",
       "      <td>4.857</td>\n",
       "      <td>5191.0</td>\n",
       "      <td>0</td>\n",
       "    </tr>\n",
       "    <tr>\n",
       "      <th>4</th>\n",
       "      <td>2</td>\n",
       "      <td>7</td>\n",
       "      <td>1</td>\n",
       "      <td>3</td>\n",
       "      <td>0</td>\n",
       "      <td>0</td>\n",
       "      <td>2</td>\n",
       "      <td>1</td>\n",
       "      <td>6</td>\n",
       "      <td>1</td>\n",
       "      <td>...</td>\n",
       "      <td>1.0</td>\n",
       "      <td>999.0</td>\n",
       "      <td>0.0</td>\n",
       "      <td>0</td>\n",
       "      <td>1.1</td>\n",
       "      <td>93.994</td>\n",
       "      <td>-36.4</td>\n",
       "      <td>4.857</td>\n",
       "      <td>5191.0</td>\n",
       "      <td>0</td>\n",
       "    </tr>\n",
       "  </tbody>\n",
       "</table>\n",
       "<p>5 rows × 21 columns</p>\n",
       "</div>"
      ],
      "text/plain": [
       "   age  job  marital  education  default  housing  loan  contact  month  \\\n",
       "0    2    3        1          0        0        0     0        1      6   \n",
       "1    2    7        1          3        1        0     0        1      6   \n",
       "2    1    7        1          3        0        2     0        1      6   \n",
       "3    1    0        1          1        0        0     0        1      6   \n",
       "4    2    7        1          3        0        0     2        1      6   \n",
       "\n",
       "   day_of_week  ...  campaign  pdays  previous  poutcome  emp.var.rate  \\\n",
       "0            1  ...       1.0  999.0       0.0         0           1.1   \n",
       "1            1  ...       1.0  999.0       0.0         0           1.1   \n",
       "2            1  ...       1.0  999.0       0.0         0           1.1   \n",
       "3            1  ...       1.0  999.0       0.0         0           1.1   \n",
       "4            1  ...       1.0  999.0       0.0         0           1.1   \n",
       "\n",
       "   cons.price.idx  cons.conf.idx  euribor3m  nr.employed  y  \n",
       "0          93.994          -36.4      4.857       5191.0  0  \n",
       "1          93.994          -36.4      4.857       5191.0  0  \n",
       "2          93.994          -36.4      4.857       5191.0  0  \n",
       "3          93.994          -36.4      4.857       5191.0  0  \n",
       "4          93.994          -36.4      4.857       5191.0  0  \n",
       "\n",
       "[5 rows x 21 columns]"
      ]
     },
     "execution_count": 179,
     "metadata": {},
     "output_type": "execute_result"
    }
   ],
   "source": [
    "data.head()"
   ]
  },
  {
   "cell_type": "code",
   "execution_count": 180,
   "id": "0f96b380",
   "metadata": {},
   "outputs": [],
   "source": [
    "# Linear Regression, Logistic Regression --> We have to pass only numbers"
   ]
  },
  {
   "cell_type": "code",
   "execution_count": 181,
   "id": "oAUZz-KS35YG",
   "metadata": {
    "colab": {
     "base_uri": "https://localhost:8080/"
    },
    "id": "oAUZz-KS35YG",
    "outputId": "bac5de32-047b-4ba2-8e04-feac4e393804"
   },
   "outputs": [
    {
     "data": {
      "text/plain": [
       "0     7672\n",
       "1     7146\n",
       "9     5086\n",
       "7     2966\n",
       "4     2141\n",
       "2     1096\n",
       "6     1060\n",
       "5      911\n",
       "3      804\n",
       "10     727\n",
       "8      507\n",
       "11     247\n",
       "Name: job, dtype: int64"
      ]
     },
     "execution_count": 181,
     "metadata": {},
     "output_type": "execute_result"
    }
   ],
   "source": [
    "data['job'].value_counts()"
   ]
  },
  {
   "cell_type": "code",
   "execution_count": null,
   "id": "3ce82077",
   "metadata": {},
   "outputs": [],
   "source": []
  },
  {
   "cell_type": "code",
   "execution_count": 182,
   "id": "143db05a",
   "metadata": {
    "id": "143db05a",
    "outputId": "e006a990-5b85-4be9-8bfd-328a65cd42bb"
   },
   "outputs": [
    {
     "data": {
      "text/html": [
       "<div>\n",
       "<style scoped>\n",
       "    .dataframe tbody tr th:only-of-type {\n",
       "        vertical-align: middle;\n",
       "    }\n",
       "\n",
       "    .dataframe tbody tr th {\n",
       "        vertical-align: top;\n",
       "    }\n",
       "\n",
       "    .dataframe thead th {\n",
       "        text-align: right;\n",
       "    }\n",
       "</style>\n",
       "<table border=\"1\" class=\"dataframe\">\n",
       "  <thead>\n",
       "    <tr style=\"text-align: right;\">\n",
       "      <th></th>\n",
       "      <th>age</th>\n",
       "      <th>job</th>\n",
       "      <th>marital</th>\n",
       "      <th>education</th>\n",
       "      <th>default</th>\n",
       "      <th>housing</th>\n",
       "      <th>loan</th>\n",
       "      <th>contact</th>\n",
       "      <th>month</th>\n",
       "      <th>day_of_week</th>\n",
       "      <th>...</th>\n",
       "      <th>campaign</th>\n",
       "      <th>pdays</th>\n",
       "      <th>previous</th>\n",
       "      <th>poutcome</th>\n",
       "      <th>emp.var.rate</th>\n",
       "      <th>cons.price.idx</th>\n",
       "      <th>cons.conf.idx</th>\n",
       "      <th>euribor3m</th>\n",
       "      <th>nr.employed</th>\n",
       "      <th>y</th>\n",
       "    </tr>\n",
       "  </thead>\n",
       "  <tbody>\n",
       "    <tr>\n",
       "      <th>0</th>\n",
       "      <td>2</td>\n",
       "      <td>3</td>\n",
       "      <td>1</td>\n",
       "      <td>0</td>\n",
       "      <td>0</td>\n",
       "      <td>0</td>\n",
       "      <td>0</td>\n",
       "      <td>1</td>\n",
       "      <td>6</td>\n",
       "      <td>1</td>\n",
       "      <td>...</td>\n",
       "      <td>1.0</td>\n",
       "      <td>999.0</td>\n",
       "      <td>0.0</td>\n",
       "      <td>0</td>\n",
       "      <td>1.1</td>\n",
       "      <td>93.994</td>\n",
       "      <td>-36.4</td>\n",
       "      <td>4.857</td>\n",
       "      <td>5191.0</td>\n",
       "      <td>0</td>\n",
       "    </tr>\n",
       "    <tr>\n",
       "      <th>1</th>\n",
       "      <td>2</td>\n",
       "      <td>7</td>\n",
       "      <td>1</td>\n",
       "      <td>3</td>\n",
       "      <td>1</td>\n",
       "      <td>0</td>\n",
       "      <td>0</td>\n",
       "      <td>1</td>\n",
       "      <td>6</td>\n",
       "      <td>1</td>\n",
       "      <td>...</td>\n",
       "      <td>1.0</td>\n",
       "      <td>999.0</td>\n",
       "      <td>0.0</td>\n",
       "      <td>0</td>\n",
       "      <td>1.1</td>\n",
       "      <td>93.994</td>\n",
       "      <td>-36.4</td>\n",
       "      <td>4.857</td>\n",
       "      <td>5191.0</td>\n",
       "      <td>0</td>\n",
       "    </tr>\n",
       "    <tr>\n",
       "      <th>2</th>\n",
       "      <td>1</td>\n",
       "      <td>7</td>\n",
       "      <td>1</td>\n",
       "      <td>3</td>\n",
       "      <td>0</td>\n",
       "      <td>2</td>\n",
       "      <td>0</td>\n",
       "      <td>1</td>\n",
       "      <td>6</td>\n",
       "      <td>1</td>\n",
       "      <td>...</td>\n",
       "      <td>1.0</td>\n",
       "      <td>999.0</td>\n",
       "      <td>0.0</td>\n",
       "      <td>0</td>\n",
       "      <td>1.1</td>\n",
       "      <td>93.994</td>\n",
       "      <td>-36.4</td>\n",
       "      <td>4.857</td>\n",
       "      <td>5191.0</td>\n",
       "      <td>0</td>\n",
       "    </tr>\n",
       "    <tr>\n",
       "      <th>3</th>\n",
       "      <td>1</td>\n",
       "      <td>0</td>\n",
       "      <td>1</td>\n",
       "      <td>1</td>\n",
       "      <td>0</td>\n",
       "      <td>0</td>\n",
       "      <td>0</td>\n",
       "      <td>1</td>\n",
       "      <td>6</td>\n",
       "      <td>1</td>\n",
       "      <td>...</td>\n",
       "      <td>1.0</td>\n",
       "      <td>999.0</td>\n",
       "      <td>0.0</td>\n",
       "      <td>0</td>\n",
       "      <td>1.1</td>\n",
       "      <td>93.994</td>\n",
       "      <td>-36.4</td>\n",
       "      <td>4.857</td>\n",
       "      <td>5191.0</td>\n",
       "      <td>0</td>\n",
       "    </tr>\n",
       "    <tr>\n",
       "      <th>4</th>\n",
       "      <td>2</td>\n",
       "      <td>7</td>\n",
       "      <td>1</td>\n",
       "      <td>3</td>\n",
       "      <td>0</td>\n",
       "      <td>0</td>\n",
       "      <td>2</td>\n",
       "      <td>1</td>\n",
       "      <td>6</td>\n",
       "      <td>1</td>\n",
       "      <td>...</td>\n",
       "      <td>1.0</td>\n",
       "      <td>999.0</td>\n",
       "      <td>0.0</td>\n",
       "      <td>0</td>\n",
       "      <td>1.1</td>\n",
       "      <td>93.994</td>\n",
       "      <td>-36.4</td>\n",
       "      <td>4.857</td>\n",
       "      <td>5191.0</td>\n",
       "      <td>0</td>\n",
       "    </tr>\n",
       "  </tbody>\n",
       "</table>\n",
       "<p>5 rows × 21 columns</p>\n",
       "</div>"
      ],
      "text/plain": [
       "   age  job  marital  education  default  housing  loan  contact  month  \\\n",
       "0    2    3        1          0        0        0     0        1      6   \n",
       "1    2    7        1          3        1        0     0        1      6   \n",
       "2    1    7        1          3        0        2     0        1      6   \n",
       "3    1    0        1          1        0        0     0        1      6   \n",
       "4    2    7        1          3        0        0     2        1      6   \n",
       "\n",
       "   day_of_week  ...  campaign  pdays  previous  poutcome  emp.var.rate  \\\n",
       "0            1  ...       1.0  999.0       0.0         0           1.1   \n",
       "1            1  ...       1.0  999.0       0.0         0           1.1   \n",
       "2            1  ...       1.0  999.0       0.0         0           1.1   \n",
       "3            1  ...       1.0  999.0       0.0         0           1.1   \n",
       "4            1  ...       1.0  999.0       0.0         0           1.1   \n",
       "\n",
       "   cons.price.idx  cons.conf.idx  euribor3m  nr.employed  y  \n",
       "0          93.994          -36.4      4.857       5191.0  0  \n",
       "1          93.994          -36.4      4.857       5191.0  0  \n",
       "2          93.994          -36.4      4.857       5191.0  0  \n",
       "3          93.994          -36.4      4.857       5191.0  0  \n",
       "4          93.994          -36.4      4.857       5191.0  0  \n",
       "\n",
       "[5 rows x 21 columns]"
      ]
     },
     "execution_count": 182,
     "metadata": {},
     "output_type": "execute_result"
    }
   ],
   "source": [
    "# bins --> 0->10-25, 1->25-50, 2->50-100\n",
    "data.head()\n",
    "# 1,2,5,7,9\n",
    "# 0,1,2,3,4"
   ]
  },
  {
   "cell_type": "code",
   "execution_count": 183,
   "id": "ZvWHbi903c3J",
   "metadata": {
    "colab": {
     "base_uri": "https://localhost:8080/"
    },
    "id": "ZvWHbi903c3J",
    "outputId": "c1d14d97-c145-478e-9643-90608650a02f"
   },
   "outputs": [
    {
     "name": "stdout",
     "output_type": "stream",
     "text": [
      "<class 'pandas.core.frame.DataFrame'>\n",
      "Int64Index: 30363 entries, 0 to 41197\n",
      "Data columns (total 21 columns):\n",
      " #   Column          Non-Null Count  Dtype  \n",
      "---  ------          --------------  -----  \n",
      " 0   age             30363 non-null  int32  \n",
      " 1   job             30363 non-null  int32  \n",
      " 2   marital         30363 non-null  int32  \n",
      " 3   education       30363 non-null  int32  \n",
      " 4   default         30363 non-null  int32  \n",
      " 5   housing         30363 non-null  int32  \n",
      " 6   loan            30363 non-null  int32  \n",
      " 7   contact         30363 non-null  int32  \n",
      " 8   month           30363 non-null  int32  \n",
      " 9   day_of_week     30363 non-null  int32  \n",
      " 10  duration        30363 non-null  float64\n",
      " 11  campaign        30363 non-null  float64\n",
      " 12  pdays           30363 non-null  float64\n",
      " 13  previous        30363 non-null  float64\n",
      " 14  poutcome        30363 non-null  int32  \n",
      " 15  emp.var.rate    30363 non-null  float64\n",
      " 16  cons.price.idx  30363 non-null  float64\n",
      " 17  cons.conf.idx   30363 non-null  float64\n",
      " 18  euribor3m       30363 non-null  float64\n",
      " 19  nr.employed     30363 non-null  float64\n",
      " 20  y               30363 non-null  object \n",
      "dtypes: float64(9), int32(11), object(1)\n",
      "memory usage: 3.8+ MB\n"
     ]
    }
   ],
   "source": [
    "data.info()"
   ]
  },
  {
   "cell_type": "code",
   "execution_count": null,
   "id": "1d1fa46e",
   "metadata": {
    "id": "1d1fa46e"
   },
   "outputs": [],
   "source": []
  },
  {
   "cell_type": "code",
   "execution_count": null,
   "id": "b964c332",
   "metadata": {
    "id": "b964c332"
   },
   "outputs": [],
   "source": [
    "\n"
   ]
  },
  {
   "cell_type": "code",
   "execution_count": 184,
   "id": "7ac61a05",
   "metadata": {},
   "outputs": [],
   "source": [
    "# Multicollinerity --> When we compare the relationship of all the columns with all the other columns at once\n",
    "# VIF --> Variance Inflation Factor\n",
    "# VIF helps us to reduce the multicollinearity among the independent variables\n",
    "# VIF = 1 --> Variables are not multicorrelated\n",
    "# VIF < 6 --> vARIABLES ARE MODERATELY multicorrelated --> Accepted\n",
    "# VIF = More than 6 --> Variables are highly correlated, and we drop those columns"
   ]
  },
  {
   "cell_type": "code",
   "execution_count": 185,
   "id": "306827bc",
   "metadata": {
    "id": "306827bc"
   },
   "outputs": [],
   "source": [
    "from statsmodels.stats.outliers_influence import variance_inflation_factor \n",
    "col_list = []\n",
    "for col in data.columns:\n",
    "    if ((data[col].dtype != 'object') & (col != 'y') ):\n",
    "        col_list.append(col)"
   ]
  },
  {
   "cell_type": "code",
   "execution_count": 186,
   "id": "3b9ded71",
   "metadata": {
    "id": "3b9ded71",
    "outputId": "c6f57ec0-6fa2-43a8-dad4-8ebdc16a4983"
   },
   "outputs": [
    {
     "data": {
      "text/plain": [
       "['age',\n",
       " 'job',\n",
       " 'marital',\n",
       " 'education',\n",
       " 'default',\n",
       " 'housing',\n",
       " 'loan',\n",
       " 'contact',\n",
       " 'month',\n",
       " 'day_of_week',\n",
       " 'duration',\n",
       " 'campaign',\n",
       " 'pdays',\n",
       " 'previous',\n",
       " 'poutcome',\n",
       " 'emp.var.rate',\n",
       " 'cons.price.idx',\n",
       " 'cons.conf.idx',\n",
       " 'euribor3m',\n",
       " 'nr.employed']"
      ]
     },
     "execution_count": 186,
     "metadata": {},
     "output_type": "execute_result"
    }
   ],
   "source": [
    "col_list"
   ]
  },
  {
   "cell_type": "code",
   "execution_count": 187,
   "id": "4962a64a",
   "metadata": {
    "id": "4962a64a",
    "outputId": "f8319996-59c6-4a05-cc90-8dbbf7c7989e"
   },
   "outputs": [
    {
     "data": {
      "text/html": [
       "<div>\n",
       "<style scoped>\n",
       "    .dataframe tbody tr th:only-of-type {\n",
       "        vertical-align: middle;\n",
       "    }\n",
       "\n",
       "    .dataframe tbody tr th {\n",
       "        vertical-align: top;\n",
       "    }\n",
       "\n",
       "    .dataframe thead th {\n",
       "        text-align: right;\n",
       "    }\n",
       "</style>\n",
       "<table border=\"1\" class=\"dataframe\">\n",
       "  <thead>\n",
       "    <tr style=\"text-align: right;\">\n",
       "      <th></th>\n",
       "      <th>age</th>\n",
       "      <th>job</th>\n",
       "      <th>marital</th>\n",
       "      <th>education</th>\n",
       "      <th>default</th>\n",
       "      <th>housing</th>\n",
       "      <th>loan</th>\n",
       "      <th>contact</th>\n",
       "      <th>month</th>\n",
       "      <th>day_of_week</th>\n",
       "      <th>duration</th>\n",
       "      <th>campaign</th>\n",
       "      <th>pdays</th>\n",
       "      <th>previous</th>\n",
       "      <th>poutcome</th>\n",
       "      <th>emp.var.rate</th>\n",
       "      <th>cons.price.idx</th>\n",
       "      <th>cons.conf.idx</th>\n",
       "      <th>euribor3m</th>\n",
       "      <th>nr.employed</th>\n",
       "    </tr>\n",
       "  </thead>\n",
       "  <tbody>\n",
       "    <tr>\n",
       "      <th>0</th>\n",
       "      <td>2</td>\n",
       "      <td>3</td>\n",
       "      <td>1</td>\n",
       "      <td>0</td>\n",
       "      <td>0</td>\n",
       "      <td>0</td>\n",
       "      <td>0</td>\n",
       "      <td>1</td>\n",
       "      <td>6</td>\n",
       "      <td>1</td>\n",
       "      <td>261.000000</td>\n",
       "      <td>1.000000</td>\n",
       "      <td>999.0</td>\n",
       "      <td>0.0</td>\n",
       "      <td>0</td>\n",
       "      <td>1.100000</td>\n",
       "      <td>93.994000</td>\n",
       "      <td>-36.400000</td>\n",
       "      <td>4.857000</td>\n",
       "      <td>5191.000000</td>\n",
       "    </tr>\n",
       "    <tr>\n",
       "      <th>1</th>\n",
       "      <td>2</td>\n",
       "      <td>7</td>\n",
       "      <td>1</td>\n",
       "      <td>3</td>\n",
       "      <td>1</td>\n",
       "      <td>0</td>\n",
       "      <td>0</td>\n",
       "      <td>1</td>\n",
       "      <td>6</td>\n",
       "      <td>1</td>\n",
       "      <td>149.000000</td>\n",
       "      <td>1.000000</td>\n",
       "      <td>999.0</td>\n",
       "      <td>0.0</td>\n",
       "      <td>0</td>\n",
       "      <td>1.100000</td>\n",
       "      <td>93.994000</td>\n",
       "      <td>-36.400000</td>\n",
       "      <td>4.857000</td>\n",
       "      <td>5191.000000</td>\n",
       "    </tr>\n",
       "    <tr>\n",
       "      <th>2</th>\n",
       "      <td>1</td>\n",
       "      <td>7</td>\n",
       "      <td>1</td>\n",
       "      <td>3</td>\n",
       "      <td>0</td>\n",
       "      <td>2</td>\n",
       "      <td>0</td>\n",
       "      <td>1</td>\n",
       "      <td>6</td>\n",
       "      <td>1</td>\n",
       "      <td>226.000000</td>\n",
       "      <td>1.000000</td>\n",
       "      <td>999.0</td>\n",
       "      <td>0.0</td>\n",
       "      <td>0</td>\n",
       "      <td>1.100000</td>\n",
       "      <td>93.994000</td>\n",
       "      <td>-36.400000</td>\n",
       "      <td>4.857000</td>\n",
       "      <td>5191.000000</td>\n",
       "    </tr>\n",
       "    <tr>\n",
       "      <th>3</th>\n",
       "      <td>1</td>\n",
       "      <td>0</td>\n",
       "      <td>1</td>\n",
       "      <td>1</td>\n",
       "      <td>0</td>\n",
       "      <td>0</td>\n",
       "      <td>0</td>\n",
       "      <td>1</td>\n",
       "      <td>6</td>\n",
       "      <td>1</td>\n",
       "      <td>151.000000</td>\n",
       "      <td>1.000000</td>\n",
       "      <td>999.0</td>\n",
       "      <td>0.0</td>\n",
       "      <td>0</td>\n",
       "      <td>1.100000</td>\n",
       "      <td>93.994000</td>\n",
       "      <td>-36.400000</td>\n",
       "      <td>4.857000</td>\n",
       "      <td>5191.000000</td>\n",
       "    </tr>\n",
       "    <tr>\n",
       "      <th>4</th>\n",
       "      <td>2</td>\n",
       "      <td>7</td>\n",
       "      <td>1</td>\n",
       "      <td>3</td>\n",
       "      <td>0</td>\n",
       "      <td>0</td>\n",
       "      <td>2</td>\n",
       "      <td>1</td>\n",
       "      <td>6</td>\n",
       "      <td>1</td>\n",
       "      <td>307.000000</td>\n",
       "      <td>1.000000</td>\n",
       "      <td>999.0</td>\n",
       "      <td>0.0</td>\n",
       "      <td>0</td>\n",
       "      <td>1.100000</td>\n",
       "      <td>93.994000</td>\n",
       "      <td>-36.400000</td>\n",
       "      <td>4.857000</td>\n",
       "      <td>5191.000000</td>\n",
       "    </tr>\n",
       "    <tr>\n",
       "      <th>...</th>\n",
       "      <td>...</td>\n",
       "      <td>...</td>\n",
       "      <td>...</td>\n",
       "      <td>...</td>\n",
       "      <td>...</td>\n",
       "      <td>...</td>\n",
       "      <td>...</td>\n",
       "      <td>...</td>\n",
       "      <td>...</td>\n",
       "      <td>...</td>\n",
       "      <td>...</td>\n",
       "      <td>...</td>\n",
       "      <td>...</td>\n",
       "      <td>...</td>\n",
       "      <td>...</td>\n",
       "      <td>...</td>\n",
       "      <td>...</td>\n",
       "      <td>...</td>\n",
       "      <td>...</td>\n",
       "      <td>...</td>\n",
       "    </tr>\n",
       "    <tr>\n",
       "      <th>41185</th>\n",
       "      <td>2</td>\n",
       "      <td>5</td>\n",
       "      <td>1</td>\n",
       "      <td>6</td>\n",
       "      <td>0</td>\n",
       "      <td>2</td>\n",
       "      <td>0</td>\n",
       "      <td>0</td>\n",
       "      <td>7</td>\n",
       "      <td>0</td>\n",
       "      <td>189.000000</td>\n",
       "      <td>2.000000</td>\n",
       "      <td>999.0</td>\n",
       "      <td>0.0</td>\n",
       "      <td>0</td>\n",
       "      <td>-1.100000</td>\n",
       "      <td>94.767000</td>\n",
       "      <td>-50.800000</td>\n",
       "      <td>1.028000</td>\n",
       "      <td>4963.600000</td>\n",
       "    </tr>\n",
       "    <tr>\n",
       "      <th>41186</th>\n",
       "      <td>1</td>\n",
       "      <td>9</td>\n",
       "      <td>1</td>\n",
       "      <td>5</td>\n",
       "      <td>0</td>\n",
       "      <td>0</td>\n",
       "      <td>0</td>\n",
       "      <td>0</td>\n",
       "      <td>7</td>\n",
       "      <td>0</td>\n",
       "      <td>442.000000</td>\n",
       "      <td>1.000000</td>\n",
       "      <td>999.0</td>\n",
       "      <td>0.0</td>\n",
       "      <td>0</td>\n",
       "      <td>-1.100000</td>\n",
       "      <td>94.767000</td>\n",
       "      <td>-50.800000</td>\n",
       "      <td>1.028000</td>\n",
       "      <td>4963.600000</td>\n",
       "    </tr>\n",
       "    <tr>\n",
       "      <th>41188</th>\n",
       "      <td>1</td>\n",
       "      <td>0</td>\n",
       "      <td>1</td>\n",
       "      <td>6</td>\n",
       "      <td>0</td>\n",
       "      <td>2</td>\n",
       "      <td>0</td>\n",
       "      <td>0</td>\n",
       "      <td>6</td>\n",
       "      <td>1</td>\n",
       "      <td>204.932576</td>\n",
       "      <td>2.081555</td>\n",
       "      <td>999.0</td>\n",
       "      <td>0.0</td>\n",
       "      <td>0</td>\n",
       "      <td>0.388261</td>\n",
       "      <td>93.646458</td>\n",
       "      <td>-40.410119</td>\n",
       "      <td>3.970239</td>\n",
       "      <td>5181.932372</td>\n",
       "    </tr>\n",
       "    <tr>\n",
       "      <th>41191</th>\n",
       "      <td>1</td>\n",
       "      <td>0</td>\n",
       "      <td>1</td>\n",
       "      <td>6</td>\n",
       "      <td>0</td>\n",
       "      <td>2</td>\n",
       "      <td>0</td>\n",
       "      <td>0</td>\n",
       "      <td>6</td>\n",
       "      <td>1</td>\n",
       "      <td>204.932576</td>\n",
       "      <td>2.081555</td>\n",
       "      <td>999.0</td>\n",
       "      <td>0.0</td>\n",
       "      <td>0</td>\n",
       "      <td>0.388261</td>\n",
       "      <td>93.646458</td>\n",
       "      <td>-40.410119</td>\n",
       "      <td>3.970239</td>\n",
       "      <td>5181.932372</td>\n",
       "    </tr>\n",
       "    <tr>\n",
       "      <th>41197</th>\n",
       "      <td>1</td>\n",
       "      <td>0</td>\n",
       "      <td>1</td>\n",
       "      <td>6</td>\n",
       "      <td>0</td>\n",
       "      <td>2</td>\n",
       "      <td>0</td>\n",
       "      <td>0</td>\n",
       "      <td>6</td>\n",
       "      <td>1</td>\n",
       "      <td>204.932576</td>\n",
       "      <td>2.081555</td>\n",
       "      <td>999.0</td>\n",
       "      <td>0.0</td>\n",
       "      <td>0</td>\n",
       "      <td>0.388261</td>\n",
       "      <td>93.646458</td>\n",
       "      <td>-40.410119</td>\n",
       "      <td>3.970239</td>\n",
       "      <td>5181.932372</td>\n",
       "    </tr>\n",
       "  </tbody>\n",
       "</table>\n",
       "<p>30363 rows × 20 columns</p>\n",
       "</div>"
      ],
      "text/plain": [
       "       age  job  marital  education  default  housing  loan  contact  month  \\\n",
       "0        2    3        1          0        0        0     0        1      6   \n",
       "1        2    7        1          3        1        0     0        1      6   \n",
       "2        1    7        1          3        0        2     0        1      6   \n",
       "3        1    0        1          1        0        0     0        1      6   \n",
       "4        2    7        1          3        0        0     2        1      6   \n",
       "...    ...  ...      ...        ...      ...      ...   ...      ...    ...   \n",
       "41185    2    5        1          6        0        2     0        0      7   \n",
       "41186    1    9        1          5        0        0     0        0      7   \n",
       "41188    1    0        1          6        0        2     0        0      6   \n",
       "41191    1    0        1          6        0        2     0        0      6   \n",
       "41197    1    0        1          6        0        2     0        0      6   \n",
       "\n",
       "       day_of_week    duration  campaign  pdays  previous  poutcome  \\\n",
       "0                1  261.000000  1.000000  999.0       0.0         0   \n",
       "1                1  149.000000  1.000000  999.0       0.0         0   \n",
       "2                1  226.000000  1.000000  999.0       0.0         0   \n",
       "3                1  151.000000  1.000000  999.0       0.0         0   \n",
       "4                1  307.000000  1.000000  999.0       0.0         0   \n",
       "...            ...         ...       ...    ...       ...       ...   \n",
       "41185            0  189.000000  2.000000  999.0       0.0         0   \n",
       "41186            0  442.000000  1.000000  999.0       0.0         0   \n",
       "41188            1  204.932576  2.081555  999.0       0.0         0   \n",
       "41191            1  204.932576  2.081555  999.0       0.0         0   \n",
       "41197            1  204.932576  2.081555  999.0       0.0         0   \n",
       "\n",
       "       emp.var.rate  cons.price.idx  cons.conf.idx  euribor3m  nr.employed  \n",
       "0          1.100000       93.994000     -36.400000   4.857000  5191.000000  \n",
       "1          1.100000       93.994000     -36.400000   4.857000  5191.000000  \n",
       "2          1.100000       93.994000     -36.400000   4.857000  5191.000000  \n",
       "3          1.100000       93.994000     -36.400000   4.857000  5191.000000  \n",
       "4          1.100000       93.994000     -36.400000   4.857000  5191.000000  \n",
       "...             ...             ...            ...        ...          ...  \n",
       "41185     -1.100000       94.767000     -50.800000   1.028000  4963.600000  \n",
       "41186     -1.100000       94.767000     -50.800000   1.028000  4963.600000  \n",
       "41188      0.388261       93.646458     -40.410119   3.970239  5181.932372  \n",
       "41191      0.388261       93.646458     -40.410119   3.970239  5181.932372  \n",
       "41197      0.388261       93.646458     -40.410119   3.970239  5181.932372  \n",
       "\n",
       "[30363 rows x 20 columns]"
      ]
     },
     "execution_count": 187,
     "metadata": {},
     "output_type": "execute_result"
    }
   ],
   "source": [
    "X=data[col_list]\n",
    "X\n",
    "#independent"
   ]
  },
  {
   "cell_type": "code",
   "execution_count": 188,
   "id": "a75c5102",
   "metadata": {},
   "outputs": [
    {
     "data": {
      "text/plain": [
       "Index(['age', 'job', 'marital', 'education', 'default', 'housing', 'loan',\n",
       "       'contact', 'month', 'day_of_week', 'duration', 'campaign', 'pdays',\n",
       "       'previous', 'poutcome', 'emp.var.rate', 'cons.price.idx',\n",
       "       'cons.conf.idx', 'euribor3m', 'nr.employed'],\n",
       "      dtype='object')"
      ]
     },
     "execution_count": 188,
     "metadata": {},
     "output_type": "execute_result"
    }
   ],
   "source": [
    "X.columns"
   ]
  },
  {
   "cell_type": "code",
   "execution_count": 189,
   "id": "d498d806",
   "metadata": {
    "id": "d498d806",
    "outputId": "66423f9d-1f07-4ee4-9c7d-c43ee8fd6ef2"
   },
   "outputs": [
    {
     "name": "stdout",
     "output_type": "stream",
     "text": [
      "0\n",
      "1\n",
      "2\n",
      "3\n",
      "4\n",
      "5\n",
      "6\n",
      "7\n",
      "8\n",
      "9\n",
      "10\n",
      "11\n",
      "12\n",
      "13\n",
      "14\n",
      "15\n",
      "16\n",
      "17\n",
      "18\n",
      "19\n"
     ]
    }
   ],
   "source": [
    "for i in range(len(X.columns)): # for i in range(20)\n",
    "    print(i)"
   ]
  },
  {
   "cell_type": "code",
   "execution_count": 190,
   "id": "cfb18f56",
   "metadata": {
    "id": "cfb18f56"
   },
   "outputs": [
    {
     "data": {
      "text/plain": [
       "array([[ 2.00000000e+00,  3.00000000e+00,  1.00000000e+00, ...,\n",
       "        -3.64000000e+01,  4.85700000e+00,  5.19100000e+03],\n",
       "       [ 2.00000000e+00,  7.00000000e+00,  1.00000000e+00, ...,\n",
       "        -3.64000000e+01,  4.85700000e+00,  5.19100000e+03],\n",
       "       [ 1.00000000e+00,  7.00000000e+00,  1.00000000e+00, ...,\n",
       "        -3.64000000e+01,  4.85700000e+00,  5.19100000e+03],\n",
       "       ...,\n",
       "       [ 1.00000000e+00,  0.00000000e+00,  1.00000000e+00, ...,\n",
       "        -4.04101186e+01,  3.97023870e+00,  5.18193237e+03],\n",
       "       [ 1.00000000e+00,  0.00000000e+00,  1.00000000e+00, ...,\n",
       "        -4.04101186e+01,  3.97023870e+00,  5.18193237e+03],\n",
       "       [ 1.00000000e+00,  0.00000000e+00,  1.00000000e+00, ...,\n",
       "        -4.04101186e+01,  3.97023870e+00,  5.18193237e+03]])"
      ]
     },
     "execution_count": 190,
     "metadata": {},
     "output_type": "execute_result"
    }
   ],
   "source": [
    "X.values"
   ]
  },
  {
   "cell_type": "code",
   "execution_count": 191,
   "id": "05c2fcfb",
   "metadata": {
    "id": "05c2fcfb",
    "outputId": "f376487f-88d8-4070-ccc0-d92a3bb6afda",
    "scrolled": false
   },
   "outputs": [
    {
     "data": {
      "text/html": [
       "<div>\n",
       "<style scoped>\n",
       "    .dataframe tbody tr th:only-of-type {\n",
       "        vertical-align: middle;\n",
       "    }\n",
       "\n",
       "    .dataframe tbody tr th {\n",
       "        vertical-align: top;\n",
       "    }\n",
       "\n",
       "    .dataframe thead th {\n",
       "        text-align: right;\n",
       "    }\n",
       "</style>\n",
       "<table border=\"1\" class=\"dataframe\">\n",
       "  <thead>\n",
       "    <tr style=\"text-align: right;\">\n",
       "      <th></th>\n",
       "      <th>feature</th>\n",
       "      <th>VIF</th>\n",
       "    </tr>\n",
       "  </thead>\n",
       "  <tbody>\n",
       "    <tr>\n",
       "      <th>0</th>\n",
       "      <td>age</td>\n",
       "      <td>1.099803</td>\n",
       "    </tr>\n",
       "    <tr>\n",
       "      <th>1</th>\n",
       "      <td>job</td>\n",
       "      <td>1.025334</td>\n",
       "    </tr>\n",
       "    <tr>\n",
       "      <th>2</th>\n",
       "      <td>marital</td>\n",
       "      <td>1.095763</td>\n",
       "    </tr>\n",
       "    <tr>\n",
       "      <th>3</th>\n",
       "      <td>education</td>\n",
       "      <td>1.099289</td>\n",
       "    </tr>\n",
       "    <tr>\n",
       "      <th>4</th>\n",
       "      <td>default</td>\n",
       "      <td>1.092000</td>\n",
       "    </tr>\n",
       "    <tr>\n",
       "      <th>5</th>\n",
       "      <td>housing</td>\n",
       "      <td>1.013148</td>\n",
       "    </tr>\n",
       "    <tr>\n",
       "      <th>6</th>\n",
       "      <td>loan</td>\n",
       "      <td>1.003017</td>\n",
       "    </tr>\n",
       "    <tr>\n",
       "      <th>7</th>\n",
       "      <td>contact</td>\n",
       "      <td>2.718386</td>\n",
       "    </tr>\n",
       "    <tr>\n",
       "      <th>8</th>\n",
       "      <td>month</td>\n",
       "      <td>2.058958</td>\n",
       "    </tr>\n",
       "    <tr>\n",
       "      <th>9</th>\n",
       "      <td>day_of_week</td>\n",
       "      <td>1.010864</td>\n",
       "    </tr>\n",
       "    <tr>\n",
       "      <th>10</th>\n",
       "      <td>duration</td>\n",
       "      <td>1.011886</td>\n",
       "    </tr>\n",
       "    <tr>\n",
       "      <th>11</th>\n",
       "      <td>campaign</td>\n",
       "      <td>1.019593</td>\n",
       "    </tr>\n",
       "    <tr>\n",
       "      <th>12</th>\n",
       "      <td>pdays</td>\n",
       "      <td>771252.675069</td>\n",
       "    </tr>\n",
       "    <tr>\n",
       "      <th>13</th>\n",
       "      <td>previous</td>\n",
       "      <td>NaN</td>\n",
       "    </tr>\n",
       "    <tr>\n",
       "      <th>14</th>\n",
       "      <td>poutcome</td>\n",
       "      <td>NaN</td>\n",
       "    </tr>\n",
       "    <tr>\n",
       "      <th>15</th>\n",
       "      <td>emp.var.rate</td>\n",
       "      <td>41.960377</td>\n",
       "    </tr>\n",
       "    <tr>\n",
       "      <th>16</th>\n",
       "      <td>cons.price.idx</td>\n",
       "      <td>8.721935</td>\n",
       "    </tr>\n",
       "    <tr>\n",
       "      <th>17</th>\n",
       "      <td>cons.conf.idx</td>\n",
       "      <td>3.874389</td>\n",
       "    </tr>\n",
       "    <tr>\n",
       "      <th>18</th>\n",
       "      <td>euribor3m</td>\n",
       "      <td>88.832601</td>\n",
       "    </tr>\n",
       "    <tr>\n",
       "      <th>19</th>\n",
       "      <td>nr.employed</td>\n",
       "      <td>35.202078</td>\n",
       "    </tr>\n",
       "  </tbody>\n",
       "</table>\n",
       "</div>"
      ],
      "text/plain": [
       "           feature            VIF\n",
       "0              age       1.099803\n",
       "1              job       1.025334\n",
       "2          marital       1.095763\n",
       "3        education       1.099289\n",
       "4          default       1.092000\n",
       "5          housing       1.013148\n",
       "6             loan       1.003017\n",
       "7          contact       2.718386\n",
       "8            month       2.058958\n",
       "9      day_of_week       1.010864\n",
       "10        duration       1.011886\n",
       "11        campaign       1.019593\n",
       "12           pdays  771252.675069\n",
       "13        previous            NaN\n",
       "14        poutcome            NaN\n",
       "15    emp.var.rate      41.960377\n",
       "16  cons.price.idx       8.721935\n",
       "17   cons.conf.idx       3.874389\n",
       "18       euribor3m      88.832601\n",
       "19     nr.employed      35.202078"
      ]
     },
     "execution_count": 191,
     "metadata": {},
     "output_type": "execute_result"
    }
   ],
   "source": [
    "# from statsmodels.stats.outliers_influence import variance_inflation_factor \n",
    "# # col_list = []\n",
    "# # for col in data.columns:\n",
    "# #     if ((data[col].dtype != 'object') & (col != 'y') ):\n",
    "# #         col_list.append(col)\n",
    "\n",
    "# #X = data[col_list]\n",
    "\n",
    "vif_data = pd.DataFrame() # Creating a new data frame\n",
    "vif_data[\"feature\"] = X.columns # adding a column- feature which will contain all the column names\n",
    "vif_data[\"VIF\"] = [variance_inflation_factor(X.values, i) for i in range(len(X.columns))]  \n",
    "vif_data"
   ]
  },
  {
   "cell_type": "code",
   "execution_count": 192,
   "id": "b8b2923b",
   "metadata": {
    "id": "b8b2923b"
   },
   "outputs": [],
   "source": [
    "data=data.drop(['pdays'], axis = 1) # axis = 1 --> column-wise"
   ]
  },
  {
   "cell_type": "code",
   "execution_count": 193,
   "id": "f385bc6a",
   "metadata": {
    "id": "f385bc6a",
    "outputId": "ee837c75-01c5-40e9-ad38-c0a62b5df474"
   },
   "outputs": [
    {
     "name": "stdout",
     "output_type": "stream",
     "text": [
      "           feature           VIF\n",
      "0              age      8.703736\n",
      "1              job      2.094925\n",
      "2          marital      5.200620\n",
      "3        education      4.460723\n",
      "4          default      1.410669\n",
      "5          housing      2.192963\n",
      "6             loan      1.208238\n",
      "7          contact      3.588780\n",
      "8            month      7.816300\n",
      "9      day_of_week      3.106141\n",
      "10        duration      3.172545\n",
      "11        campaign      3.621071\n",
      "12        previous           NaN\n",
      "13        poutcome           NaN\n",
      "14    emp.var.rate     41.971555\n",
      "15  cons.price.idx  51263.678439\n",
      "16   cons.conf.idx    160.362782\n",
      "17       euribor3m    439.114848\n",
      "18     nr.employed  58415.541798\n"
     ]
    }
   ],
   "source": [
    "col_list = []\n",
    "for col in data.columns:\n",
    "    if ((data[col].dtype != 'object') & (col != 'y') ):\n",
    "        col_list.append(col)\n",
    "\n",
    "X = data[col_list]\n",
    "vif_data = pd.DataFrame() \n",
    "vif_data[\"feature\"] = X.columns \n",
    "vif_data[\"VIF\"] = [variance_inflation_factor(X.values, i) \n",
    "                          for i in range(len(X.columns))] \n",
    "print(vif_data)"
   ]
  },
  {
   "cell_type": "code",
   "execution_count": 194,
   "id": "978fb6f5",
   "metadata": {
    "id": "978fb6f5"
   },
   "outputs": [],
   "source": [
    "data=data.drop(['nr.employed'], axis = 1)"
   ]
  },
  {
   "cell_type": "code",
   "execution_count": 195,
   "id": "1288471b",
   "metadata": {
    "id": "1288471b",
    "outputId": "35141aab-51c4-4ae8-f638-a372d8f3cfdf"
   },
   "outputs": [
    {
     "name": "stdout",
     "output_type": "stream",
     "text": [
      "           feature         VIF\n",
      "0              age    8.703671\n",
      "1              job    2.094885\n",
      "2          marital    5.199928\n",
      "3        education    4.460720\n",
      "4          default    1.409501\n",
      "5          housing    2.192348\n",
      "6             loan    1.208137\n",
      "7          contact    2.749302\n",
      "8            month    6.751374\n",
      "9      day_of_week    3.105523\n",
      "10        duration    3.163204\n",
      "11        campaign    3.609400\n",
      "12        previous         NaN\n",
      "13        poutcome         NaN\n",
      "14    emp.var.rate   28.399115\n",
      "15  cons.price.idx  416.258481\n",
      "16   cons.conf.idx  141.733526\n",
      "17       euribor3m  203.216451\n"
     ]
    }
   ],
   "source": [
    "col_list = []\n",
    "for col in data.columns:\n",
    "    if ((data[col].dtype != 'object') & (col != 'y') ):\n",
    "        col_list.append(col)\n",
    "\n",
    "X = data[col_list]\n",
    "vif_data = pd.DataFrame() \n",
    "vif_data[\"feature\"] = X.columns \n",
    "vif_data[\"VIF\"] = [variance_inflation_factor(X.values, i) \n",
    "                          for i in range(len(X.columns))] \n",
    "print(vif_data)"
   ]
  },
  {
   "cell_type": "code",
   "execution_count": 196,
   "id": "84a1ac62",
   "metadata": {
    "id": "84a1ac62"
   },
   "outputs": [],
   "source": [
    "data=data.drop(['cons.price.idx'], axis = 1)"
   ]
  },
  {
   "cell_type": "code",
   "execution_count": 197,
   "id": "499a1878",
   "metadata": {
    "id": "499a1878",
    "outputId": "670603c9-ea7d-4d5f-ab19-0677765d8f82"
   },
   "outputs": [
    {
     "name": "stdout",
     "output_type": "stream",
     "text": [
      "          feature        VIF\n",
      "0             age   8.405082\n",
      "1             job   2.085985\n",
      "2         marital   5.077649\n",
      "3       education   4.388056\n",
      "4         default   1.406873\n",
      "5         housing   2.187505\n",
      "6            loan   1.207508\n",
      "7         contact   2.504737\n",
      "8           month   6.414563\n",
      "9     day_of_week   3.082648\n",
      "10       duration   3.124325\n",
      "11       campaign   3.573125\n",
      "12       previous        NaN\n",
      "13       poutcome        NaN\n",
      "14   emp.var.rate  14.551511\n",
      "15  cons.conf.idx  46.938481\n",
      "16      euribor3m  83.504338\n"
     ]
    }
   ],
   "source": [
    "col_list = []\n",
    "for col in data.columns:\n",
    "    if ((data[col].dtype != 'object') & (col != 'y') ):\n",
    "        col_list.append(col)\n",
    "\n",
    "X = data[col_list]\n",
    "vif_data = pd.DataFrame() \n",
    "vif_data[\"feature\"] = X.columns \n",
    "vif_data[\"VIF\"] = [variance_inflation_factor(X.values, i) \n",
    "                          for i in range(len(X.columns))] \n",
    "print(vif_data)"
   ]
  },
  {
   "cell_type": "code",
   "execution_count": 198,
   "id": "307129a3",
   "metadata": {
    "id": "307129a3"
   },
   "outputs": [],
   "source": [
    "data=data.drop(['euribor3m'], axis = 1)"
   ]
  },
  {
   "cell_type": "code",
   "execution_count": 199,
   "id": "32028fa6",
   "metadata": {
    "id": "32028fa6",
    "outputId": "067e9700-b4d8-4378-c262-ea031ad0dd9f"
   },
   "outputs": [
    {
     "name": "stdout",
     "output_type": "stream",
     "text": [
      "          feature        VIF\n",
      "0             age   7.810241\n",
      "1             job   2.075253\n",
      "2         marital   4.973351\n",
      "3       education   4.199319\n",
      "4         default   1.406704\n",
      "5         housing   2.177015\n",
      "6            loan   1.207242\n",
      "7         contact   2.495008\n",
      "8           month   5.782396\n",
      "9     day_of_week   3.034399\n",
      "10       duration   3.098744\n",
      "11       campaign   3.565527\n",
      "12       previous        NaN\n",
      "13       poutcome        NaN\n",
      "14   emp.var.rate   1.409549\n",
      "15  cons.conf.idx  23.714720\n"
     ]
    }
   ],
   "source": [
    "col_list = []\n",
    "for col in data.columns:\n",
    "    if ((data[col].dtype != 'object') & (col != 'y') ):\n",
    "        col_list.append(col)\n",
    "\n",
    "X = data[col_list]\n",
    "vif_data = pd.DataFrame() \n",
    "vif_data[\"feature\"] = X.columns \n",
    "vif_data[\"VIF\"] = [variance_inflation_factor(X.values, i) \n",
    "                          for i in range(len(X.columns))] \n",
    "print(vif_data)"
   ]
  },
  {
   "cell_type": "code",
   "execution_count": 200,
   "id": "68d31ab8",
   "metadata": {
    "id": "68d31ab8"
   },
   "outputs": [],
   "source": [
    "data=data.drop(['cons.conf.idx'], axis = 1)"
   ]
  },
  {
   "cell_type": "code",
   "execution_count": 201,
   "id": "e0fcca49",
   "metadata": {
    "id": "e0fcca49",
    "outputId": "8e1bce3a-cb1a-4cc7-ed98-fb3e3b9b6307"
   },
   "outputs": [
    {
     "name": "stdout",
     "output_type": "stream",
     "text": [
      "         feature       VIF\n",
      "0            age  5.885678\n",
      "1            job  2.048592\n",
      "2        marital  4.109842\n",
      "3      education  3.947970\n",
      "4        default  1.396164\n",
      "5        housing  2.109312\n",
      "6           loan  1.202216\n",
      "7        contact  2.482415\n",
      "8          month  5.135629\n",
      "9    day_of_week  2.893530\n",
      "10      duration  2.925266\n",
      "11      campaign  3.253883\n",
      "12      previous       NaN\n",
      "13      poutcome       NaN\n",
      "14  emp.var.rate  1.405841\n"
     ]
    }
   ],
   "source": [
    "col_list = []\n",
    "for col in data.columns:\n",
    "    if ((data[col].dtype != 'object') & (col != 'y') ):\n",
    "        col_list.append(col)\n",
    "\n",
    "X = data[col_list]\n",
    "vif_data = pd.DataFrame() \n",
    "vif_data[\"feature\"] = X.columns \n",
    "vif_data[\"VIF\"] = [variance_inflation_factor(X.values, i) \n",
    "                          for i in range(len(X.columns))] \n",
    "print(vif_data)"
   ]
  },
  {
   "cell_type": "code",
   "execution_count": 202,
   "id": "d045e35a",
   "metadata": {
    "id": "d045e35a"
   },
   "outputs": [],
   "source": [
    "data=data.drop(['previous','poutcome'], axis = 1)  # Removing the columns because of Nan as the VIF"
   ]
  },
  {
   "cell_type": "code",
   "execution_count": 203,
   "id": "9753a0cc",
   "metadata": {
    "id": "9753a0cc",
    "outputId": "f96f3810-970f-41b9-bb74-775ad2c3be42"
   },
   "outputs": [
    {
     "name": "stdout",
     "output_type": "stream",
     "text": [
      "         feature       VIF\n",
      "0            age  5.885678\n",
      "1            job  2.048592\n",
      "2        marital  4.109842\n",
      "3      education  3.947970\n",
      "4        default  1.396164\n",
      "5        housing  2.109312\n",
      "6           loan  1.202216\n",
      "7        contact  2.482415\n",
      "8          month  5.135629\n",
      "9    day_of_week  2.893530\n",
      "10      duration  2.925266\n",
      "11      campaign  3.253883\n",
      "12  emp.var.rate  1.405841\n"
     ]
    }
   ],
   "source": [
    "col_list = []\n",
    "for col in data.columns:\n",
    "    if ((data[col].dtype != 'object') & (col != 'y') ):\n",
    "        col_list.append(col)\n",
    "\n",
    "X = data[col_list]\n",
    "vif_data = pd.DataFrame() \n",
    "vif_data[\"feature\"] = X.columns \n",
    "vif_data[\"VIF\"] = [variance_inflation_factor(X.values, i) \n",
    "                          for i in range(len(X.columns))] \n",
    "print(vif_data)"
   ]
  },
  {
   "cell_type": "code",
   "execution_count": 95,
   "id": "4f53a926",
   "metadata": {
    "id": "4f53a926"
   },
   "outputs": [],
   "source": [
    "#data.to_csv('C:\\\\Users\\\\lenovo\\\\Downloads\\\\new_data.csv')\n",
    "#export csv file to the system"
   ]
  },
  {
   "cell_type": "code",
   "execution_count": 204,
   "id": "44336641",
   "metadata": {
    "id": "44336641",
    "outputId": "491dc60b-1c1a-48c9-8532-9984665d4836"
   },
   "outputs": [
    {
     "data": {
      "text/plain": [
       "0              age\n",
       "1              job\n",
       "2          marital\n",
       "3        education\n",
       "4          default\n",
       "5          housing\n",
       "6             loan\n",
       "7          contact\n",
       "8            month\n",
       "9      day_of_week\n",
       "10        duration\n",
       "11        campaign\n",
       "12    emp.var.rate\n",
       "Name: feature, dtype: object"
      ]
     },
     "execution_count": 204,
     "metadata": {},
     "output_type": "execute_result"
    }
   ],
   "source": [
    "vif_data.feature"
   ]
  },
  {
   "cell_type": "code",
   "execution_count": 205,
   "id": "68d6f219",
   "metadata": {
    "id": "68d6f219",
    "outputId": "ea72eee7-c4f1-482d-ca0d-affc6b6d750f"
   },
   "outputs": [
    {
     "data": {
      "text/plain": [
       "['age',\n",
       " 'job',\n",
       " 'marital',\n",
       " 'education',\n",
       " 'default',\n",
       " 'housing',\n",
       " 'loan',\n",
       " 'contact',\n",
       " 'month',\n",
       " 'day_of_week',\n",
       " 'duration',\n",
       " 'campaign',\n",
       " 'emp.var.rate']"
      ]
     },
     "execution_count": 205,
     "metadata": {},
     "output_type": "execute_result"
    }
   ],
   "source": [
    "Ind_Features = list(vif_data.feature)\n",
    "Ind_Features"
   ]
  },
  {
   "cell_type": "code",
   "execution_count": 206,
   "id": "fe9bcae5",
   "metadata": {
    "id": "fe9bcae5",
    "outputId": "d26d3df7-1a17-4a26-90bc-35c006133ab6"
   },
   "outputs": [
    {
     "data": {
      "text/html": [
       "<div>\n",
       "<style scoped>\n",
       "    .dataframe tbody tr th:only-of-type {\n",
       "        vertical-align: middle;\n",
       "    }\n",
       "\n",
       "    .dataframe tbody tr th {\n",
       "        vertical-align: top;\n",
       "    }\n",
       "\n",
       "    .dataframe thead th {\n",
       "        text-align: right;\n",
       "    }\n",
       "</style>\n",
       "<table border=\"1\" class=\"dataframe\">\n",
       "  <thead>\n",
       "    <tr style=\"text-align: right;\">\n",
       "      <th></th>\n",
       "      <th>age</th>\n",
       "      <th>job</th>\n",
       "      <th>marital</th>\n",
       "      <th>education</th>\n",
       "      <th>default</th>\n",
       "      <th>housing</th>\n",
       "      <th>loan</th>\n",
       "      <th>contact</th>\n",
       "      <th>month</th>\n",
       "      <th>day_of_week</th>\n",
       "      <th>duration</th>\n",
       "      <th>campaign</th>\n",
       "      <th>emp.var.rate</th>\n",
       "    </tr>\n",
       "  </thead>\n",
       "  <tbody>\n",
       "    <tr>\n",
       "      <th>0</th>\n",
       "      <td>2</td>\n",
       "      <td>3</td>\n",
       "      <td>1</td>\n",
       "      <td>0</td>\n",
       "      <td>0</td>\n",
       "      <td>0</td>\n",
       "      <td>0</td>\n",
       "      <td>1</td>\n",
       "      <td>6</td>\n",
       "      <td>1</td>\n",
       "      <td>261.000000</td>\n",
       "      <td>1.000000</td>\n",
       "      <td>1.100000</td>\n",
       "    </tr>\n",
       "    <tr>\n",
       "      <th>1</th>\n",
       "      <td>2</td>\n",
       "      <td>7</td>\n",
       "      <td>1</td>\n",
       "      <td>3</td>\n",
       "      <td>1</td>\n",
       "      <td>0</td>\n",
       "      <td>0</td>\n",
       "      <td>1</td>\n",
       "      <td>6</td>\n",
       "      <td>1</td>\n",
       "      <td>149.000000</td>\n",
       "      <td>1.000000</td>\n",
       "      <td>1.100000</td>\n",
       "    </tr>\n",
       "    <tr>\n",
       "      <th>2</th>\n",
       "      <td>1</td>\n",
       "      <td>7</td>\n",
       "      <td>1</td>\n",
       "      <td>3</td>\n",
       "      <td>0</td>\n",
       "      <td>2</td>\n",
       "      <td>0</td>\n",
       "      <td>1</td>\n",
       "      <td>6</td>\n",
       "      <td>1</td>\n",
       "      <td>226.000000</td>\n",
       "      <td>1.000000</td>\n",
       "      <td>1.100000</td>\n",
       "    </tr>\n",
       "    <tr>\n",
       "      <th>3</th>\n",
       "      <td>1</td>\n",
       "      <td>0</td>\n",
       "      <td>1</td>\n",
       "      <td>1</td>\n",
       "      <td>0</td>\n",
       "      <td>0</td>\n",
       "      <td>0</td>\n",
       "      <td>1</td>\n",
       "      <td>6</td>\n",
       "      <td>1</td>\n",
       "      <td>151.000000</td>\n",
       "      <td>1.000000</td>\n",
       "      <td>1.100000</td>\n",
       "    </tr>\n",
       "    <tr>\n",
       "      <th>4</th>\n",
       "      <td>2</td>\n",
       "      <td>7</td>\n",
       "      <td>1</td>\n",
       "      <td>3</td>\n",
       "      <td>0</td>\n",
       "      <td>0</td>\n",
       "      <td>2</td>\n",
       "      <td>1</td>\n",
       "      <td>6</td>\n",
       "      <td>1</td>\n",
       "      <td>307.000000</td>\n",
       "      <td>1.000000</td>\n",
       "      <td>1.100000</td>\n",
       "    </tr>\n",
       "    <tr>\n",
       "      <th>...</th>\n",
       "      <td>...</td>\n",
       "      <td>...</td>\n",
       "      <td>...</td>\n",
       "      <td>...</td>\n",
       "      <td>...</td>\n",
       "      <td>...</td>\n",
       "      <td>...</td>\n",
       "      <td>...</td>\n",
       "      <td>...</td>\n",
       "      <td>...</td>\n",
       "      <td>...</td>\n",
       "      <td>...</td>\n",
       "      <td>...</td>\n",
       "    </tr>\n",
       "    <tr>\n",
       "      <th>41185</th>\n",
       "      <td>2</td>\n",
       "      <td>5</td>\n",
       "      <td>1</td>\n",
       "      <td>6</td>\n",
       "      <td>0</td>\n",
       "      <td>2</td>\n",
       "      <td>0</td>\n",
       "      <td>0</td>\n",
       "      <td>7</td>\n",
       "      <td>0</td>\n",
       "      <td>189.000000</td>\n",
       "      <td>2.000000</td>\n",
       "      <td>-1.100000</td>\n",
       "    </tr>\n",
       "    <tr>\n",
       "      <th>41186</th>\n",
       "      <td>1</td>\n",
       "      <td>9</td>\n",
       "      <td>1</td>\n",
       "      <td>5</td>\n",
       "      <td>0</td>\n",
       "      <td>0</td>\n",
       "      <td>0</td>\n",
       "      <td>0</td>\n",
       "      <td>7</td>\n",
       "      <td>0</td>\n",
       "      <td>442.000000</td>\n",
       "      <td>1.000000</td>\n",
       "      <td>-1.100000</td>\n",
       "    </tr>\n",
       "    <tr>\n",
       "      <th>41188</th>\n",
       "      <td>1</td>\n",
       "      <td>0</td>\n",
       "      <td>1</td>\n",
       "      <td>6</td>\n",
       "      <td>0</td>\n",
       "      <td>2</td>\n",
       "      <td>0</td>\n",
       "      <td>0</td>\n",
       "      <td>6</td>\n",
       "      <td>1</td>\n",
       "      <td>204.932576</td>\n",
       "      <td>2.081555</td>\n",
       "      <td>0.388261</td>\n",
       "    </tr>\n",
       "    <tr>\n",
       "      <th>41191</th>\n",
       "      <td>1</td>\n",
       "      <td>0</td>\n",
       "      <td>1</td>\n",
       "      <td>6</td>\n",
       "      <td>0</td>\n",
       "      <td>2</td>\n",
       "      <td>0</td>\n",
       "      <td>0</td>\n",
       "      <td>6</td>\n",
       "      <td>1</td>\n",
       "      <td>204.932576</td>\n",
       "      <td>2.081555</td>\n",
       "      <td>0.388261</td>\n",
       "    </tr>\n",
       "    <tr>\n",
       "      <th>41197</th>\n",
       "      <td>1</td>\n",
       "      <td>0</td>\n",
       "      <td>1</td>\n",
       "      <td>6</td>\n",
       "      <td>0</td>\n",
       "      <td>2</td>\n",
       "      <td>0</td>\n",
       "      <td>0</td>\n",
       "      <td>6</td>\n",
       "      <td>1</td>\n",
       "      <td>204.932576</td>\n",
       "      <td>2.081555</td>\n",
       "      <td>0.388261</td>\n",
       "    </tr>\n",
       "  </tbody>\n",
       "</table>\n",
       "<p>30363 rows × 13 columns</p>\n",
       "</div>"
      ],
      "text/plain": [
       "       age  job  marital  education  default  housing  loan  contact  month  \\\n",
       "0        2    3        1          0        0        0     0        1      6   \n",
       "1        2    7        1          3        1        0     0        1      6   \n",
       "2        1    7        1          3        0        2     0        1      6   \n",
       "3        1    0        1          1        0        0     0        1      6   \n",
       "4        2    7        1          3        0        0     2        1      6   \n",
       "...    ...  ...      ...        ...      ...      ...   ...      ...    ...   \n",
       "41185    2    5        1          6        0        2     0        0      7   \n",
       "41186    1    9        1          5        0        0     0        0      7   \n",
       "41188    1    0        1          6        0        2     0        0      6   \n",
       "41191    1    0        1          6        0        2     0        0      6   \n",
       "41197    1    0        1          6        0        2     0        0      6   \n",
       "\n",
       "       day_of_week    duration  campaign  emp.var.rate  \n",
       "0                1  261.000000  1.000000      1.100000  \n",
       "1                1  149.000000  1.000000      1.100000  \n",
       "2                1  226.000000  1.000000      1.100000  \n",
       "3                1  151.000000  1.000000      1.100000  \n",
       "4                1  307.000000  1.000000      1.100000  \n",
       "...            ...         ...       ...           ...  \n",
       "41185            0  189.000000  2.000000     -1.100000  \n",
       "41186            0  442.000000  1.000000     -1.100000  \n",
       "41188            1  204.932576  2.081555      0.388261  \n",
       "41191            1  204.932576  2.081555      0.388261  \n",
       "41197            1  204.932576  2.081555      0.388261  \n",
       "\n",
       "[30363 rows x 13 columns]"
      ]
     },
     "execution_count": 206,
     "metadata": {},
     "output_type": "execute_result"
    }
   ],
   "source": [
    "df_ind = data[Ind_Features]  # All the truly independent columns \n",
    "df_ind"
   ]
  },
  {
   "cell_type": "code",
   "execution_count": 207,
   "id": "118be5af",
   "metadata": {
    "id": "118be5af",
    "outputId": "12888c27-289e-4d9c-ca51-099f2dcf0ba1"
   },
   "outputs": [
    {
     "data": {
      "text/plain": [
       "0        0\n",
       "1        0\n",
       "2        0\n",
       "3        0\n",
       "4        0\n",
       "        ..\n",
       "41185    0\n",
       "41186    1\n",
       "41188    0\n",
       "41191    0\n",
       "41197    0\n",
       "Name: y, Length: 30363, dtype: object"
      ]
     },
     "execution_count": 207,
     "metadata": {},
     "output_type": "execute_result"
    }
   ],
   "source": [
    "df_dep = data['y']\n",
    "df_dep"
   ]
  },
  {
   "cell_type": "code",
   "execution_count": 208,
   "id": "70da8aed",
   "metadata": {
    "id": "70da8aed",
    "outputId": "21b5f877-e117-40c9-d257-227d8b33378f"
   },
   "outputs": [
    {
     "data": {
      "text/plain": [
       "age               int32\n",
       "job               int32\n",
       "marital           int32\n",
       "education         int32\n",
       "default           int32\n",
       "housing           int32\n",
       "loan              int32\n",
       "contact           int32\n",
       "month             int32\n",
       "day_of_week       int32\n",
       "duration        float64\n",
       "campaign        float64\n",
       "emp.var.rate    float64\n",
       "dtype: object"
      ]
     },
     "execution_count": 208,
     "metadata": {},
     "output_type": "execute_result"
    }
   ],
   "source": [
    "df_ind.dtypes"
   ]
  },
  {
   "cell_type": "code",
   "execution_count": 221,
   "id": "3c4089f5",
   "metadata": {
    "id": "3c4089f5"
   },
   "outputs": [],
   "source": [
    "from sklearn.model_selection import train_test_split\n",
    "x_train, x_test, y_train, y_test = train_test_split(df_ind, df_dep, test_size=0.25, random_state=100)\n",
    "# random state --> Select the data based upon the pattern"
   ]
  },
  {
   "cell_type": "code",
   "execution_count": 222,
   "id": "ed9520c9",
   "metadata": {
    "id": "ed9520c9",
    "outputId": "5ac8e219-b410-4884-9bb8-6f430da41adf"
   },
   "outputs": [
    {
     "data": {
      "text/html": [
       "<div>\n",
       "<style scoped>\n",
       "    .dataframe tbody tr th:only-of-type {\n",
       "        vertical-align: middle;\n",
       "    }\n",
       "\n",
       "    .dataframe tbody tr th {\n",
       "        vertical-align: top;\n",
       "    }\n",
       "\n",
       "    .dataframe thead th {\n",
       "        text-align: right;\n",
       "    }\n",
       "</style>\n",
       "<table border=\"1\" class=\"dataframe\">\n",
       "  <thead>\n",
       "    <tr style=\"text-align: right;\">\n",
       "      <th></th>\n",
       "      <th>age</th>\n",
       "      <th>job</th>\n",
       "      <th>marital</th>\n",
       "      <th>education</th>\n",
       "      <th>default</th>\n",
       "      <th>housing</th>\n",
       "      <th>loan</th>\n",
       "      <th>contact</th>\n",
       "      <th>month</th>\n",
       "      <th>day_of_week</th>\n",
       "      <th>duration</th>\n",
       "      <th>campaign</th>\n",
       "      <th>emp.var.rate</th>\n",
       "    </tr>\n",
       "  </thead>\n",
       "  <tbody>\n",
       "    <tr>\n",
       "      <th>19068</th>\n",
       "      <td>2</td>\n",
       "      <td>5</td>\n",
       "      <td>1</td>\n",
       "      <td>6</td>\n",
       "      <td>0</td>\n",
       "      <td>2</td>\n",
       "      <td>0</td>\n",
       "      <td>0</td>\n",
       "      <td>1</td>\n",
       "      <td>3</td>\n",
       "      <td>163.0</td>\n",
       "      <td>1.0</td>\n",
       "      <td>1.4</td>\n",
       "    </tr>\n",
       "    <tr>\n",
       "      <th>27137</th>\n",
       "      <td>1</td>\n",
       "      <td>1</td>\n",
       "      <td>2</td>\n",
       "      <td>0</td>\n",
       "      <td>0</td>\n",
       "      <td>0</td>\n",
       "      <td>0</td>\n",
       "      <td>0</td>\n",
       "      <td>7</td>\n",
       "      <td>0</td>\n",
       "      <td>60.0</td>\n",
       "      <td>1.0</td>\n",
       "      <td>-0.1</td>\n",
       "    </tr>\n",
       "    <tr>\n",
       "      <th>18208</th>\n",
       "      <td>1</td>\n",
       "      <td>0</td>\n",
       "      <td>2</td>\n",
       "      <td>3</td>\n",
       "      <td>0</td>\n",
       "      <td>0</td>\n",
       "      <td>2</td>\n",
       "      <td>0</td>\n",
       "      <td>3</td>\n",
       "      <td>4</td>\n",
       "      <td>233.0</td>\n",
       "      <td>3.0</td>\n",
       "      <td>1.4</td>\n",
       "    </tr>\n",
       "    <tr>\n",
       "      <th>36524</th>\n",
       "      <td>2</td>\n",
       "      <td>0</td>\n",
       "      <td>1</td>\n",
       "      <td>6</td>\n",
       "      <td>0</td>\n",
       "      <td>2</td>\n",
       "      <td>0</td>\n",
       "      <td>0</td>\n",
       "      <td>4</td>\n",
       "      <td>4</td>\n",
       "      <td>151.0</td>\n",
       "      <td>1.0</td>\n",
       "      <td>-2.9</td>\n",
       "    </tr>\n",
       "    <tr>\n",
       "      <th>7972</th>\n",
       "      <td>2</td>\n",
       "      <td>1</td>\n",
       "      <td>1</td>\n",
       "      <td>0</td>\n",
       "      <td>0</td>\n",
       "      <td>0</td>\n",
       "      <td>0</td>\n",
       "      <td>1</td>\n",
       "      <td>4</td>\n",
       "      <td>1</td>\n",
       "      <td>469.0</td>\n",
       "      <td>2.0</td>\n",
       "      <td>1.4</td>\n",
       "    </tr>\n",
       "  </tbody>\n",
       "</table>\n",
       "</div>"
      ],
      "text/plain": [
       "       age  job  marital  education  default  housing  loan  contact  month  \\\n",
       "19068    2    5        1          6        0        2     0        0      1   \n",
       "27137    1    1        2          0        0        0     0        0      7   \n",
       "18208    1    0        2          3        0        0     2        0      3   \n",
       "36524    2    0        1          6        0        2     0        0      4   \n",
       "7972     2    1        1          0        0        0     0        1      4   \n",
       "\n",
       "       day_of_week  duration  campaign  emp.var.rate  \n",
       "19068            3     163.0       1.0           1.4  \n",
       "27137            0      60.0       1.0          -0.1  \n",
       "18208            4     233.0       3.0           1.4  \n",
       "36524            4     151.0       1.0          -2.9  \n",
       "7972             1     469.0       2.0           1.4  "
      ]
     },
     "execution_count": 222,
     "metadata": {},
     "output_type": "execute_result"
    }
   ],
   "source": [
    "x_train.head()"
   ]
  },
  {
   "cell_type": "code",
   "execution_count": null,
   "id": "2a9b1430",
   "metadata": {},
   "outputs": [],
   "source": []
  },
  {
   "cell_type": "code",
   "execution_count": null,
   "id": "e3d1e098",
   "metadata": {
    "id": "e3d1e098"
   },
   "outputs": [],
   "source": []
  },
  {
   "cell_type": "code",
   "execution_count": null,
   "id": "99232246",
   "metadata": {
    "id": "99232246"
   },
   "outputs": [],
   "source": []
  },
  {
   "cell_type": "code",
   "execution_count": 223,
   "id": "4db94565",
   "metadata": {
    "id": "4db94565",
    "outputId": "6c404071-e041-44a9-bce4-6bdf9d19ec62"
   },
   "outputs": [
    {
     "data": {
      "text/plain": [
       "(22772, 13)"
      ]
     },
     "execution_count": 223,
     "metadata": {},
     "output_type": "execute_result"
    }
   ],
   "source": [
    "x_train.shape"
   ]
  },
  {
   "cell_type": "code",
   "execution_count": 224,
   "id": "3fc4d1aa",
   "metadata": {
    "id": "3fc4d1aa",
    "outputId": "f0d1ecec-060f-478e-f3b8-ed6ddc5241d1"
   },
   "outputs": [
    {
     "data": {
      "text/plain": [
       "(7591, 13)"
      ]
     },
     "execution_count": 224,
     "metadata": {},
     "output_type": "execute_result"
    }
   ],
   "source": [
    "x_test.shape"
   ]
  },
  {
   "cell_type": "code",
   "execution_count": 225,
   "id": "13006698",
   "metadata": {
    "id": "13006698"
   },
   "outputs": [],
   "source": [
    "from sklearn.linear_model import LogisticRegression"
   ]
  },
  {
   "cell_type": "code",
   "execution_count": 226,
   "id": "98b4b44c",
   "metadata": {
    "id": "98b4b44c"
   },
   "outputs": [],
   "source": [
    "logisticRegr = LogisticRegression()"
   ]
  },
  {
   "cell_type": "code",
   "execution_count": 227,
   "id": "13922609",
   "metadata": {
    "id": "13922609",
    "outputId": "c27b4737-e647-48ea-d2d6-caeb3f748df5"
   },
   "outputs": [
    {
     "data": {
      "text/plain": [
       "LogisticRegression()"
      ]
     },
     "execution_count": 227,
     "metadata": {},
     "output_type": "execute_result"
    }
   ],
   "source": [
    "#####Model Fitting/Training###\n",
    "logisticRegr.fit(x_train, y_train)"
   ]
  },
  {
   "cell_type": "code",
   "execution_count": 228,
   "id": "a98342ad",
   "metadata": {
    "id": "a98342ad"
   },
   "outputs": [],
   "source": [
    "test_pred = logisticRegr.predict(x_test)"
   ]
  },
  {
   "cell_type": "code",
   "execution_count": 229,
   "id": "66e784b9",
   "metadata": {
    "id": "66e784b9",
    "outputId": "a60ebf8d-13cf-4bf8-e64a-8e051041d759"
   },
   "outputs": [
    {
     "data": {
      "text/plain": [
       "array(['0', '0', '0', ..., '0', '0', '0'], dtype=object)"
      ]
     },
     "execution_count": 229,
     "metadata": {},
     "output_type": "execute_result"
    }
   ],
   "source": [
    "test_pred"
   ]
  },
  {
   "cell_type": "code",
   "execution_count": null,
   "id": "ae65c373",
   "metadata": {
    "id": "ae65c373"
   },
   "outputs": [],
   "source": []
  },
  {
   "cell_type": "code",
   "execution_count": 111,
   "id": "d09d3d63",
   "metadata": {
    "id": "d09d3d63",
    "outputId": "20f7aace-e253-4540-9502-7c7d9942b2db"
   },
   "outputs": [
    {
     "data": {
      "text/html": [
       "<div>\n",
       "<style scoped>\n",
       "    .dataframe tbody tr th:only-of-type {\n",
       "        vertical-align: middle;\n",
       "    }\n",
       "\n",
       "    .dataframe tbody tr th {\n",
       "        vertical-align: top;\n",
       "    }\n",
       "\n",
       "    .dataframe thead th {\n",
       "        text-align: right;\n",
       "    }\n",
       "</style>\n",
       "<table border=\"1\" class=\"dataframe\">\n",
       "  <thead>\n",
       "    <tr style=\"text-align: right;\">\n",
       "      <th></th>\n",
       "      <th>age</th>\n",
       "      <th>job</th>\n",
       "      <th>marital</th>\n",
       "      <th>education</th>\n",
       "      <th>default</th>\n",
       "      <th>housing</th>\n",
       "      <th>loan</th>\n",
       "      <th>contact</th>\n",
       "      <th>month</th>\n",
       "      <th>day_of_week</th>\n",
       "      <th>duration</th>\n",
       "      <th>campaign</th>\n",
       "      <th>emp.var.rate</th>\n",
       "    </tr>\n",
       "  </thead>\n",
       "  <tbody>\n",
       "    <tr>\n",
       "      <th>8772</th>\n",
       "      <td>1</td>\n",
       "      <td>1</td>\n",
       "      <td>1</td>\n",
       "      <td>0</td>\n",
       "      <td>0</td>\n",
       "      <td>0</td>\n",
       "      <td>0</td>\n",
       "      <td>1</td>\n",
       "      <td>4</td>\n",
       "      <td>2</td>\n",
       "      <td>636.0</td>\n",
       "      <td>1.0</td>\n",
       "      <td>1.4</td>\n",
       "    </tr>\n",
       "    <tr>\n",
       "      <th>4146</th>\n",
       "      <td>1</td>\n",
       "      <td>1</td>\n",
       "      <td>1</td>\n",
       "      <td>0</td>\n",
       "      <td>0</td>\n",
       "      <td>0</td>\n",
       "      <td>2</td>\n",
       "      <td>1</td>\n",
       "      <td>6</td>\n",
       "      <td>1</td>\n",
       "      <td>114.0</td>\n",
       "      <td>2.0</td>\n",
       "      <td>1.1</td>\n",
       "    </tr>\n",
       "    <tr>\n",
       "      <th>22632</th>\n",
       "      <td>2</td>\n",
       "      <td>4</td>\n",
       "      <td>1</td>\n",
       "      <td>6</td>\n",
       "      <td>0</td>\n",
       "      <td>0</td>\n",
       "      <td>0</td>\n",
       "      <td>0</td>\n",
       "      <td>1</td>\n",
       "      <td>0</td>\n",
       "      <td>511.0</td>\n",
       "      <td>3.0</td>\n",
       "      <td>1.4</td>\n",
       "    </tr>\n",
       "    <tr>\n",
       "      <th>7347</th>\n",
       "      <td>1</td>\n",
       "      <td>9</td>\n",
       "      <td>2</td>\n",
       "      <td>6</td>\n",
       "      <td>0</td>\n",
       "      <td>2</td>\n",
       "      <td>0</td>\n",
       "      <td>1</td>\n",
       "      <td>6</td>\n",
       "      <td>0</td>\n",
       "      <td>57.0</td>\n",
       "      <td>2.0</td>\n",
       "      <td>1.1</td>\n",
       "    </tr>\n",
       "    <tr>\n",
       "      <th>13183</th>\n",
       "      <td>1</td>\n",
       "      <td>0</td>\n",
       "      <td>2</td>\n",
       "      <td>3</td>\n",
       "      <td>0</td>\n",
       "      <td>0</td>\n",
       "      <td>0</td>\n",
       "      <td>0</td>\n",
       "      <td>3</td>\n",
       "      <td>4</td>\n",
       "      <td>127.0</td>\n",
       "      <td>1.0</td>\n",
       "      <td>1.4</td>\n",
       "    </tr>\n",
       "    <tr>\n",
       "      <th>...</th>\n",
       "      <td>...</td>\n",
       "      <td>...</td>\n",
       "      <td>...</td>\n",
       "      <td>...</td>\n",
       "      <td>...</td>\n",
       "      <td>...</td>\n",
       "      <td>...</td>\n",
       "      <td>...</td>\n",
       "      <td>...</td>\n",
       "      <td>...</td>\n",
       "      <td>...</td>\n",
       "      <td>...</td>\n",
       "      <td>...</td>\n",
       "    </tr>\n",
       "    <tr>\n",
       "      <th>1569</th>\n",
       "      <td>1</td>\n",
       "      <td>1</td>\n",
       "      <td>1</td>\n",
       "      <td>1</td>\n",
       "      <td>0</td>\n",
       "      <td>0</td>\n",
       "      <td>0</td>\n",
       "      <td>1</td>\n",
       "      <td>6</td>\n",
       "      <td>2</td>\n",
       "      <td>126.0</td>\n",
       "      <td>3.0</td>\n",
       "      <td>1.1</td>\n",
       "    </tr>\n",
       "    <tr>\n",
       "      <th>35206</th>\n",
       "      <td>1</td>\n",
       "      <td>5</td>\n",
       "      <td>1</td>\n",
       "      <td>3</td>\n",
       "      <td>0</td>\n",
       "      <td>2</td>\n",
       "      <td>0</td>\n",
       "      <td>0</td>\n",
       "      <td>6</td>\n",
       "      <td>0</td>\n",
       "      <td>237.0</td>\n",
       "      <td>2.0</td>\n",
       "      <td>-1.8</td>\n",
       "    </tr>\n",
       "    <tr>\n",
       "      <th>10567</th>\n",
       "      <td>2</td>\n",
       "      <td>1</td>\n",
       "      <td>1</td>\n",
       "      <td>2</td>\n",
       "      <td>1</td>\n",
       "      <td>0</td>\n",
       "      <td>0</td>\n",
       "      <td>1</td>\n",
       "      <td>4</td>\n",
       "      <td>3</td>\n",
       "      <td>72.0</td>\n",
       "      <td>1.0</td>\n",
       "      <td>1.4</td>\n",
       "    </tr>\n",
       "    <tr>\n",
       "      <th>11425</th>\n",
       "      <td>1</td>\n",
       "      <td>0</td>\n",
       "      <td>1</td>\n",
       "      <td>6</td>\n",
       "      <td>0</td>\n",
       "      <td>0</td>\n",
       "      <td>0</td>\n",
       "      <td>1</td>\n",
       "      <td>4</td>\n",
       "      <td>0</td>\n",
       "      <td>45.0</td>\n",
       "      <td>1.0</td>\n",
       "      <td>1.4</td>\n",
       "    </tr>\n",
       "    <tr>\n",
       "      <th>914</th>\n",
       "      <td>1</td>\n",
       "      <td>1</td>\n",
       "      <td>1</td>\n",
       "      <td>2</td>\n",
       "      <td>0</td>\n",
       "      <td>0</td>\n",
       "      <td>2</td>\n",
       "      <td>1</td>\n",
       "      <td>6</td>\n",
       "      <td>4</td>\n",
       "      <td>109.0</td>\n",
       "      <td>1.0</td>\n",
       "      <td>1.1</td>\n",
       "    </tr>\n",
       "  </tbody>\n",
       "</table>\n",
       "<p>7591 rows × 13 columns</p>\n",
       "</div>"
      ],
      "text/plain": [
       "       age  job  marital  education  default  housing  loan  contact  month  \\\n",
       "8772     1    1        1          0        0        0     0        1      4   \n",
       "4146     1    1        1          0        0        0     2        1      6   \n",
       "22632    2    4        1          6        0        0     0        0      1   \n",
       "7347     1    9        2          6        0        2     0        1      6   \n",
       "13183    1    0        2          3        0        0     0        0      3   \n",
       "...    ...  ...      ...        ...      ...      ...   ...      ...    ...   \n",
       "1569     1    1        1          1        0        0     0        1      6   \n",
       "35206    1    5        1          3        0        2     0        0      6   \n",
       "10567    2    1        1          2        1        0     0        1      4   \n",
       "11425    1    0        1          6        0        0     0        1      4   \n",
       "914      1    1        1          2        0        0     2        1      6   \n",
       "\n",
       "       day_of_week  duration  campaign  emp.var.rate  \n",
       "8772             2     636.0       1.0           1.4  \n",
       "4146             1     114.0       2.0           1.1  \n",
       "22632            0     511.0       3.0           1.4  \n",
       "7347             0      57.0       2.0           1.1  \n",
       "13183            4     127.0       1.0           1.4  \n",
       "...            ...       ...       ...           ...  \n",
       "1569             2     126.0       3.0           1.1  \n",
       "35206            0     237.0       2.0          -1.8  \n",
       "10567            3      72.0       1.0           1.4  \n",
       "11425            0      45.0       1.0           1.4  \n",
       "914              4     109.0       1.0           1.1  \n",
       "\n",
       "[7591 rows x 13 columns]"
      ]
     },
     "execution_count": 111,
     "metadata": {},
     "output_type": "execute_result"
    }
   ],
   "source": [
    "x_test"
   ]
  },
  {
   "cell_type": "code",
   "execution_count": 230,
   "id": "a0e1d6cb",
   "metadata": {
    "id": "a0e1d6cb",
    "outputId": "411e298b-56ca-428a-c97a-0ea02ccac532"
   },
   "outputs": [
    {
     "data": {
      "text/plain": [
       "array(['0', '0', '0', ..., '0', '0', '0'], dtype=object)"
      ]
     },
     "execution_count": 230,
     "metadata": {},
     "output_type": "execute_result"
    }
   ],
   "source": [
    "test_pred"
   ]
  },
  {
   "cell_type": "code",
   "execution_count": 232,
   "id": "7e63d46d",
   "metadata": {
    "id": "7e63d46d",
    "outputId": "6cb7b977-1b75-452b-cbf6-4a27a9b1f736"
   },
   "outputs": [
    {
     "data": {
      "text/html": [
       "<div>\n",
       "<style scoped>\n",
       "    .dataframe tbody tr th:only-of-type {\n",
       "        vertical-align: middle;\n",
       "    }\n",
       "\n",
       "    .dataframe tbody tr th {\n",
       "        vertical-align: top;\n",
       "    }\n",
       "\n",
       "    .dataframe thead th {\n",
       "        text-align: right;\n",
       "    }\n",
       "</style>\n",
       "<table border=\"1\" class=\"dataframe\">\n",
       "  <thead>\n",
       "    <tr style=\"text-align: right;\">\n",
       "      <th></th>\n",
       "      <th>0</th>\n",
       "      <th>1</th>\n",
       "    </tr>\n",
       "  </thead>\n",
       "  <tbody>\n",
       "    <tr>\n",
       "      <th>0</th>\n",
       "      <td>0.841220</td>\n",
       "      <td>0.158780</td>\n",
       "    </tr>\n",
       "    <tr>\n",
       "      <th>1</th>\n",
       "      <td>0.994753</td>\n",
       "      <td>0.005247</td>\n",
       "    </tr>\n",
       "    <tr>\n",
       "      <th>2</th>\n",
       "      <td>0.940026</td>\n",
       "      <td>0.059974</td>\n",
       "    </tr>\n",
       "    <tr>\n",
       "      <th>3</th>\n",
       "      <td>0.996527</td>\n",
       "      <td>0.003473</td>\n",
       "    </tr>\n",
       "    <tr>\n",
       "      <th>4</th>\n",
       "      <td>0.991455</td>\n",
       "      <td>0.008545</td>\n",
       "    </tr>\n",
       "    <tr>\n",
       "      <th>...</th>\n",
       "      <td>...</td>\n",
       "      <td>...</td>\n",
       "    </tr>\n",
       "    <tr>\n",
       "      <th>7586</th>\n",
       "      <td>0.993867</td>\n",
       "      <td>0.006133</td>\n",
       "    </tr>\n",
       "    <tr>\n",
       "      <th>7587</th>\n",
       "      <td>0.857221</td>\n",
       "      <td>0.142779</td>\n",
       "    </tr>\n",
       "    <tr>\n",
       "      <th>7588</th>\n",
       "      <td>0.998903</td>\n",
       "      <td>0.001097</td>\n",
       "    </tr>\n",
       "    <tr>\n",
       "      <th>7589</th>\n",
       "      <td>0.990064</td>\n",
       "      <td>0.009936</td>\n",
       "    </tr>\n",
       "    <tr>\n",
       "      <th>7590</th>\n",
       "      <td>0.994496</td>\n",
       "      <td>0.005504</td>\n",
       "    </tr>\n",
       "  </tbody>\n",
       "</table>\n",
       "<p>7591 rows × 2 columns</p>\n",
       "</div>"
      ],
      "text/plain": [
       "             0         1\n",
       "0     0.841220  0.158780\n",
       "1     0.994753  0.005247\n",
       "2     0.940026  0.059974\n",
       "3     0.996527  0.003473\n",
       "4     0.991455  0.008545\n",
       "...        ...       ...\n",
       "7586  0.993867  0.006133\n",
       "7587  0.857221  0.142779\n",
       "7588  0.998903  0.001097\n",
       "7589  0.990064  0.009936\n",
       "7590  0.994496  0.005504\n",
       "\n",
       "[7591 rows x 2 columns]"
      ]
     },
     "execution_count": 232,
     "metadata": {},
     "output_type": "execute_result"
    }
   ],
   "source": [
    "pd.DataFrame(logisticRegr.predict_proba(x_test))"
   ]
  },
  {
   "cell_type": "code",
   "execution_count": 114,
   "id": "3fa6a245",
   "metadata": {
    "id": "3fa6a245"
   },
   "outputs": [],
   "source": [
    "# Classification model --> accuracy_score(), confusion matrix, classification report"
   ]
  },
  {
   "cell_type": "code",
   "execution_count": 233,
   "id": "f59b1c7d",
   "metadata": {
    "id": "f59b1c7d"
   },
   "outputs": [],
   "source": [
    "from sklearn.metrics import confusion_matrix, accuracy_score"
   ]
  },
  {
   "cell_type": "code",
   "execution_count": 234,
   "id": "eb4b5495",
   "metadata": {
    "id": "eb4b5495"
   },
   "outputs": [
    {
     "data": {
      "text/plain": [
       "'\\nPredicted   P\\tN\\n                1  0\\n                y  n\\nActual  1  Py \\tTP\\tFN\\n        0 Nn  \\tFP\\tTN\\n          \\n          #Sensitivity=TP/TP+FN  # pREDICTION --> tRUE, 1\\n          #Specificity=TN/TN+FP    pREDICTION --> tRUE, 0\\n'"
      ]
     },
     "execution_count": 234,
     "metadata": {},
     "output_type": "execute_result"
    }
   ],
   "source": [
    "'''\n",
    "Predicted   P\tN\n",
    "                1  0\n",
    "                y  n\n",
    "Actual  1  Py \tTP\tFN\n",
    "        0 Nn  \tFP\tTN\n",
    "          \n",
    "          #Sensitivity=TP/TP+FN  # pREDICTION --> tRUE, 1\n",
    "          #Specificity=TN/TN+FP    pREDICTION --> tRUE, 0\n",
    "'''  # accuracy ---> (  TP+TN)/(Total)"
   ]
  },
  {
   "cell_type": "code",
   "execution_count": 235,
   "id": "c4a3a5db",
   "metadata": {
    "id": "c4a3a5db",
    "outputId": "35b7c72a-12df-4e37-8e57-681f9d7691a0"
   },
   "outputs": [
    {
     "data": {
      "text/plain": [
       "array([[7121,   89],\n",
       "       [ 315,   66]], dtype=int64)"
      ]
     },
     "execution_count": 235,
     "metadata": {},
     "output_type": "execute_result"
    }
   ],
   "source": [
    "c1=confusion_matrix(y_test,test_pred)\n",
    "c1"
   ]
  },
  {
   "cell_type": "code",
   "execution_count": null,
   "id": "19329732",
   "metadata": {},
   "outputs": [],
   "source": [
    "# 7121 --> TN, 89 --> FN, 315 --> FP, 66 --> TP"
   ]
  },
  {
   "cell_type": "code",
   "execution_count": 239,
   "id": "9efd1528",
   "metadata": {},
   "outputs": [
    {
     "data": {
      "text/plain": [
       "0.957638515330823"
      ]
     },
     "execution_count": 239,
     "metadata": {},
     "output_type": "execute_result"
    }
   ],
   "source": [
    "7121/(7121+315)"
   ]
  },
  {
   "cell_type": "code",
   "execution_count": 119,
   "id": "e-5iMDcXErh4",
   "metadata": {
    "colab": {
     "base_uri": "https://localhost:8080/"
    },
    "id": "e-5iMDcXErh4",
    "outputId": "dba31738-c593-400c-8555-ff492ba4eced"
   },
   "outputs": [
    {
     "data": {
      "text/plain": [
       "0.9436174417072849"
      ]
     },
     "execution_count": 119,
     "metadata": {},
     "output_type": "execute_result"
    }
   ],
   "source": [
    "(7095+68)/(7093+72+357+69)\n",
    "# indirect way of finding accuracy"
   ]
  },
  {
   "cell_type": "code",
   "execution_count": 251,
   "id": "ebb81790",
   "metadata": {
    "id": "ebb81790",
    "outputId": "26ff37e8-a535-4a13-c5bf-d73f216a18b3"
   },
   "outputs": [
    {
     "data": {
      "text/plain": [
       "0.957638515330823"
      ]
     },
     "execution_count": 251,
     "metadata": {},
     "output_type": "execute_result"
    }
   ],
   "source": [
    "sen=c1[0,0]/(c1[0,0]+c1[1,0])  # TN/TN+TP\n",
    "sen\n",
    "# how much % the model predected correct data\n",
    "# 95% the model has predicted correctly\n",
    "#1---1\n",
    "#0---0"
   ]
  },
  {
   "cell_type": "code",
   "execution_count": null,
   "id": "913e5bc6",
   "metadata": {
    "id": "913e5bc6",
    "outputId": "a2a2b45a-bb8d-4c36-8114-e610807cbbb1"
   },
   "outputs": [],
   "source": []
  },
  {
   "cell_type": "code",
   "execution_count": 252,
   "id": "783523cb",
   "metadata": {
    "id": "783523cb",
    "outputId": "e13ecf78-a2ba-4aa0-9ff4-2c0233b5cd67"
   },
   "outputs": [
    {
     "data": {
      "text/plain": [
       "0.946779080490054"
      ]
     },
     "execution_count": 252,
     "metadata": {},
     "output_type": "execute_result"
    }
   ],
   "source": [
    "accuracy_score(y_test,test_pred)"
   ]
  },
  {
   "cell_type": "code",
   "execution_count": 240,
   "id": "5bebb481",
   "metadata": {},
   "outputs": [],
   "source": [
    "# pRECISION --> Correct prediction --> TP/TP+FP --> specificity\n",
    "# Recall --> Only the actual positive predictions --> TP/TP+FN   --> Sensitivity\n",
    "# F1-score --> Average of recall and precision\n",
    "# Support --> The count of occurence"
   ]
  },
  {
   "cell_type": "code",
   "execution_count": null,
   "id": "85d8a948",
   "metadata": {},
   "outputs": [],
   "source": []
  },
  {
   "cell_type": "code",
   "execution_count": 241,
   "id": "52d187ce",
   "metadata": {
    "id": "52d187ce"
   },
   "outputs": [
    {
     "name": "stdout",
     "output_type": "stream",
     "text": [
      "              precision    recall  f1-score   support\n",
      "\n",
      "           0       0.96      0.99      0.97      7210\n",
      "           1       0.43      0.17      0.25       381\n",
      "\n",
      "    accuracy                           0.95      7591\n",
      "   macro avg       0.69      0.58      0.61      7591\n",
      "weighted avg       0.93      0.95      0.94      7591\n",
      "\n"
     ]
    }
   ],
   "source": [
    "from sklearn.metrics import classification_report\n",
    "print(classification_report(y_test,test_pred))"
   ]
  },
  {
   "cell_type": "code",
   "execution_count": 245,
   "id": "0815c5d1",
   "metadata": {},
   "outputs": [
    {
     "data": {
      "text/plain": [
       "0.24366666666666667"
      ]
     },
     "execution_count": 245,
     "metadata": {},
     "output_type": "execute_result"
    }
   ],
   "source": [
    "# (0.43+0.17)/2\n",
    "(2*(0.43*0.17))/(0.43+0.17) # Harmonic mean"
   ]
  },
  {
   "cell_type": "code",
   "execution_count": 246,
   "id": "0166b0e3",
   "metadata": {},
   "outputs": [
    {
     "data": {
      "text/plain": [
       "0    28708\n",
       "1     1655\n",
       "Name: y, dtype: int64"
      ]
     },
     "execution_count": 246,
     "metadata": {},
     "output_type": "execute_result"
    }
   ],
   "source": [
    "data['y'].value_counts()"
   ]
  },
  {
   "cell_type": "code",
   "execution_count": 249,
   "id": "06b13df7",
   "metadata": {},
   "outputs": [],
   "source": [
    "test_pred1 = pd.Series(test_pred)"
   ]
  },
  {
   "cell_type": "code",
   "execution_count": 250,
   "id": "ed935d73",
   "metadata": {},
   "outputs": [
    {
     "data": {
      "text/plain": [
       "0    7436\n",
       "1     155\n",
       "dtype: int64"
      ]
     },
     "execution_count": 250,
     "metadata": {},
     "output_type": "execute_result"
    }
   ],
   "source": [
    "test_pred1.value_counts()"
   ]
  },
  {
   "cell_type": "code",
   "execution_count": null,
   "id": "ca457422",
   "metadata": {},
   "outputs": [],
   "source": [
    "100 --> 0, 100 --> 1\n",
    "170 --> 0, 30 --> 1"
   ]
  }
 ],
 "metadata": {
  "colab": {
   "name": "Logistic Reg New  Nia.ipynb",
   "provenance": []
  },
  "kernelspec": {
   "display_name": "Python 3 (ipykernel)",
   "language": "python",
   "name": "python3"
  },
  "language_info": {
   "codemirror_mode": {
    "name": "ipython",
    "version": 3
   },
   "file_extension": ".py",
   "mimetype": "text/x-python",
   "name": "python",
   "nbconvert_exporter": "python",
   "pygments_lexer": "ipython3",
   "version": "3.9.13"
  }
 },
 "nbformat": 4,
 "nbformat_minor": 5
}
